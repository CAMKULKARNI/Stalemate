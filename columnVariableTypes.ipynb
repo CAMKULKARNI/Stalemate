{
 "cells": [
  {
   "cell_type": "code",
   "execution_count": 1,
   "metadata": {},
   "outputs": [],
   "source": [
    "import csv\n",
    "import pandas as pd\n",
    "file = \"D:\\codes_python\\sds project\\games_with_null_values.csv\""
   ]
  },
  {
   "cell_type": "code",
   "execution_count": 2,
   "metadata": {},
   "outputs": [],
   "source": [
    "games = pd.read_csv(file)"
   ]
  },
  {
   "cell_type": "code",
   "execution_count": 3,
   "metadata": {},
   "outputs": [],
   "source": [
    "games.drop([\"Unnamed: 0\"], axis = 1, inplace = True)"
   ]
  },
  {
   "cell_type": "code",
   "execution_count": 4,
   "metadata": {},
   "outputs": [
    {
     "name": "stderr",
     "output_type": "stream",
     "text": [
      "C:\\Anaconda3\\lib\\site-packages\\pandas\\core\\indexing.py:205: SettingWithCopyWarning: \n",
      "A value is trying to be set on a copy of a slice from a DataFrame\n",
      "\n",
      "See the caveats in the documentation: http://pandas.pydata.org/pandas-docs/stable/user_guide/indexing.html#returning-a-view-versus-a-copy\n",
      "  self._setitem_with_indexer(indexer, value)\n"
     ]
    }
   ],
   "source": [
    "for i in range(len(games[\"moves\"])):\n",
    "    if type(games[\"moves\"].iloc[i]) == str:\n",
    "        games[\"moves\"].iloc[i] = (games[\"moves\"].iloc[i]).split()"
   ]
  },
  {
   "cell_type": "code",
   "execution_count": 5,
   "metadata": {},
   "outputs": [
    {
     "data": {
      "text/html": [
       "<div>\n",
       "<style scoped>\n",
       "    .dataframe tbody tr th:only-of-type {\n",
       "        vertical-align: middle;\n",
       "    }\n",
       "\n",
       "    .dataframe tbody tr th {\n",
       "        vertical-align: top;\n",
       "    }\n",
       "\n",
       "    .dataframe thead th {\n",
       "        text-align: right;\n",
       "    }\n",
       "</style>\n",
       "<table border=\"1\" class=\"dataframe\">\n",
       "  <thead>\n",
       "    <tr style=\"text-align: right;\">\n",
       "      <th></th>\n",
       "      <th>id</th>\n",
       "      <th>rated</th>\n",
       "      <th>turns</th>\n",
       "      <th>victory_status</th>\n",
       "      <th>winner</th>\n",
       "      <th>increment_code</th>\n",
       "      <th>white_id</th>\n",
       "      <th>white_rating</th>\n",
       "      <th>black_id</th>\n",
       "      <th>black_rating</th>\n",
       "      <th>moves</th>\n",
       "      <th>opening_eco</th>\n",
       "      <th>opening_name</th>\n",
       "      <th>opening_ply</th>\n",
       "      <th>game_time</th>\n",
       "    </tr>\n",
       "  </thead>\n",
       "  <tbody>\n",
       "    <tr>\n",
       "      <td>0</td>\n",
       "      <td>fyfWyjj2</td>\n",
       "      <td>1.0</td>\n",
       "      <td>56.0</td>\n",
       "      <td>resign</td>\n",
       "      <td>black</td>\n",
       "      <td>10+6</td>\n",
       "      <td>mindworm</td>\n",
       "      <td>2180.0</td>\n",
       "      <td>lolmens</td>\n",
       "      <td>2134.0</td>\n",
       "      <td>[d4, Nf6, c4, c6, d5, e6, Nc3, Bb4, Bg5, Bxc3+...</td>\n",
       "      <td>A50</td>\n",
       "      <td>Slav Indian</td>\n",
       "      <td>4.0</td>\n",
       "      <td>152.045167</td>\n",
       "    </tr>\n",
       "    <tr>\n",
       "      <td>1</td>\n",
       "      <td>QmCyfnNZ</td>\n",
       "      <td>1.0</td>\n",
       "      <td>55.0</td>\n",
       "      <td>resign</td>\n",
       "      <td>white</td>\n",
       "      <td>10+0</td>\n",
       "      <td>philipp_0x</td>\n",
       "      <td>1291.0</td>\n",
       "      <td>alywezza</td>\n",
       "      <td>1326.0</td>\n",
       "      <td>[Nf3, c5, d4, cxd4, Nxd4, d5, g3, Nc6, c3, Nf6...</td>\n",
       "      <td>A04</td>\n",
       "      <td>Zukertort Opening: Sicilian Invitation</td>\n",
       "      <td>2.0</td>\n",
       "      <td>137.408000</td>\n",
       "    </tr>\n",
       "    <tr>\n",
       "      <td>2</td>\n",
       "      <td>X1hUH5gY</td>\n",
       "      <td>1.0</td>\n",
       "      <td>2.0</td>\n",
       "      <td>resign</td>\n",
       "      <td>white</td>\n",
       "      <td>180+180</td>\n",
       "      <td>chiggen</td>\n",
       "      <td>1291.0</td>\n",
       "      <td>drakon1</td>\n",
       "      <td>965.0</td>\n",
       "      <td>[e4, d5]</td>\n",
       "      <td>B01</td>\n",
       "      <td>Scandinavian Defense</td>\n",
       "      <td>2.0</td>\n",
       "      <td>0.929667</td>\n",
       "    </tr>\n",
       "    <tr>\n",
       "      <td>3</td>\n",
       "      <td>xfD25ZBl</td>\n",
       "      <td>1.0</td>\n",
       "      <td>111.0</td>\n",
       "      <td>resign</td>\n",
       "      <td>white</td>\n",
       "      <td>9+5</td>\n",
       "      <td>khelil</td>\n",
       "      <td>1611.0</td>\n",
       "      <td>gleb763</td>\n",
       "      <td>1418.0</td>\n",
       "      <td>[e4, e5, Bc4, c6, Qh5, d5, exd5, cxd5, Bb5+, N...</td>\n",
       "      <td>C23</td>\n",
       "      <td>Bishop's Opening: Philidor Counterattack</td>\n",
       "      <td>4.0</td>\n",
       "      <td>169.290000</td>\n",
       "    </tr>\n",
       "    <tr>\n",
       "      <td>4</td>\n",
       "      <td>BFo44qd4</td>\n",
       "      <td>1.0</td>\n",
       "      <td>25.0</td>\n",
       "      <td>mate</td>\n",
       "      <td>white</td>\n",
       "      <td>10+0</td>\n",
       "      <td>elvis1997</td>\n",
       "      <td>2168.0</td>\n",
       "      <td>kabuto87</td>\n",
       "      <td>1650.0</td>\n",
       "      <td>[e4, Nc6, d4, d5, e5, Qd7, Be2, Qe6, c4, dxc4,...</td>\n",
       "      <td>B00</td>\n",
       "      <td>Nimzowitsch Defense: Scandinavian Variation | ...</td>\n",
       "      <td>5.0</td>\n",
       "      <td>49.667500</td>\n",
       "    </tr>\n",
       "    <tr>\n",
       "      <td>...</td>\n",
       "      <td>...</td>\n",
       "      <td>...</td>\n",
       "      <td>...</td>\n",
       "      <td>...</td>\n",
       "      <td>...</td>\n",
       "      <td>...</td>\n",
       "      <td>...</td>\n",
       "      <td>...</td>\n",
       "      <td>...</td>\n",
       "      <td>...</td>\n",
       "      <td>...</td>\n",
       "      <td>...</td>\n",
       "      <td>...</td>\n",
       "      <td>...</td>\n",
       "      <td>...</td>\n",
       "    </tr>\n",
       "    <tr>\n",
       "      <td>9362</td>\n",
       "      <td>eBZNlH7w</td>\n",
       "      <td>1.0</td>\n",
       "      <td>55.0</td>\n",
       "      <td>resign</td>\n",
       "      <td>black</td>\n",
       "      <td>20+0</td>\n",
       "      <td>sdmabunda</td>\n",
       "      <td>1518.0</td>\n",
       "      <td>rehcsif6rehcsif</td>\n",
       "      <td>1546.0</td>\n",
       "      <td>[e4, e5, Nf3, Nc6, Bb5, a6, Bxc6, dxc6, Nxe5, ...</td>\n",
       "      <td>C68</td>\n",
       "      <td>Ruy Lopez: Exchange Variation</td>\n",
       "      <td>7.0</td>\n",
       "      <td>181.858500</td>\n",
       "    </tr>\n",
       "    <tr>\n",
       "      <td>9363</td>\n",
       "      <td>MtDU2OuN</td>\n",
       "      <td>1.0</td>\n",
       "      <td>30.0</td>\n",
       "      <td>mate</td>\n",
       "      <td>black</td>\n",
       "      <td>20+5</td>\n",
       "      <td>aradov</td>\n",
       "      <td>1060.0</td>\n",
       "      <td>rodrigowski19</td>\n",
       "      <td>1202.0</td>\n",
       "      <td>[e4, c5, d4, cxd4, Qxd4, Nc6, Qe3, Nf6, Nf3, d...</td>\n",
       "      <td>B21</td>\n",
       "      <td>Sicilian Defense: Smith-Morra Gambit #2</td>\n",
       "      <td>3.0</td>\n",
       "      <td>32.038167</td>\n",
       "    </tr>\n",
       "    <tr>\n",
       "      <td>9364</td>\n",
       "      <td>wL5yxYVK</td>\n",
       "      <td>1.0</td>\n",
       "      <td>61.0</td>\n",
       "      <td>resign</td>\n",
       "      <td>white</td>\n",
       "      <td>15+15</td>\n",
       "      <td>azomio</td>\n",
       "      <td>1410.0</td>\n",
       "      <td>karanlikyol</td>\n",
       "      <td>1355.0</td>\n",
       "      <td>[f4, f6, e3, e5, fxe5, fxe5, Qh5+, g6, Qxe5+, ...</td>\n",
       "      <td>A02</td>\n",
       "      <td>Bird Opening</td>\n",
       "      <td>1.0</td>\n",
       "      <td>157.164167</td>\n",
       "    </tr>\n",
       "    <tr>\n",
       "      <td>9365</td>\n",
       "      <td>ayNGChBy</td>\n",
       "      <td>1.0</td>\n",
       "      <td>79.0</td>\n",
       "      <td>resign</td>\n",
       "      <td>black</td>\n",
       "      <td>10+0</td>\n",
       "      <td>dastan-2009</td>\n",
       "      <td>1593.0</td>\n",
       "      <td>summu</td>\n",
       "      <td>1885.0</td>\n",
       "      <td>[e4, c5, Nf3, d6, d4, cxd4, Nxd4, Nf6, Nc3, a6...</td>\n",
       "      <td>B90</td>\n",
       "      <td>Sicilian Defense: Najdorf Variation |  English...</td>\n",
       "      <td>11.0</td>\n",
       "      <td>86.955000</td>\n",
       "    </tr>\n",
       "    <tr>\n",
       "      <td>9366</td>\n",
       "      <td>W1fKatN0</td>\n",
       "      <td>0.0</td>\n",
       "      <td>41.0</td>\n",
       "      <td>resign</td>\n",
       "      <td>black</td>\n",
       "      <td>30+0</td>\n",
       "      <td>bronyaurstomp</td>\n",
       "      <td>1264.0</td>\n",
       "      <td>jeswalace333</td>\n",
       "      <td>1500.0</td>\n",
       "      <td>[b4, d5, d4, Nf6, Nf3, Nbd7, Nc3, e6, a3, g6, ...</td>\n",
       "      <td>A00</td>\n",
       "      <td>Polish Opening</td>\n",
       "      <td>1.0</td>\n",
       "      <td>117.543000</td>\n",
       "    </tr>\n",
       "  </tbody>\n",
       "</table>\n",
       "<p>9367 rows × 15 columns</p>\n",
       "</div>"
      ],
      "text/plain": [
       "            id  rated  turns victory_status winner increment_code  \\\n",
       "0     fyfWyjj2    1.0   56.0         resign  black           10+6   \n",
       "1     QmCyfnNZ    1.0   55.0         resign  white           10+0   \n",
       "2     X1hUH5gY    1.0    2.0         resign  white        180+180   \n",
       "3     xfD25ZBl    1.0  111.0         resign  white            9+5   \n",
       "4     BFo44qd4    1.0   25.0           mate  white           10+0   \n",
       "...        ...    ...    ...            ...    ...            ...   \n",
       "9362  eBZNlH7w    1.0   55.0         resign  black           20+0   \n",
       "9363  MtDU2OuN    1.0   30.0           mate  black           20+5   \n",
       "9364  wL5yxYVK    1.0   61.0         resign  white          15+15   \n",
       "9365  ayNGChBy    1.0   79.0         resign  black           10+0   \n",
       "9366  W1fKatN0    0.0   41.0         resign  black           30+0   \n",
       "\n",
       "           white_id  white_rating         black_id  black_rating  \\\n",
       "0          mindworm        2180.0          lolmens        2134.0   \n",
       "1        philipp_0x        1291.0         alywezza        1326.0   \n",
       "2           chiggen        1291.0          drakon1         965.0   \n",
       "3            khelil        1611.0          gleb763        1418.0   \n",
       "4         elvis1997        2168.0         kabuto87        1650.0   \n",
       "...             ...           ...              ...           ...   \n",
       "9362      sdmabunda        1518.0  rehcsif6rehcsif        1546.0   \n",
       "9363         aradov        1060.0    rodrigowski19        1202.0   \n",
       "9364         azomio        1410.0      karanlikyol        1355.0   \n",
       "9365    dastan-2009        1593.0            summu        1885.0   \n",
       "9366  bronyaurstomp        1264.0     jeswalace333        1500.0   \n",
       "\n",
       "                                                  moves opening_eco  \\\n",
       "0     [d4, Nf6, c4, c6, d5, e6, Nc3, Bb4, Bg5, Bxc3+...         A50   \n",
       "1     [Nf3, c5, d4, cxd4, Nxd4, d5, g3, Nc6, c3, Nf6...         A04   \n",
       "2                                              [e4, d5]         B01   \n",
       "3     [e4, e5, Bc4, c6, Qh5, d5, exd5, cxd5, Bb5+, N...         C23   \n",
       "4     [e4, Nc6, d4, d5, e5, Qd7, Be2, Qe6, c4, dxc4,...         B00   \n",
       "...                                                 ...         ...   \n",
       "9362  [e4, e5, Nf3, Nc6, Bb5, a6, Bxc6, dxc6, Nxe5, ...         C68   \n",
       "9363  [e4, c5, d4, cxd4, Qxd4, Nc6, Qe3, Nf6, Nf3, d...         B21   \n",
       "9364  [f4, f6, e3, e5, fxe5, fxe5, Qh5+, g6, Qxe5+, ...         A02   \n",
       "9365  [e4, c5, Nf3, d6, d4, cxd4, Nxd4, Nf6, Nc3, a6...         B90   \n",
       "9366  [b4, d5, d4, Nf6, Nf3, Nbd7, Nc3, e6, a3, g6, ...         A00   \n",
       "\n",
       "                                           opening_name  opening_ply  \\\n",
       "0                                           Slav Indian          4.0   \n",
       "1                Zukertort Opening: Sicilian Invitation          2.0   \n",
       "2                                  Scandinavian Defense          2.0   \n",
       "3              Bishop's Opening: Philidor Counterattack          4.0   \n",
       "4     Nimzowitsch Defense: Scandinavian Variation | ...          5.0   \n",
       "...                                                 ...          ...   \n",
       "9362                      Ruy Lopez: Exchange Variation          7.0   \n",
       "9363            Sicilian Defense: Smith-Morra Gambit #2          3.0   \n",
       "9364                                       Bird Opening          1.0   \n",
       "9365  Sicilian Defense: Najdorf Variation |  English...         11.0   \n",
       "9366                                     Polish Opening          1.0   \n",
       "\n",
       "       game_time  \n",
       "0     152.045167  \n",
       "1     137.408000  \n",
       "2       0.929667  \n",
       "3     169.290000  \n",
       "4      49.667500  \n",
       "...          ...  \n",
       "9362  181.858500  \n",
       "9363   32.038167  \n",
       "9364  157.164167  \n",
       "9365   86.955000  \n",
       "9366  117.543000  \n",
       "\n",
       "[9367 rows x 15 columns]"
      ]
     },
     "execution_count": 5,
     "metadata": {},
     "output_type": "execute_result"
    }
   ],
   "source": [
    "games"
   ]
  },
  {
   "cell_type": "code",
   "execution_count": 6,
   "metadata": {},
   "outputs": [
    {
     "data": {
      "text/html": [
       "<div>\n",
       "<style scoped>\n",
       "    .dataframe tbody tr th:only-of-type {\n",
       "        vertical-align: middle;\n",
       "    }\n",
       "\n",
       "    .dataframe tbody tr th {\n",
       "        vertical-align: top;\n",
       "    }\n",
       "\n",
       "    .dataframe thead th {\n",
       "        text-align: right;\n",
       "    }\n",
       "</style>\n",
       "<table border=\"1\" class=\"dataframe\">\n",
       "  <thead>\n",
       "    <tr style=\"text-align: right;\">\n",
       "      <th></th>\n",
       "      <th>rated</th>\n",
       "      <th>turns</th>\n",
       "      <th>white_rating</th>\n",
       "      <th>black_rating</th>\n",
       "      <th>opening_ply</th>\n",
       "      <th>game_time</th>\n",
       "    </tr>\n",
       "  </thead>\n",
       "  <tbody>\n",
       "    <tr>\n",
       "      <td>count</td>\n",
       "      <td>9333.000000</td>\n",
       "      <td>9336.000000</td>\n",
       "      <td>9341.000000</td>\n",
       "      <td>9331.000000</td>\n",
       "      <td>9329.000000</td>\n",
       "      <td>9336.000000</td>\n",
       "    </tr>\n",
       "    <tr>\n",
       "      <td>mean</td>\n",
       "      <td>0.814422</td>\n",
       "      <td>61.242823</td>\n",
       "      <td>1618.929023</td>\n",
       "      <td>1610.059801</td>\n",
       "      <td>4.943617</td>\n",
       "      <td>156.233360</td>\n",
       "    </tr>\n",
       "    <tr>\n",
       "      <td>std</td>\n",
       "      <td>0.388787</td>\n",
       "      <td>34.087346</td>\n",
       "      <td>289.803675</td>\n",
       "      <td>287.739658</td>\n",
       "      <td>2.925540</td>\n",
       "      <td>1077.882592</td>\n",
       "    </tr>\n",
       "    <tr>\n",
       "      <td>min</td>\n",
       "      <td>0.000000</td>\n",
       "      <td>1.000000</td>\n",
       "      <td>784.000000</td>\n",
       "      <td>789.000000</td>\n",
       "      <td>1.000000</td>\n",
       "      <td>0.320333</td>\n",
       "    </tr>\n",
       "    <tr>\n",
       "      <td>25%</td>\n",
       "      <td>1.000000</td>\n",
       "      <td>38.000000</td>\n",
       "      <td>1426.000000</td>\n",
       "      <td>1421.000000</td>\n",
       "      <td>3.000000</td>\n",
       "      <td>63.100583</td>\n",
       "    </tr>\n",
       "    <tr>\n",
       "      <td>50%</td>\n",
       "      <td>1.000000</td>\n",
       "      <td>56.000000</td>\n",
       "      <td>1595.000000</td>\n",
       "      <td>1586.000000</td>\n",
       "      <td>4.000000</td>\n",
       "      <td>109.567000</td>\n",
       "    </tr>\n",
       "    <tr>\n",
       "      <td>75%</td>\n",
       "      <td>1.000000</td>\n",
       "      <td>80.000000</td>\n",
       "      <td>1809.000000</td>\n",
       "      <td>1802.000000</td>\n",
       "      <td>6.000000</td>\n",
       "      <td>169.294125</td>\n",
       "    </tr>\n",
       "    <tr>\n",
       "      <td>max</td>\n",
       "      <td>1.000000</td>\n",
       "      <td>349.000000</td>\n",
       "      <td>2700.000000</td>\n",
       "      <td>2621.000000</td>\n",
       "      <td>28.000000</td>\n",
       "      <td>100974.116833</td>\n",
       "    </tr>\n",
       "  </tbody>\n",
       "</table>\n",
       "</div>"
      ],
      "text/plain": [
       "             rated        turns  white_rating  black_rating  opening_ply  \\\n",
       "count  9333.000000  9336.000000   9341.000000   9331.000000  9329.000000   \n",
       "mean      0.814422    61.242823   1618.929023   1610.059801     4.943617   \n",
       "std       0.388787    34.087346    289.803675    287.739658     2.925540   \n",
       "min       0.000000     1.000000    784.000000    789.000000     1.000000   \n",
       "25%       1.000000    38.000000   1426.000000   1421.000000     3.000000   \n",
       "50%       1.000000    56.000000   1595.000000   1586.000000     4.000000   \n",
       "75%       1.000000    80.000000   1809.000000   1802.000000     6.000000   \n",
       "max       1.000000   349.000000   2700.000000   2621.000000    28.000000   \n",
       "\n",
       "           game_time  \n",
       "count    9336.000000  \n",
       "mean      156.233360  \n",
       "std      1077.882592  \n",
       "min         0.320333  \n",
       "25%        63.100583  \n",
       "50%       109.567000  \n",
       "75%       169.294125  \n",
       "max    100974.116833  "
      ]
     },
     "execution_count": 6,
     "metadata": {},
     "output_type": "execute_result"
    }
   ],
   "source": [
    "games.describe()"
   ]
  },
  {
   "cell_type": "code",
   "execution_count": 7,
   "metadata": {},
   "outputs": [
    {
     "name": "stdout",
     "output_type": "stream",
     "text": [
      "id -> 31\n",
      "rated -> 34\n",
      "turns -> 31\n",
      "victory_status -> 28\n",
      "winner -> 27\n",
      "increment_code -> 27\n",
      "white_id -> 24\n",
      "white_rating -> 26\n",
      "black_id -> 30\n",
      "black_rating -> 36\n",
      "moves -> 30\n",
      "opening_eco -> 27\n",
      "opening_name -> 29\n",
      "opening_ply -> 38\n",
      "game_time -> 31\n",
      "total null values :  449\n"
     ]
    }
   ],
   "source": [
    "total = 0\n",
    "for i in games:\n",
    "    n = games[i].isnull().sum()\n",
    "    total += n\n",
    "    print(i, \"->\", n)\n",
    "print(\"total null values : \", total)"
   ]
  },
  {
   "cell_type": "code",
   "execution_count": 8,
   "metadata": {},
   "outputs": [],
   "source": [
    "import matplotlib.pyplot as plt\n",
    "%matplotlib inline \n"
   ]
  },
  {
   "cell_type": "code",
   "execution_count": 9,
   "metadata": {},
   "outputs": [
    {
     "name": "stdout",
     "output_type": "stream",
     "text": [
      "0       fyfWyjj2\n",
      "1       QmCyfnNZ\n",
      "2       X1hUH5gY\n",
      "3       xfD25ZBl\n",
      "4       BFo44qd4\n",
      "          ...   \n",
      "9362    eBZNlH7w\n",
      "9363    MtDU2OuN\n",
      "9364    wL5yxYVK\n",
      "9365    ayNGChBy\n",
      "9366    W1fKatN0\n",
      "Name: id, Length: 9367, dtype: object\n"
     ]
    }
   ],
   "source": [
    "print(games[\"id\"])"
   ]
  },
  {
   "cell_type": "markdown",
   "metadata": {},
   "source": [
    "The above column is unique to very row so this is not a variable"
   ]
  },
  {
   "cell_type": "code",
   "execution_count": 10,
   "metadata": {},
   "outputs": [
    {
     "data": {
      "text/plain": [
       "1.0    7601\n",
       "0.0    1732\n",
       "Name: rated, dtype: int64"
      ]
     },
     "execution_count": 10,
     "metadata": {},
     "output_type": "execute_result"
    }
   ],
   "source": [
    "games[\"rated\"].value_counts()"
   ]
  },
  {
   "cell_type": "code",
   "execution_count": 11,
   "metadata": {},
   "outputs": [
    {
     "data": {
      "text/plain": [
       "<matplotlib.axes._subplots.AxesSubplot at 0x181a89ae988>"
      ]
     },
     "execution_count": 11,
     "metadata": {},
     "output_type": "execute_result"
    },
    {
     "data": {
      "image/png": "[encoded data removed]",
      "text/plain": [
       "<Figure size 432x288 with 1 Axes>"
      ]
     },
     "metadata": {
      "needs_background": "light"
     },
     "output_type": "display_data"
    }
   ],
   "source": [
    "games[\"rated\"].hist()"
   ]
  },
  {
   "cell_type": "markdown",
   "metadata": {},
   "source": [
    "The above plot shows that the rated column is a categorical variable"
   ]
  },
  {
   "cell_type": "code",
   "execution_count": 12,
   "metadata": {},
   "outputs": [
    {
     "data": {
      "text/plain": [
       "53.0     153\n",
       "55.0     146\n",
       "45.0     143\n",
       "57.0     143\n",
       "52.0     141\n",
       "        ... \n",
       "259.0      1\n",
       "193.0      1\n",
       "172.0      1\n",
       "175.0      1\n",
       "178.0      1\n",
       "Name: turns, Length: 201, dtype: int64"
      ]
     },
     "execution_count": 12,
     "metadata": {},
     "output_type": "execute_result"
    }
   ],
   "source": [
    "games[\"turns\"].value_counts()"
   ]
  },
  {
   "cell_type": "code",
   "execution_count": 13,
   "metadata": {},
   "outputs": [
    {
     "data": {
      "text/plain": [
       "<matplotlib.axes._subplots.AxesSubplot at 0x181a8d8fe88>"
      ]
     },
     "execution_count": 13,
     "metadata": {},
     "output_type": "execute_result"
    },
    {
     "data": {
      "image/png": "[encoded data removed]",
      "text/plain": [
       "<Figure size 432x288 with 1 Axes>"
      ]
     },
     "metadata": {
      "needs_background": "light"
     },
     "output_type": "display_data"
    }
   ],
   "source": [
    "games[\"turns\"].hist(bins = 100)"
   ]
  },
  {
   "cell_type": "markdown",
   "metadata": {},
   "source": [
    "Turns is discrete variable"
   ]
  },
  {
   "cell_type": "code",
   "execution_count": 14,
   "metadata": {},
   "outputs": [
    {
     "data": {
      "text/plain": [
       "<matplotlib.axes._subplots.AxesSubplot at 0x181a8e49788>"
      ]
     },
     "execution_count": 14,
     "metadata": {},
     "output_type": "execute_result"
    },
    {
     "data": {
      "image/png": "[encoded data removed]",
      "text/plain": [
       "<Figure size 432x288 with 1 Axes>"
      ]
     },
     "metadata": {
      "needs_background": "light"
     },
     "output_type": "display_data"
    }
   ],
   "source": [
    "games[\"victory_status\"].hist()"
   ]
  },
  {
   "cell_type": "markdown",
   "metadata": {},
   "source": [
    "The above plot shows that the column victory_status is a categorical variable"
   ]
  },
  {
   "cell_type": "code",
   "execution_count": 15,
   "metadata": {},
   "outputs": [
    {
     "data": {
      "text/plain": [
       "<matplotlib.axes._subplots.AxesSubplot at 0x181aa0483c8>"
      ]
     },
     "execution_count": 15,
     "metadata": {},
     "output_type": "execute_result"
    },
    {
     "data": {
      "image/png": "[encoded data removed]",
      "text/plain": [
       "<Figure size 432x288 with 1 Axes>"
      ]
     },
     "metadata": {
      "needs_background": "light"
     },
     "output_type": "display_data"
    }
   ],
   "source": [
    "games[\"winner\"].hist()"
   ]
  },
  {
   "cell_type": "markdown",
   "metadata": {},
   "source": [
    "The above plot shows that the winner column is a categorical variable"
   ]
  },
  {
   "cell_type": "code",
   "execution_count": 16,
   "metadata": {},
   "outputs": [
    {
     "data": {
      "text/plain": [
       "10+0     3639\n",
       "15+0      557\n",
       "15+15     369\n",
       "5+5       337\n",
       "5+8       314\n",
       "         ... \n",
       "30+3        1\n",
       "0+20        1\n",
       "40+9        1\n",
       "7+18        1\n",
       "15+11       1\n",
       "Name: increment_code, Length: 316, dtype: int64"
      ]
     },
     "execution_count": 16,
     "metadata": {},
     "output_type": "execute_result"
    }
   ],
   "source": [
    "games[\"increment_code\"].value_counts()"
   ]
  },
  {
   "cell_type": "code",
   "execution_count": 17,
   "metadata": {},
   "outputs": [
    {
     "data": {
      "text/plain": [
       "<matplotlib.axes._subplots.AxesSubplot at 0x181a9fea5c8>"
      ]
     },
     "execution_count": 17,
     "metadata": {},
     "output_type": "execute_result"
    },
    {
     "data": {
      "image/png": "[encoded data removed]",
      "text/plain": [
       "<Figure size 432x288 with 1 Axes>"
      ]
     },
     "metadata": {
      "needs_background": "light"
     },
     "output_type": "display_data"
    }
   ],
   "source": [
    "games[\"increment_code\"].hist()"
   ]
  },
  {
   "cell_type": "markdown",
   "metadata": {},
   "source": [
    "increment_code is discrete variable"
   ]
  },
  {
   "cell_type": "code",
   "execution_count": 18,
   "metadata": {},
   "outputs": [
    {
     "data": {
      "text/plain": [
       "1500.0    324\n",
       "1536.0     32\n",
       "1708.0     30\n",
       "1621.0     26\n",
       "1589.0     25\n",
       "         ... \n",
       "2205.0      1\n",
       "1995.0      1\n",
       "1105.0      1\n",
       "1132.0      1\n",
       "1045.0      1\n",
       "Name: white_rating, Length: 1362, dtype: int64"
      ]
     },
     "execution_count": 18,
     "metadata": {},
     "output_type": "execute_result"
    }
   ],
   "source": [
    "games[\"white_rating\"].value_counts()"
   ]
  },
  {
   "cell_type": "code",
   "execution_count": 19,
   "metadata": {},
   "outputs": [
    {
     "data": {
      "text/plain": [
       "<matplotlib.axes._subplots.AxesSubplot at 0x181aa0f9f88>"
      ]
     },
     "execution_count": 19,
     "metadata": {},
     "output_type": "execute_result"
    },
    {
     "data": {
      "image/png": "[encoded data removed]",
      "text/plain": [
       "<Figure size 432x288 with 1 Axes>"
      ]
     },
     "metadata": {
      "needs_background": "light"
     },
     "output_type": "display_data"
    }
   ],
   "source": [
    "games[\"white_rating\"].hist(bins = 100)"
   ]
  },
  {
   "cell_type": "markdown",
   "metadata": {},
   "source": [
    "white_rating is continuous and on the similar base is black_rating continuous"
   ]
  },
  {
   "cell_type": "code",
   "execution_count": 20,
   "metadata": {},
   "outputs": [
    {
     "data": {
      "text/plain": [
       "A00    488\n",
       "C00    369\n",
       "C41    336\n",
       "D00    326\n",
       "A40    303\n",
       "      ... \n",
       "E63      1\n",
       "D59      1\n",
       "B71      1\n",
       "C39      1\n",
       "A60      1\n",
       "Name: opening_eco, Length: 334, dtype: int64"
      ]
     },
     "execution_count": 20,
     "metadata": {},
     "output_type": "execute_result"
    }
   ],
   "source": [
    "games[\"opening_eco\"].value_counts()"
   ]
  },
  {
   "cell_type": "code",
   "execution_count": 21,
   "metadata": {},
   "outputs": [
    {
     "data": {
      "text/plain": [
       "<matplotlib.axes._subplots.AxesSubplot at 0x181a2dff9c8>"
      ]
     },
     "execution_count": 21,
     "metadata": {},
     "output_type": "execute_result"
    },
    {
     "data": {
      "image/png": "[encoded data removed]",
      "text/plain": [
       "<Figure size 432x288 with 1 Axes>"
      ]
     },
     "metadata": {
      "needs_background": "light"
     },
     "output_type": "display_data"
    }
   ],
   "source": [
    "games[\"opening_eco\"].hist()"
   ]
  },
  {
   "cell_type": "markdown",
   "metadata": {},
   "source": [
    "opening_eco is discrete"
   ]
  },
  {
   "cell_type": "code",
   "execution_count": 22,
   "metadata": {},
   "outputs": [
    {
     "data": {
      "text/plain": [
       "Van't Kruijs Opening                                                             202\n",
       "Sicilian Defense                                                                 159\n",
       "Sicilian Defense: Bowdler Attack                                                 137\n",
       "Scotch Game                                                                      125\n",
       "French Defense: Knight Variation                                                 111\n",
       "                                                                                ... \n",
       "Italian Game: Two Knights Defense |  Polerio Defense |  Kieseritzky Variation      1\n",
       "Slav Defense: Diemer Gambit                                                        1\n",
       "Sicilian Defense: Kan Variation |  Wing Attack                                     1\n",
       "King's Gambit |  Falkbeer Countergambit |  Nimzowitsch-Marshall Countergambit      1\n",
       "King's Indian Defense: Orthodox Variation |  Bayonet Attack                        1\n",
       "Name: opening_name, Length: 1183, dtype: int64"
      ]
     },
     "execution_count": 22,
     "metadata": {},
     "output_type": "execute_result"
    }
   ],
   "source": [
    "games[\"opening_name\"].value_counts()"
   ]
  },
  {
   "cell_type": "code",
   "execution_count": 23,
   "metadata": {},
   "outputs": [],
   "source": [
    "opening_names = dict(games[\"opening_name\"].value_counts())"
   ]
  },
  {
   "cell_type": "code",
   "execution_count": 24,
   "metadata": {},
   "outputs": [
    {
     "data": {
      "text/plain": [
       "<BarContainer object of 1183 artists>"
      ]
     },
     "execution_count": 24,
     "metadata": {},
     "output_type": "execute_result"
    },
    {
     "data": {
      "image/png": "[encoded data removed]",
      "text/plain": [
       "<Figure size 432x288 with 1 Axes>"
      ]
     },
     "metadata": {
      "needs_background": "light"
     },
     "output_type": "display_data"
    }
   ],
   "source": [
    "plt.bar(opening_names.keys(), opening_names.values())"
   ]
  },
  {
   "cell_type": "markdown",
   "metadata": {},
   "source": [
    "The above plot shows that the column opening_name is a categorical variable"
   ]
  },
  {
   "cell_type": "code",
   "execution_count": 25,
   "metadata": {},
   "outputs": [
    {
     "data": {
      "text/plain": [
       "3.0     1512\n",
       "4.0     1475\n",
       "2.0     1334\n",
       "5.0     1281\n",
       "6.0      931\n",
       "7.0      672\n",
       "8.0      554\n",
       "1.0      536\n",
       "9.0      342\n",
       "11.0     213\n",
       "10.0     207\n",
       "12.0      74\n",
       "13.0      71\n",
       "14.0      39\n",
       "15.0      27\n",
       "17.0      19\n",
       "16.0      19\n",
       "19.0       6\n",
       "18.0       6\n",
       "20.0       6\n",
       "28.0       3\n",
       "24.0       1\n",
       "22.0       1\n",
       "Name: opening_ply, dtype: int64"
      ]
     },
     "execution_count": 25,
     "metadata": {},
     "output_type": "execute_result"
    }
   ],
   "source": [
    "games[\"opening_ply\"].value_counts()"
   ]
  },
  {
   "cell_type": "code",
   "execution_count": 26,
   "metadata": {},
   "outputs": [
    {
     "data": {
      "text/plain": [
       "<matplotlib.axes._subplots.AxesSubplot at 0x181ab7310c8>"
      ]
     },
     "execution_count": 26,
     "metadata": {},
     "output_type": "execute_result"
    },
    {
     "data": {
      "image/png": "[encoded data removed]",
      "text/plain": [
       "<Figure size 432x288 with 1 Axes>"
      ]
     },
     "metadata": {
      "needs_background": "light"
     },
     "output_type": "display_data"
    }
   ],
   "source": [
    "games[\"opening_ply\"].hist(bins = 100)"
   ]
  },
  {
   "cell_type": "markdown",
   "metadata": {},
   "source": [
    "From the above plot opening_ply is a discrete variable"
   ]
  },
  {
   "cell_type": "code",
   "execution_count": 27,
   "metadata": {
    "scrolled": true
   },
   "outputs": [
    {
     "data": {
      "text/plain": [
       "3333.333333    3\n",
       "41.634000      3\n",
       "24.706833      3\n",
       "52.973667      3\n",
       "22.801333      3\n",
       "              ..\n",
       "109.097667     1\n",
       "20.233667      1\n",
       "34.385000      1\n",
       "21.901500      1\n",
       "8.000000       1\n",
       "Name: game_time, Length: 9010, dtype: int64"
      ]
     },
     "execution_count": 27,
     "metadata": {},
     "output_type": "execute_result"
    }
   ],
   "source": [
    "games[\"game_time\"].value_counts()"
   ]
  },
  {
   "cell_type": "markdown",
   "metadata": {},
   "source": [
    "The above dictionary shows that the game_time is a continuous variable"
   ]
  }
 ],
 "metadata": {
  "kernelspec": {
   "display_name": "Python 3",
   "language": "python",
   "name": "python3"
  },
  "language_info": {
   "codemirror_mode": {
    "name": "ipython",
    "version": 3
   },
   "file_extension": ".py",
   "mimetype": "text/x-python",
   "name": "python",
   "nbconvert_exporter": "python",
   "pygments_lexer": "ipython3",
   "version": "3.7.4"
  }
 },
 "nbformat": 4,
 "nbformat_minor": 2
}
