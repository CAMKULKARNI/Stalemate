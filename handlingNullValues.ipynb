{
 "cells": [
  {
   "cell_type": "code",
   "execution_count": 1,
   "metadata": {},
   "outputs": [],
   "source": [
    "import pandas as pd\n",
    "import numpy as np\n",
    "import seaborn as sb \n",
    "from scipy import stats\n",
    "import matplotlib.pyplot as plt\n",
    "%matplotlib inline"
   ]
  },
  {
   "cell_type": "code",
   "execution_count": 2,
   "metadata": {},
   "outputs": [
    {
     "data": {
      "text/html": [
       "<div>\n",
       "<style scoped>\n",
       "    .dataframe tbody tr th:only-of-type {\n",
       "        vertical-align: middle;\n",
       "    }\n",
       "\n",
       "    .dataframe tbody tr th {\n",
       "        vertical-align: top;\n",
       "    }\n",
       "\n",
       "    .dataframe thead th {\n",
       "        text-align: right;\n",
       "    }\n",
       "</style>\n",
       "<table border=\"1\" class=\"dataframe\">\n",
       "  <thead>\n",
       "    <tr style=\"text-align: right;\">\n",
       "      <th></th>\n",
       "      <th>Unnamed: 0</th>\n",
       "      <th>id</th>\n",
       "      <th>rated</th>\n",
       "      <th>turns</th>\n",
       "      <th>victory_status</th>\n",
       "      <th>winner</th>\n",
       "      <th>increment_code</th>\n",
       "      <th>white_id</th>\n",
       "      <th>white_rating</th>\n",
       "      <th>black_id</th>\n",
       "      <th>black_rating</th>\n",
       "      <th>moves</th>\n",
       "      <th>opening_eco</th>\n",
       "      <th>opening_name</th>\n",
       "      <th>opening_ply</th>\n",
       "      <th>game_time</th>\n",
       "    </tr>\n",
       "  </thead>\n",
       "  <tbody>\n",
       "    <tr>\n",
       "      <td>0</td>\n",
       "      <td>0</td>\n",
       "      <td>fyfWyjj2</td>\n",
       "      <td>1.0</td>\n",
       "      <td>56.0</td>\n",
       "      <td>resign</td>\n",
       "      <td>black</td>\n",
       "      <td>10+6</td>\n",
       "      <td>mindworm</td>\n",
       "      <td>2180.0</td>\n",
       "      <td>lolmens</td>\n",
       "      <td>2134.0</td>\n",
       "      <td>d4 Nf6 c4 c6 d5 e6 Nc3 Bb4 Bg5 Bxc3+ bxc3 O-O ...</td>\n",
       "      <td>A50</td>\n",
       "      <td>Slav Indian</td>\n",
       "      <td>4.0</td>\n",
       "      <td>152.045167</td>\n",
       "    </tr>\n",
       "    <tr>\n",
       "      <td>1</td>\n",
       "      <td>1</td>\n",
       "      <td>QmCyfnNZ</td>\n",
       "      <td>1.0</td>\n",
       "      <td>55.0</td>\n",
       "      <td>resign</td>\n",
       "      <td>white</td>\n",
       "      <td>10+0</td>\n",
       "      <td>philipp_0x</td>\n",
       "      <td>1291.0</td>\n",
       "      <td>alywezza</td>\n",
       "      <td>1326.0</td>\n",
       "      <td>Nf3 c5 d4 cxd4 Nxd4 d5 g3 Nc6 c3 Nf6 Bg2 e5 Nx...</td>\n",
       "      <td>A04</td>\n",
       "      <td>Zukertort Opening: Sicilian Invitation</td>\n",
       "      <td>2.0</td>\n",
       "      <td>137.408000</td>\n",
       "    </tr>\n",
       "    <tr>\n",
       "      <td>2</td>\n",
       "      <td>2</td>\n",
       "      <td>X1hUH5gY</td>\n",
       "      <td>1.0</td>\n",
       "      <td>2.0</td>\n",
       "      <td>resign</td>\n",
       "      <td>white</td>\n",
       "      <td>180+180</td>\n",
       "      <td>chiggen</td>\n",
       "      <td>1291.0</td>\n",
       "      <td>drakon1</td>\n",
       "      <td>965.0</td>\n",
       "      <td>e4 d5</td>\n",
       "      <td>B01</td>\n",
       "      <td>Scandinavian Defense</td>\n",
       "      <td>2.0</td>\n",
       "      <td>0.929667</td>\n",
       "    </tr>\n",
       "    <tr>\n",
       "      <td>3</td>\n",
       "      <td>3</td>\n",
       "      <td>xfD25ZBl</td>\n",
       "      <td>1.0</td>\n",
       "      <td>111.0</td>\n",
       "      <td>resign</td>\n",
       "      <td>white</td>\n",
       "      <td>9+5</td>\n",
       "      <td>khelil</td>\n",
       "      <td>1611.0</td>\n",
       "      <td>gleb763</td>\n",
       "      <td>1418.0</td>\n",
       "      <td>e4 e5 Bc4 c6 Qh5 d5 exd5 cxd5 Bb5+ Nc6 Qxe5+ B...</td>\n",
       "      <td>C23</td>\n",
       "      <td>Bishop's Opening: Philidor Counterattack</td>\n",
       "      <td>4.0</td>\n",
       "      <td>169.290000</td>\n",
       "    </tr>\n",
       "    <tr>\n",
       "      <td>4</td>\n",
       "      <td>4</td>\n",
       "      <td>BFo44qd4</td>\n",
       "      <td>1.0</td>\n",
       "      <td>25.0</td>\n",
       "      <td>mate</td>\n",
       "      <td>white</td>\n",
       "      <td>10+0</td>\n",
       "      <td>elvis1997</td>\n",
       "      <td>2168.0</td>\n",
       "      <td>kabuto87</td>\n",
       "      <td>1650.0</td>\n",
       "      <td>e4 Nc6 d4 d5 e5 Qd7 Be2 Qe6 c4 dxc4 d5 Qxe5 Nf...</td>\n",
       "      <td>B00</td>\n",
       "      <td>Nimzowitsch Defense: Scandinavian Variation | ...</td>\n",
       "      <td>5.0</td>\n",
       "      <td>49.667500</td>\n",
       "    </tr>\n",
       "  </tbody>\n",
       "</table>\n",
       "</div>"
      ],
      "text/plain": [
       "   Unnamed: 0        id  rated  turns victory_status winner increment_code  \\\n",
       "0           0  fyfWyjj2    1.0   56.0         resign  black           10+6   \n",
       "1           1  QmCyfnNZ    1.0   55.0         resign  white           10+0   \n",
       "2           2  X1hUH5gY    1.0    2.0         resign  white        180+180   \n",
       "3           3  xfD25ZBl    1.0  111.0         resign  white            9+5   \n",
       "4           4  BFo44qd4    1.0   25.0           mate  white           10+0   \n",
       "\n",
       "     white_id  white_rating  black_id  black_rating  \\\n",
       "0    mindworm        2180.0   lolmens        2134.0   \n",
       "1  philipp_0x        1291.0  alywezza        1326.0   \n",
       "2     chiggen        1291.0   drakon1         965.0   \n",
       "3      khelil        1611.0   gleb763        1418.0   \n",
       "4   elvis1997        2168.0  kabuto87        1650.0   \n",
       "\n",
       "                                               moves opening_eco  \\\n",
       "0  d4 Nf6 c4 c6 d5 e6 Nc3 Bb4 Bg5 Bxc3+ bxc3 O-O ...         A50   \n",
       "1  Nf3 c5 d4 cxd4 Nxd4 d5 g3 Nc6 c3 Nf6 Bg2 e5 Nx...         A04   \n",
       "2                                              e4 d5         B01   \n",
       "3  e4 e5 Bc4 c6 Qh5 d5 exd5 cxd5 Bb5+ Nc6 Qxe5+ B...         C23   \n",
       "4  e4 Nc6 d4 d5 e5 Qd7 Be2 Qe6 c4 dxc4 d5 Qxe5 Nf...         B00   \n",
       "\n",
       "                                        opening_name  opening_ply   game_time  \n",
       "0                                        Slav Indian          4.0  152.045167  \n",
       "1             Zukertort Opening: Sicilian Invitation          2.0  137.408000  \n",
       "2                               Scandinavian Defense          2.0    0.929667  \n",
       "3           Bishop's Opening: Philidor Counterattack          4.0  169.290000  \n",
       "4  Nimzowitsch Defense: Scandinavian Variation | ...          5.0   49.667500  "
      ]
     },
     "execution_count": 2,
     "metadata": {},
     "output_type": "execute_result"
    }
   ],
   "source": [
    "file = \"D:\\codes_python\\sds project\\games_with_null_values.csv\"\n",
    "games = pd.read_csv(file)\n",
    "games.head()"
   ]
  },
  {
   "cell_type": "code",
   "execution_count": 3,
   "metadata": {},
   "outputs": [],
   "source": [
    "games.drop([\"Unnamed: 0\"], axis = 1, inplace = True)"
   ]
  },
  {
   "cell_type": "code",
   "execution_count": 4,
   "metadata": {},
   "outputs": [
    {
     "data": {
      "text/html": [
       "<div>\n",
       "<style scoped>\n",
       "    .dataframe tbody tr th:only-of-type {\n",
       "        vertical-align: middle;\n",
       "    }\n",
       "\n",
       "    .dataframe tbody tr th {\n",
       "        vertical-align: top;\n",
       "    }\n",
       "\n",
       "    .dataframe thead th {\n",
       "        text-align: right;\n",
       "    }\n",
       "</style>\n",
       "<table border=\"1\" class=\"dataframe\">\n",
       "  <thead>\n",
       "    <tr style=\"text-align: right;\">\n",
       "      <th></th>\n",
       "      <th>id</th>\n",
       "      <th>rated</th>\n",
       "      <th>turns</th>\n",
       "      <th>victory_status</th>\n",
       "      <th>winner</th>\n",
       "      <th>increment_code</th>\n",
       "      <th>white_id</th>\n",
       "      <th>white_rating</th>\n",
       "      <th>black_id</th>\n",
       "      <th>black_rating</th>\n",
       "      <th>moves</th>\n",
       "      <th>opening_eco</th>\n",
       "      <th>opening_name</th>\n",
       "      <th>opening_ply</th>\n",
       "      <th>game_time</th>\n",
       "    </tr>\n",
       "  </thead>\n",
       "  <tbody>\n",
       "    <tr>\n",
       "      <td>0</td>\n",
       "      <td>fyfWyjj2</td>\n",
       "      <td>1.0</td>\n",
       "      <td>56.0</td>\n",
       "      <td>resign</td>\n",
       "      <td>black</td>\n",
       "      <td>10+6</td>\n",
       "      <td>mindworm</td>\n",
       "      <td>2180.0</td>\n",
       "      <td>lolmens</td>\n",
       "      <td>2134.0</td>\n",
       "      <td>d4 Nf6 c4 c6 d5 e6 Nc3 Bb4 Bg5 Bxc3+ bxc3 O-O ...</td>\n",
       "      <td>A50</td>\n",
       "      <td>Slav Indian</td>\n",
       "      <td>4.0</td>\n",
       "      <td>152.045167</td>\n",
       "    </tr>\n",
       "    <tr>\n",
       "      <td>1</td>\n",
       "      <td>QmCyfnNZ</td>\n",
       "      <td>1.0</td>\n",
       "      <td>55.0</td>\n",
       "      <td>resign</td>\n",
       "      <td>white</td>\n",
       "      <td>10+0</td>\n",
       "      <td>philipp_0x</td>\n",
       "      <td>1291.0</td>\n",
       "      <td>alywezza</td>\n",
       "      <td>1326.0</td>\n",
       "      <td>Nf3 c5 d4 cxd4 Nxd4 d5 g3 Nc6 c3 Nf6 Bg2 e5 Nx...</td>\n",
       "      <td>A04</td>\n",
       "      <td>Zukertort Opening: Sicilian Invitation</td>\n",
       "      <td>2.0</td>\n",
       "      <td>137.408000</td>\n",
       "    </tr>\n",
       "    <tr>\n",
       "      <td>2</td>\n",
       "      <td>X1hUH5gY</td>\n",
       "      <td>1.0</td>\n",
       "      <td>2.0</td>\n",
       "      <td>resign</td>\n",
       "      <td>white</td>\n",
       "      <td>180+180</td>\n",
       "      <td>chiggen</td>\n",
       "      <td>1291.0</td>\n",
       "      <td>drakon1</td>\n",
       "      <td>965.0</td>\n",
       "      <td>e4 d5</td>\n",
       "      <td>B01</td>\n",
       "      <td>Scandinavian Defense</td>\n",
       "      <td>2.0</td>\n",
       "      <td>0.929667</td>\n",
       "    </tr>\n",
       "    <tr>\n",
       "      <td>3</td>\n",
       "      <td>xfD25ZBl</td>\n",
       "      <td>1.0</td>\n",
       "      <td>111.0</td>\n",
       "      <td>resign</td>\n",
       "      <td>white</td>\n",
       "      <td>9+5</td>\n",
       "      <td>khelil</td>\n",
       "      <td>1611.0</td>\n",
       "      <td>gleb763</td>\n",
       "      <td>1418.0</td>\n",
       "      <td>e4 e5 Bc4 c6 Qh5 d5 exd5 cxd5 Bb5+ Nc6 Qxe5+ B...</td>\n",
       "      <td>C23</td>\n",
       "      <td>Bishop's Opening: Philidor Counterattack</td>\n",
       "      <td>4.0</td>\n",
       "      <td>169.290000</td>\n",
       "    </tr>\n",
       "    <tr>\n",
       "      <td>4</td>\n",
       "      <td>BFo44qd4</td>\n",
       "      <td>1.0</td>\n",
       "      <td>25.0</td>\n",
       "      <td>mate</td>\n",
       "      <td>white</td>\n",
       "      <td>10+0</td>\n",
       "      <td>elvis1997</td>\n",
       "      <td>2168.0</td>\n",
       "      <td>kabuto87</td>\n",
       "      <td>1650.0</td>\n",
       "      <td>e4 Nc6 d4 d5 e5 Qd7 Be2 Qe6 c4 dxc4 d5 Qxe5 Nf...</td>\n",
       "      <td>B00</td>\n",
       "      <td>Nimzowitsch Defense: Scandinavian Variation | ...</td>\n",
       "      <td>5.0</td>\n",
       "      <td>49.667500</td>\n",
       "    </tr>\n",
       "    <tr>\n",
       "      <td>...</td>\n",
       "      <td>...</td>\n",
       "      <td>...</td>\n",
       "      <td>...</td>\n",
       "      <td>...</td>\n",
       "      <td>...</td>\n",
       "      <td>...</td>\n",
       "      <td>...</td>\n",
       "      <td>...</td>\n",
       "      <td>...</td>\n",
       "      <td>...</td>\n",
       "      <td>...</td>\n",
       "      <td>...</td>\n",
       "      <td>...</td>\n",
       "      <td>...</td>\n",
       "      <td>...</td>\n",
       "    </tr>\n",
       "    <tr>\n",
       "      <td>9362</td>\n",
       "      <td>eBZNlH7w</td>\n",
       "      <td>1.0</td>\n",
       "      <td>55.0</td>\n",
       "      <td>resign</td>\n",
       "      <td>black</td>\n",
       "      <td>20+0</td>\n",
       "      <td>sdmabunda</td>\n",
       "      <td>1518.0</td>\n",
       "      <td>rehcsif6rehcsif</td>\n",
       "      <td>1546.0</td>\n",
       "      <td>e4 e5 Nf3 Nc6 Bb5 a6 Bxc6 dxc6 Nxe5 Qd4 Nxf7 Q...</td>\n",
       "      <td>C68</td>\n",
       "      <td>Ruy Lopez: Exchange Variation</td>\n",
       "      <td>7.0</td>\n",
       "      <td>181.858500</td>\n",
       "    </tr>\n",
       "    <tr>\n",
       "      <td>9363</td>\n",
       "      <td>MtDU2OuN</td>\n",
       "      <td>1.0</td>\n",
       "      <td>30.0</td>\n",
       "      <td>mate</td>\n",
       "      <td>black</td>\n",
       "      <td>20+5</td>\n",
       "      <td>aradov</td>\n",
       "      <td>1060.0</td>\n",
       "      <td>rodrigowski19</td>\n",
       "      <td>1202.0</td>\n",
       "      <td>e4 c5 d4 cxd4 Qxd4 Nc6 Qe3 Nf6 Nf3 d5 e5 Ng4 Q...</td>\n",
       "      <td>B21</td>\n",
       "      <td>Sicilian Defense: Smith-Morra Gambit #2</td>\n",
       "      <td>3.0</td>\n",
       "      <td>32.038167</td>\n",
       "    </tr>\n",
       "    <tr>\n",
       "      <td>9364</td>\n",
       "      <td>wL5yxYVK</td>\n",
       "      <td>1.0</td>\n",
       "      <td>61.0</td>\n",
       "      <td>resign</td>\n",
       "      <td>white</td>\n",
       "      <td>15+15</td>\n",
       "      <td>azomio</td>\n",
       "      <td>1410.0</td>\n",
       "      <td>karanlikyol</td>\n",
       "      <td>1355.0</td>\n",
       "      <td>f4 f6 e3 e5 fxe5 fxe5 Qh5+ g6 Qxe5+ Qe7 Qxh8 N...</td>\n",
       "      <td>A02</td>\n",
       "      <td>Bird Opening</td>\n",
       "      <td>1.0</td>\n",
       "      <td>157.164167</td>\n",
       "    </tr>\n",
       "    <tr>\n",
       "      <td>9365</td>\n",
       "      <td>ayNGChBy</td>\n",
       "      <td>1.0</td>\n",
       "      <td>79.0</td>\n",
       "      <td>resign</td>\n",
       "      <td>black</td>\n",
       "      <td>10+0</td>\n",
       "      <td>dastan-2009</td>\n",
       "      <td>1593.0</td>\n",
       "      <td>summu</td>\n",
       "      <td>1885.0</td>\n",
       "      <td>e4 c5 Nf3 d6 d4 cxd4 Nxd4 Nf6 Nc3 a6 Be3 Nc6 N...</td>\n",
       "      <td>B90</td>\n",
       "      <td>Sicilian Defense: Najdorf Variation |  English...</td>\n",
       "      <td>11.0</td>\n",
       "      <td>86.955000</td>\n",
       "    </tr>\n",
       "    <tr>\n",
       "      <td>9366</td>\n",
       "      <td>W1fKatN0</td>\n",
       "      <td>0.0</td>\n",
       "      <td>41.0</td>\n",
       "      <td>resign</td>\n",
       "      <td>black</td>\n",
       "      <td>30+0</td>\n",
       "      <td>bronyaurstomp</td>\n",
       "      <td>1264.0</td>\n",
       "      <td>jeswalace333</td>\n",
       "      <td>1500.0</td>\n",
       "      <td>b4 d5 d4 Nf6 Nf3 Nbd7 Nc3 e6 a3 g6 e4 dxe4 Ne5...</td>\n",
       "      <td>A00</td>\n",
       "      <td>Polish Opening</td>\n",
       "      <td>1.0</td>\n",
       "      <td>117.543000</td>\n",
       "    </tr>\n",
       "  </tbody>\n",
       "</table>\n",
       "<p>9367 rows × 15 columns</p>\n",
       "</div>"
      ],
      "text/plain": [
       "            id  rated  turns victory_status winner increment_code  \\\n",
       "0     fyfWyjj2    1.0   56.0         resign  black           10+6   \n",
       "1     QmCyfnNZ    1.0   55.0         resign  white           10+0   \n",
       "2     X1hUH5gY    1.0    2.0         resign  white        180+180   \n",
       "3     xfD25ZBl    1.0  111.0         resign  white            9+5   \n",
       "4     BFo44qd4    1.0   25.0           mate  white           10+0   \n",
       "...        ...    ...    ...            ...    ...            ...   \n",
       "9362  eBZNlH7w    1.0   55.0         resign  black           20+0   \n",
       "9363  MtDU2OuN    1.0   30.0           mate  black           20+5   \n",
       "9364  wL5yxYVK    1.0   61.0         resign  white          15+15   \n",
       "9365  ayNGChBy    1.0   79.0         resign  black           10+0   \n",
       "9366  W1fKatN0    0.0   41.0         resign  black           30+0   \n",
       "\n",
       "           white_id  white_rating         black_id  black_rating  \\\n",
       "0          mindworm        2180.0          lolmens        2134.0   \n",
       "1        philipp_0x        1291.0         alywezza        1326.0   \n",
       "2           chiggen        1291.0          drakon1         965.0   \n",
       "3            khelil        1611.0          gleb763        1418.0   \n",
       "4         elvis1997        2168.0         kabuto87        1650.0   \n",
       "...             ...           ...              ...           ...   \n",
       "9362      sdmabunda        1518.0  rehcsif6rehcsif        1546.0   \n",
       "9363         aradov        1060.0    rodrigowski19        1202.0   \n",
       "9364         azomio        1410.0      karanlikyol        1355.0   \n",
       "9365    dastan-2009        1593.0            summu        1885.0   \n",
       "9366  bronyaurstomp        1264.0     jeswalace333        1500.0   \n",
       "\n",
       "                                                  moves opening_eco  \\\n",
       "0     d4 Nf6 c4 c6 d5 e6 Nc3 Bb4 Bg5 Bxc3+ bxc3 O-O ...         A50   \n",
       "1     Nf3 c5 d4 cxd4 Nxd4 d5 g3 Nc6 c3 Nf6 Bg2 e5 Nx...         A04   \n",
       "2                                                 e4 d5         B01   \n",
       "3     e4 e5 Bc4 c6 Qh5 d5 exd5 cxd5 Bb5+ Nc6 Qxe5+ B...         C23   \n",
       "4     e4 Nc6 d4 d5 e5 Qd7 Be2 Qe6 c4 dxc4 d5 Qxe5 Nf...         B00   \n",
       "...                                                 ...         ...   \n",
       "9362  e4 e5 Nf3 Nc6 Bb5 a6 Bxc6 dxc6 Nxe5 Qd4 Nxf7 Q...         C68   \n",
       "9363  e4 c5 d4 cxd4 Qxd4 Nc6 Qe3 Nf6 Nf3 d5 e5 Ng4 Q...         B21   \n",
       "9364  f4 f6 e3 e5 fxe5 fxe5 Qh5+ g6 Qxe5+ Qe7 Qxh8 N...         A02   \n",
       "9365  e4 c5 Nf3 d6 d4 cxd4 Nxd4 Nf6 Nc3 a6 Be3 Nc6 N...         B90   \n",
       "9366  b4 d5 d4 Nf6 Nf3 Nbd7 Nc3 e6 a3 g6 e4 dxe4 Ne5...         A00   \n",
       "\n",
       "                                           opening_name  opening_ply  \\\n",
       "0                                           Slav Indian          4.0   \n",
       "1                Zukertort Opening: Sicilian Invitation          2.0   \n",
       "2                                  Scandinavian Defense          2.0   \n",
       "3              Bishop's Opening: Philidor Counterattack          4.0   \n",
       "4     Nimzowitsch Defense: Scandinavian Variation | ...          5.0   \n",
       "...                                                 ...          ...   \n",
       "9362                      Ruy Lopez: Exchange Variation          7.0   \n",
       "9363            Sicilian Defense: Smith-Morra Gambit #2          3.0   \n",
       "9364                                       Bird Opening          1.0   \n",
       "9365  Sicilian Defense: Najdorf Variation |  English...         11.0   \n",
       "9366                                     Polish Opening          1.0   \n",
       "\n",
       "       game_time  \n",
       "0     152.045167  \n",
       "1     137.408000  \n",
       "2       0.929667  \n",
       "3     169.290000  \n",
       "4      49.667500  \n",
       "...          ...  \n",
       "9362  181.858500  \n",
       "9363   32.038167  \n",
       "9364  157.164167  \n",
       "9365   86.955000  \n",
       "9366  117.543000  \n",
       "\n",
       "[9367 rows x 15 columns]"
      ]
     },
     "execution_count": 4,
     "metadata": {},
     "output_type": "execute_result"
    }
   ],
   "source": [
    "games"
   ]
  },
  {
   "cell_type": "code",
   "execution_count": 5,
   "metadata": {},
   "outputs": [
    {
     "name": "stderr",
     "output_type": "stream",
     "text": [
      "C:\\Anaconda3\\lib\\site-packages\\pandas\\core\\indexing.py:205: SettingWithCopyWarning: \n",
      "A value is trying to be set on a copy of a slice from a DataFrame\n",
      "\n",
      "See the caveats in the documentation: http://pandas.pydata.org/pandas-docs/stable/user_guide/indexing.html#returning-a-view-versus-a-copy\n",
      "  self._setitem_with_indexer(indexer, value)\n"
     ]
    },
    {
     "name": "stdout",
     "output_type": "stream",
     "text": [
      "id -> 31\n",
      "rated -> 34\n",
      "turns -> 22\n",
      "victory_status -> 26\n",
      "winner -> 25\n",
      "increment_code -> 38\n",
      "white_id -> 32\n",
      "white_rating -> 27\n",
      "black_id -> 30\n",
      "black_rating -> 28\n",
      "moves -> 28\n",
      "opening_eco -> 28\n",
      "opening_name -> 36\n",
      "opening_ply -> 36\n",
      "game_time -> 29\n",
      "total null values :  450\n"
     ]
    }
   ],
   "source": [
    "for i in range(len(games[\"moves\"])):\n",
    "    if type(games[\"moves\"].iloc[i]) == str:\n",
    "        games[\"moves\"].iloc[i] = (games[\"moves\"].iloc[i]).split()\n",
    "total = 0\n",
    "for i in games:\n",
    "    total += games[i].isnull().sum()\n",
    "    print(i, \"->\", games[i].isnull().sum())\n",
    "print(\"total null values : \", total)"
   ]
  },
  {
   "cell_type": "code",
   "execution_count": 6,
   "metadata": {},
   "outputs": [
    {
     "data": {
      "text/html": [
       "<div>\n",
       "<style scoped>\n",
       "    .dataframe tbody tr th:only-of-type {\n",
       "        vertical-align: middle;\n",
       "    }\n",
       "\n",
       "    .dataframe tbody tr th {\n",
       "        vertical-align: top;\n",
       "    }\n",
       "\n",
       "    .dataframe thead th {\n",
       "        text-align: right;\n",
       "    }\n",
       "</style>\n",
       "<table border=\"1\" class=\"dataframe\">\n",
       "  <thead>\n",
       "    <tr style=\"text-align: right;\">\n",
       "      <th></th>\n",
       "      <th>rated</th>\n",
       "      <th>turns</th>\n",
       "      <th>white_rating</th>\n",
       "      <th>black_rating</th>\n",
       "      <th>opening_ply</th>\n",
       "      <th>game_time</th>\n",
       "    </tr>\n",
       "  </thead>\n",
       "  <tbody>\n",
       "    <tr>\n",
       "      <td>count</td>\n",
       "      <td>9333.000000</td>\n",
       "      <td>9345.000000</td>\n",
       "      <td>9340.000000</td>\n",
       "      <td>9339.000000</td>\n",
       "      <td>9331.000000</td>\n",
       "      <td>9338.000000</td>\n",
       "    </tr>\n",
       "    <tr>\n",
       "      <td>mean</td>\n",
       "      <td>0.814101</td>\n",
       "      <td>61.228571</td>\n",
       "      <td>1619.026660</td>\n",
       "      <td>1610.368990</td>\n",
       "      <td>4.943522</td>\n",
       "      <td>156.143948</td>\n",
       "    </tr>\n",
       "    <tr>\n",
       "      <td>std</td>\n",
       "      <td>0.389046</td>\n",
       "      <td>34.063919</td>\n",
       "      <td>289.789293</td>\n",
       "      <td>287.836558</td>\n",
       "      <td>2.923557</td>\n",
       "      <td>1077.763159</td>\n",
       "    </tr>\n",
       "    <tr>\n",
       "      <td>min</td>\n",
       "      <td>0.000000</td>\n",
       "      <td>1.000000</td>\n",
       "      <td>784.000000</td>\n",
       "      <td>789.000000</td>\n",
       "      <td>1.000000</td>\n",
       "      <td>0.320333</td>\n",
       "    </tr>\n",
       "    <tr>\n",
       "      <td>25%</td>\n",
       "      <td>1.000000</td>\n",
       "      <td>38.000000</td>\n",
       "      <td>1426.000000</td>\n",
       "      <td>1421.000000</td>\n",
       "      <td>3.000000</td>\n",
       "      <td>63.082458</td>\n",
       "    </tr>\n",
       "    <tr>\n",
       "      <td>50%</td>\n",
       "      <td>1.000000</td>\n",
       "      <td>56.000000</td>\n",
       "      <td>1595.000000</td>\n",
       "      <td>1586.000000</td>\n",
       "      <td>4.000000</td>\n",
       "      <td>109.546667</td>\n",
       "    </tr>\n",
       "    <tr>\n",
       "      <td>75%</td>\n",
       "      <td>1.000000</td>\n",
       "      <td>80.000000</td>\n",
       "      <td>1809.000000</td>\n",
       "      <td>1802.000000</td>\n",
       "      <td>6.000000</td>\n",
       "      <td>169.171667</td>\n",
       "    </tr>\n",
       "    <tr>\n",
       "      <td>max</td>\n",
       "      <td>1.000000</td>\n",
       "      <td>349.000000</td>\n",
       "      <td>2700.000000</td>\n",
       "      <td>2621.000000</td>\n",
       "      <td>28.000000</td>\n",
       "      <td>100974.116833</td>\n",
       "    </tr>\n",
       "  </tbody>\n",
       "</table>\n",
       "</div>"
      ],
      "text/plain": [
       "             rated        turns  white_rating  black_rating  opening_ply  \\\n",
       "count  9333.000000  9345.000000   9340.000000   9339.000000  9331.000000   \n",
       "mean      0.814101    61.228571   1619.026660   1610.368990     4.943522   \n",
       "std       0.389046    34.063919    289.789293    287.836558     2.923557   \n",
       "min       0.000000     1.000000    784.000000    789.000000     1.000000   \n",
       "25%       1.000000    38.000000   1426.000000   1421.000000     3.000000   \n",
       "50%       1.000000    56.000000   1595.000000   1586.000000     4.000000   \n",
       "75%       1.000000    80.000000   1809.000000   1802.000000     6.000000   \n",
       "max       1.000000   349.000000   2700.000000   2621.000000    28.000000   \n",
       "\n",
       "           game_time  \n",
       "count    9338.000000  \n",
       "mean      156.143948  \n",
       "std      1077.763159  \n",
       "min         0.320333  \n",
       "25%        63.082458  \n",
       "50%       109.546667  \n",
       "75%       169.171667  \n",
       "max    100974.116833  "
      ]
     },
     "execution_count": 6,
     "metadata": {},
     "output_type": "execute_result"
    }
   ],
   "source": [
    "games.describe()"
   ]
  },
  {
   "cell_type": "code",
   "execution_count": 7,
   "metadata": {},
   "outputs": [
    {
     "data": {
      "text/plain": [
       "0      -0.003803\n",
       "1      -0.017384\n",
       "2      -0.144015\n",
       "3       0.012198\n",
       "4      -0.098794\n",
       "          ...   \n",
       "9362    0.023859\n",
       "9363   -0.115151\n",
       "9364    0.000947\n",
       "9365   -0.064197\n",
       "9366   -0.035816\n",
       "Name: game_time, Length: 9367, dtype: float64"
      ]
     },
     "execution_count": 7,
     "metadata": {},
     "output_type": "execute_result"
    }
   ],
   "source": [
    "game_time_sd = games[\"game_time\"].std()\n",
    "game_time_mean = games[\"game_time\"].mean()\n",
    "new_game_time = (games[\"game_time\"] - game_time_mean)/game_time_sd\n",
    "new_game_time"
   ]
  },
  {
   "cell_type": "code",
   "execution_count": 8,
   "metadata": {},
   "outputs": [
    {
     "data": {
      "text/plain": [
       "{-0.026796191817120354: 3,\n",
       " -0.12195361651804046: 3,\n",
       " -0.11984740238311646: 3,\n",
       " -0.060071436964737004: 3,\n",
       " 0.003393805297760021: 3,\n",
       " 0.16339509920778852: 3,\n",
       " -0.09572630201750862: 3,\n",
       " -0.1348956992761846: 3,\n",
       " -0.09747900620291454: 3,\n",
       " 0.033248230850761853: 3,\n",
       " -0.04612588698768522: 3,\n",
       " -0.054521207044284974: 3,\n",
       " -0.09031200177580828: 3,\n",
       " -0.013924316196806992: 3,\n",
       " -0.06838788997223168: 3,\n",
       " -0.11432547181557859: 3,\n",
       " 0.13597967580867956: 3,\n",
       " 2.94794766166878: 3,\n",
       " -0.04432818219190759: 3,\n",
       " -0.14087768763016878: 3,\n",
       " 0.032344197970235765: 3,\n",
       " -0.12372163018944911: 3,\n",
       " -0.12412215108588473: 3,\n",
       " 0.0458163910113843: 3,\n",
       " -0.10624778493321776: 3,\n",
       " -0.02202318893353527: 3,\n",
       " -0.12873711058871412: 3,\n",
       " -0.10025512633141348: 3,\n",
       " -0.0855317307524037: 3,\n",
       " 0.8918776604896221: 2,\n",
       " -0.07704780124651532: 2,\n",
       " -0.02511570510609106: 2,\n",
       " 0.37718542166148417: 2,\n",
       " -0.10004666989573965: 2,\n",
       " -0.06137428968769843: 2,\n",
       " -0.06446263054588985: 2,\n",
       " -0.1034407365501678: 2,\n",
       " -0.13420135996151436: 2,\n",
       " -0.055609417680662354: 2,\n",
       " -0.09652579739765232: 2,\n",
       " -0.14231724323824568: 2,\n",
       " -0.034577895303427975: 2,\n",
       " -0.10409053917828459: 2,\n",
       " -0.008243878324695189: 2,\n",
       " -0.09170748462114998: 2,\n",
       " -0.055466993068454956: 2,\n",
       " 0.009909151401476421: 2,\n",
       " 0.15748192622018034: 2,\n",
       " -0.06564934767301223: 2,\n",
       " -0.021410036287061437: 2,\n",
       " -0.1315740047374058: 2,\n",
       " 0.02620865083240581: 2,\n",
       " 0.004509851363233324: 2,\n",
       " 0.18440512644810997: 2,\n",
       " -0.06267142068356794: 2,\n",
       " -0.12633553162282798: 2,\n",
       " -0.07642954543804056: 2,\n",
       " -0.06785190332086262: 2,\n",
       " 0.09203062609169: 2,\n",
       " -0.10755836971981694: 2,\n",
       " 0.008758620332178727: 2,\n",
       " -0.020017955549720332: 2,\n",
       " -0.05894472065144361: 2,\n",
       " -0.08845553329638373: 2,\n",
       " 0.023691554835771598: 2,\n",
       " 0.3869851937572455: 2,\n",
       " -0.0608313441790554: 2,\n",
       " -0.05297154685000645: 2,\n",
       " -0.04803044890293662: 2,\n",
       " -0.004292948447076014: 2,\n",
       " -0.09598841897482846: 2,\n",
       " 0.032235330514216204: 2,\n",
       " -0.10549700155399191: 2,\n",
       " -0.1216457257439851: 2,\n",
       " 0.023719390264867513: 2,\n",
       " -0.061482229296081464: 2,\n",
       " 0.025645292675759105: 2,\n",
       " -0.07597258047704936: 2,\n",
       " -0.06803979246726002: 2,\n",
       " 0.12827683937147696: 2,\n",
       " 0.025111934926026848: 2,\n",
       " -0.11999678585259785: 2,\n",
       " -0.006741383718606965: 2,\n",
       " -0.08447367516421356: 2,\n",
       " 0.034990574070893204: 2,\n",
       " 0.578181034489971: 2,\n",
       " 0.023110722215303543: 2,\n",
       " 13.772836754523345: 2,\n",
       " -0.05914869249020752: 2,\n",
       " -0.030745575282011967: 2,\n",
       " -0.1288229364950932: 2,\n",
       " -0.0733466170243956: 2,\n",
       " -0.07727419606982874: 2,\n",
       " -0.08968756031642333: 2,\n",
       " -0.01701265705499839: 2,\n",
       " -0.006519937416021692: 2,\n",
       " -0.1347285320603364: 2,\n",
       " -0.008466561757462465: 2,\n",
       " -0.14124542457678035: 2,\n",
       " -0.04203608924713203: 2,\n",
       " -0.08640993854037973: 2,\n",
       " -0.05843347660371537: 2,\n",
       " -0.06754741465480789: 2,\n",
       " -0.07536855166566807: 2,\n",
       " 0.0651728391221358: 2,\n",
       " -0.1412112488555015: 2,\n",
       " -0.11170507544874402: 2,\n",
       " -0.06586197942305044: 2,\n",
       " 0.06833509850870415: 2,\n",
       " 0.17622491240191254: 2,\n",
       " 0.05580111406936057: 2,\n",
       " -0.04888159446818048: 2,\n",
       " -0.1341166165440446: 2,\n",
       " -0.12164216899471175: 2,\n",
       " -0.08517435477106676: 2,\n",
       " -0.011005307532282366: 2,\n",
       " 0.019080925288579305: 2,\n",
       " -0.14172929711923093: 2,\n",
       " -0.07046735116696903: 2,\n",
       " 0.0258320993332472: 2,\n",
       " -0.013692972852765408: 2,\n",
       " -0.06796958532942922: 2,\n",
       " -0.028992252531515033: 2,\n",
       " 0.005593732043973561: 2,\n",
       " 0.1595119022076361: 2,\n",
       " -0.10053811986055523: 2,\n",
       " -0.02667108702746152: 2,\n",
       " -0.08772732754298013: 2,\n",
       " 0.15900034887736234: 2,\n",
       " -0.026228967628654787: 2,\n",
       " -0.1122740006912099: 2,\n",
       " -0.04750636962956972: 2,\n",
       " -0.11337628368340799: 2,\n",
       " -0.135144826366593: 2,\n",
       " -0.04168257929761395: 2,\n",
       " -0.0411837065517061: 2,\n",
       " -0.11281725548239845: 2,\n",
       " -0.08492615552829488: 2,\n",
       " -0.09069736782751392: 2,\n",
       " -0.03703499048623322: 2,\n",
       " -0.11895666865204728: 2,\n",
       " -0.14308797534165693: 2,\n",
       " -0.08004505839505399: 2,\n",
       " -0.049265723389704065: 2,\n",
       " -0.07754899361151449: 2,\n",
       " -0.015817280016601744: 2,\n",
       " -0.06930413951330543: 2,\n",
       " -0.06632002687295094: 2,\n",
       " 0.18628556432481155: 2,\n",
       " -0.08597848938939309: 2,\n",
       " 0.0035018995474158134: 2,\n",
       " -0.02106302127099908: 2,\n",
       " -0.018553038772911597: 2,\n",
       " -0.00281473252081035: 2,\n",
       " -0.13609664340040045: 2,\n",
       " -0.011068401171566444: 2,\n",
       " -0.0652564041989416: 2,\n",
       " -0.06354050463645139: 2,\n",
       " -0.057453205575721006: 2,\n",
       " -0.024198682358653516: 2,\n",
       " -0.059914785355436144: 2,\n",
       " -0.08919873925324456: 2,\n",
       " -0.05062502017722109: 2,\n",
       " -0.09040215763782448: 2,\n",
       " 0.059608691487135816: 2,\n",
       " -0.029865357157490134: 2,\n",
       " 0.0562990589676319: 2,\n",
       " -0.13459353022922121: 2,\n",
       " -0.13096348099256883: 2,\n",
       " -0.05506879179111067: 2,\n",
       " -0.039337289755010635: 2,\n",
       " 0.10812383406476417: 2,\n",
       " -0.08002108899777696: 2,\n",
       " -0.009913076222813342: 2,\n",
       " -0.12476112882490864: 2,\n",
       " -0.04830586500971339: 2,\n",
       " -0.05317768366658896: 2,\n",
       " -0.09722152848377735: 2,\n",
       " -0.12807014277932155: 2,\n",
       " -0.03350932410869048: 2,\n",
       " 0.34723511851937416: 2,\n",
       " -0.004693469343511637: 2,\n",
       " -0.1147498074680185: 2,\n",
       " -0.13505451586330405: 2,\n",
       " -0.04125994469917436: 2,\n",
       " 0.005058363957695527: 2,\n",
       " -0.015057991367374377: 2,\n",
       " -0.05839265130770803: 2,\n",
       " 0.12540159418714208: 2,\n",
       " 0.03263445963919703: 2,\n",
       " -0.13828280707333881: 2,\n",
       " -0.008563676476752652: 2,\n",
       " 1.0876380476702592: 2,\n",
       " -0.1046435363696567: 2,\n",
       " -0.03520403781681326: 2,\n",
       " -0.09453061569656647: 2,\n",
       " 0.01945701286391966: 2,\n",
       " -0.08582725022463863: 2,\n",
       " 0.035244804323302535: 2,\n",
       " 0.10693402411218669: 2,\n",
       " 0.42437575245541986: 2,\n",
       " -0.009541627885655686: 2,\n",
       " -0.0023755513061859686: 2,\n",
       " -0.013013788382825162: 2,\n",
       " -0.09857711388074826: 2,\n",
       " 0.008717176471080392: 2,\n",
       " 0.2490014149795376: 2,\n",
       " -0.127931584198933: 2,\n",
       " -0.13087842829255353: 2,\n",
       " -0.05057213286193886: 2,\n",
       " 0.8645089387548853: 2,\n",
       " 0.016815121360172134: 2,\n",
       " 0.1191539321265647: 2,\n",
       " -0.05704866400619377: 2,\n",
       " 0.0170543514091242: 2,\n",
       " 0.035845585667955975: 2,\n",
       " -0.0009373874695638515: 2,\n",
       " -0.06831907460585566: 2,\n",
       " 0.12820848792891928: 2,\n",
       " -0.009256160096149827: 2,\n",
       " -0.12095989169931641: 2,\n",
       " -0.09037973465327499: 2,\n",
       " 0.04809564873052121: 2,\n",
       " 0.11046556685809408: 2,\n",
       " -0.12857056193795693: 2,\n",
       " 0.43689226243094204: 2,\n",
       " -0.07773610955154812: 2,\n",
       " 0.0052385210404551725: 2,\n",
       " -0.0681978358480157: 2,\n",
       " -0.13374269394652283: 2,\n",
       " 0.008781971164364752: 2,\n",
       " -0.03851119607595308: 2,\n",
       " 0.06557366930111691: 2,\n",
       " -0.09061695436568128: 2,\n",
       " -0.05674293820995699: 2,\n",
       " -0.0472204379162456: 2,\n",
       " -0.03280385062238187: 2,\n",
       " -0.002301632777809046: 2,\n",
       " -0.05215921624422409: 2,\n",
       " 0.02708917823947311: 2,\n",
       " -0.10365677040820663: 2,\n",
       " -0.1442204133820423: 2,\n",
       " 0.01077034864944938: 2,\n",
       " -0.05802197617691414: 2,\n",
       " -0.11954291371706173: 2,\n",
       " -0.03182342495311478: 2,\n",
       " -0.0385489285465053: 2,\n",
       " -0.012818785737880986: 2,\n",
       " -0.011983104299912667: 2,\n",
       " -0.07375255036537764: 2,\n",
       " -0.07414271029653867: 2,\n",
       " 0.06355111609475345: 2,\n",
       " -0.12198114266459084: 2,\n",
       " 0.8428470985499013: 2,\n",
       " -0.14014716225767387: 2,\n",
       " -0.12733838027664457: 2,\n",
       " 0.0566762290318815: 2,\n",
       " 0.678111771357022: 2,\n",
       " -0.05905436131382697: 2,\n",
       " 0.001447490238864768: 2,\n",
       " -0.06350818461044559: 2,\n",
       " -0.02523122213683908: 2,\n",
       " -0.100859619066613: 2,\n",
       " -0.10746264677198154: 2,\n",
       " -0.08109878402760702: 2,\n",
       " -0.032025541096605645: 2,\n",
       " 0.08073856571384239: 2,\n",
       " -0.023442177252335727: 2,\n",
       " -0.04845478455537652: 2,\n",
       " -0.09056576810439934: 2,\n",
       " 0.0895328602541502: 2,\n",
       " -0.06675364100175614: 2,\n",
       " -0.03285611937257311: 2,\n",
       " -0.00023438824361932624: 2,\n",
       " -0.1322448385786173: 2,\n",
       " 0.013324867834090296: 2,\n",
       " -0.12211305167025092: 2,\n",
       " -0.017457559996714715: 2,\n",
       " 0.030854538589786193: 2,\n",
       " 0.18071059180071877: 2,\n",
       " -0.10802801526517407: 2,\n",
       " -0.02617406997682672: 2,\n",
       " -0.1278524078672824: 2,\n",
       " -0.002642771425506705: 2,\n",
       " -0.043105433648233306: 2,\n",
       " 0.005104447056976536: 2,\n",
       " -0.10320367147903431: 2,\n",
       " -0.0384233598330282: 2,\n",
       " -0.10671619334839286: 2,\n",
       " -0.096210947766323: 2,\n",
       " -0.13035311188900456: 2,\n",
       " -0.09457716271966575: 2,\n",
       " -0.13008743818241136: 2,\n",
       " -0.09567774465786352: 2,\n",
       " -0.1161101867444448: 2,\n",
       " -0.05870332562467296: 2,\n",
       " 0.014387253377917603: 1,\n",
       " 0.04751404290368938: 1,\n",
       " 0.00819201470880416: 1,\n",
       " -7.062313577170817e-05: 1,\n",
       " -0.07990959264012056: 1,\n",
       " -0.05338876900389963: 1,\n",
       " -0.13006965443604454: 1,\n",
       " 0.0041557228486242565: 1,\n",
       " -0.08701211165648795: 1,\n",
       " -0.039563529937051305: 1,\n",
       " 0.10937936655826253: 1,\n",
       " -0.006501689745836621: 1,\n",
       " -0.06263647175592527: 1,\n",
       " 0.443498846885584: 1,\n",
       " -0.021036732254630715: 1,\n",
       " -0.05648747082736562: 1,\n",
       " -0.0006500639847849485: 1,\n",
       " 0.12560432889572398: 1,\n",
       " 0.002186830163906727: 1,\n",
       " -0.12624815930372135: 1,\n",
       " 0.06769148153149755: 1,\n",
       " -0.04912252557113289: 1,\n",
       " -0.07982051926701364: 1,\n",
       " 0.07935885627832172: 1,\n",
       " -0.07753986977642194: 1,\n",
       " -0.07748203394041155: 1,\n",
       " -0.10033167376142722: 1,\n",
       " -0.11689591905131329: 1,\n",
       " -0.08060826191042794: 1,\n",
       " -0.04132334762100391: 1,\n",
       " -0.04035343755828416: 1,\n",
       " -0.10020656897176837: 1,\n",
       " 0.0524345735614828: 1,\n",
       " -0.101904530146619: 1,\n",
       " -0.11656885275943632: 1,\n",
       " -0.12044416305467825: 1,\n",
       " 0.3192869559356239: 1,\n",
       " -0.016309503187781106: 1,\n",
       " -0.07822523989727238: 1,\n",
       " -0.13436976430754463: 1,\n",
       " -0.08853239000894299: 1,\n",
       " 0.04495210093795624: 1,\n",
       " 0.2534638981874305: 1,\n",
       " -0.09279151994316301: 1,\n",
       " 0.004491139769229947: 1,\n",
       " -0.07684645830938822: 1,\n",
       " 0.12634877198276684: 1,\n",
       " 0.18593143581020244: 1,\n",
       " 0.028145378132390222: 1,\n",
       " -0.1007185862258604: 1,\n",
       " 0.0034667959785004087: 1,\n",
       " -0.041353811951736694: 1,\n",
       " 0.20013693776675553: 1,\n",
       " -0.04536226838282073: 1,\n",
       " 0.02020980657969131: 1,\n",
       " -0.030964392682960383: 1,\n",
       " 0.22291961791666826: 1,\n",
       " -0.13011573753532554: 1,\n",
       " -0.09662445852967004: 1,\n",
       " -0.07466338746190497: 1,\n",
       " -0.11561487074781032: 1,\n",
       " -0.119557913920519: 1,\n",
       " -0.0659402279070645: 1,\n",
       " -0.08227297521163622: 1,\n",
       " 0.058619605906594416: 1,\n",
       " -0.03391231926549019: 1,\n",
       " -0.008250063975605387: 1,\n",
       " -0.05961184310210896: 1,\n",
       " -0.023477280821251133: 1,\n",
       " -0.008552696946387047: 1,\n",
       " -0.05276958534778837: 1,\n",
       " -0.10798579819771194: 1,\n",
       " 0.22623126077271802: 1,\n",
       " -0.03952889029195414: 1,\n",
       " 0.016816977055445152: 1,\n",
       " -0.05924255974276987: 1,\n",
       " -0.08514419972287952: 1,\n",
       " -0.13409202858167651: 1,\n",
       " -0.14105011264929068: 1,\n",
       " -0.012591153784385568: 1,\n",
       " -0.03473315514127407: 1,\n",
       " 0.044519723939333046: 1,\n",
       " 0.2352638575143414: 1,\n",
       " -0.12408333612642321: 1,\n",
       " -0.05003011520093238: 1,\n",
       " -0.09175093881879416: 1,\n",
       " -0.04801421156929734: 1,\n",
       " 0.10699572598001593: 1,\n",
       " -0.07688852073557761: 1,\n",
       " -0.03385742161366213: 1,\n",
       " -0.12124597805391325: 1,\n",
       " -0.044377822040461964: 1,\n",
       " -0.06319194320766149: 1,\n",
       " -0.1392629234600604: 1,\n",
       " -0.02850853463033719: 1,\n",
       " 0.013449354058658089: 1,\n",
       " -0.1067008838623901: 1,\n",
       " -0.0414965458464896: 1,\n",
       " -0.10251041465327333: 1,\n",
       " -0.06813829895800498: 1,\n",
       " 0.11816994970802423: 1,\n",
       " -0.0839301110904795: 1,\n",
       " -0.06255157369718274: 1,\n",
       " 0.05937966776218553: 1,\n",
       " 0.35700241594785687: 1,\n",
       " 0.13437001480057206: 1,\n",
       " -0.11808217225461738: 1,\n",
       " -0.033915876014763556: 1,\n",
       " 0.03696317814615682: 1,\n",
       " -0.031767444812377435: 1,\n",
       " -0.08211106579906166: 1,\n",
       " -0.003921036186100077: 1,\n",
       " -0.10076513324895967: 1,\n",
       " -0.06618517968310851: 1,\n",
       " -0.05602138203128186: 1,\n",
       " -0.0033398942830865537: 1,\n",
       " -0.10481859029041544: 1,\n",
       " 0.04342161626149937: 1,\n",
       " -0.10206984166719416: 1,\n",
       " -0.024444561982334082: 1,\n",
       " -0.05495528509690844: 1,\n",
       " -0.07735646522693444: 1,\n",
       " 0.2096798507084706: 1,\n",
       " -0.03313942218426037: 1,\n",
       " 0.56122415500856: 1,\n",
       " -0.07322800716819244: 1,\n",
       " -0.10985417405513864: 1,\n",
       " -0.08736500304091502: 1,\n",
       " -0.056971034087270715: 1,\n",
       " -0.07622758393582246: 1,\n",
       " -0.05314428115167387: 1,\n",
       " -0.03996327762712314: 1,\n",
       " 0.010253073592083684: 1,\n",
       " -0.06760447728445451: 1,\n",
       " -0.11845238346159301: 1,\n",
       " -0.10952092211235145: 1,\n",
       " -0.05615035285275957: 1,\n",
       " -0.07284805356103326: 1,\n",
       " -0.039144297446612304: 1,\n",
       " -0.034291654307558365: 1,\n",
       " -0.07327811094056509: 1,\n",
       " 0.0023238423315677273: 1,\n",
       " 0.02705933247383142: 1,\n",
       " 0.08016098056010224: 1,\n",
       " -0.0064978237140176955: 1,\n",
       " -0.031784764634925994: 1,\n",
       " 0.01812787112458987: 1,\n",
       " 0.1185822233411892: 1,\n",
       " -0.1236050306697918: 1,\n",
       " -0.1126343148567292: 1,\n",
       " -0.0461903723984241: 1,\n",
       " 0.00039036249831109643: 1,\n",
       " -0.015052888205373448: 1,\n",
       " -0.06336900746496602: 1,\n",
       " -0.06481459408268037: 1,\n",
       " -0.09701802056883169: 1,\n",
       " -0.013969316807178707: 1,\n",
       " -0.0927519317773377: 1,\n",
       " 0.011816496859637395: 1,\n",
       " 0.05493357652920468: 1,\n",
       " -0.08454202660677129: 1,\n",
       " -0.04276213002271706: 1,\n",
       " 0.7701005963791907: 1,\n",
       " 0.10614334328459003: 1,\n",
       " -0.08514512757051604: 1,\n",
       " 0.02249107463537405: 1,\n",
       " -0.03065356372472268: 1,\n",
       " -0.06369993978866187: 1,\n",
       " -0.049804802866528226: 1,\n",
       " -0.0216351939801928: 1,\n",
       " 0.009766726789268997: 1,\n",
       " -0.066215180090023: 1,\n",
       " 0.08646988056469063: 1,\n",
       " 0.007497520752861183: 1,\n",
       " -0.06734034999058885: 1,\n",
       " 0.03313023955964978: 1,\n",
       " -0.1219273275016721: 1,\n",
       " 0.02987287579033707: 1,\n",
       " -0.07792198836139971: 1,\n",
       " -0.06063510440392922: 1,\n",
       " -0.08631730841799942: 1,\n",
       " -0.034761454494188264: 1,\n",
       " -0.09834716230816147: 1,\n",
       " 0.13252823724205925: 1,\n",
       " -0.0661005909069115: 1,\n",
       " -0.12823529965862396: 1,\n",
       " -0.06184733734105617: 1,\n",
       " -0.02657180733035277: 1,\n",
       " 0.04980381622937364: 1,\n",
       " 0.03025963361349746: 1,\n",
       " -0.1267846098789087: 1,\n",
       " 0.06219398428505495: 1,\n",
       " -0.06086567454160704: 1,\n",
       " -0.031759558107466924: 1,\n",
       " 0.03977455648484391: 1,\n",
       " -0.016000066000998233: 1,\n",
       " -0.0978029796693364: 1,\n",
       " -0.11475027139183674: 1,\n",
       " -0.01919387220720858: 1,\n",
       " -0.07984433402301792: 1,\n",
       " -0.009479616735280904: 1,\n",
       " 0.01620444297406236: 1,\n",
       " 0.016599860708497085: 1,\n",
       " -0.11239106413468547: 1,\n",
       " -0.1290593830011357: 1,\n",
       " -0.09977743943987306: 1,\n",
       " -0.006042869089572327: 1,\n",
       " 0.04883916396992754: 1,\n",
       " 0.04377342515701711: 1,\n",
       " -0.007394279172178848: 1,\n",
       " -0.12192346146985322: 1,\n",
       " -0.053666350088494984: 1,\n",
       " -0.05155565135666108: 1,\n",
       " 0.027030878479644468: 1,\n",
       " -0.06908934278544865: 1,\n",
       " 0.12872638155137597: 1,\n",
       " -0.10627283681940408: 1,\n",
       " -0.0863949383369225: 1,\n",
       " -0.013082449107928449: 1,\n",
       " -0.05846084810899301: 1,\n",
       " 0.020031041268386424: 1,\n",
       " 0.01263052851942005: 1,\n",
       " -0.0774945598835047: 1,\n",
       " -0.14431984772042378: 1,\n",
       " 0.0035087037634170246: 1,\n",
       " -0.0480318406743914: 1,\n",
       " 0.007734121900176428: 1,\n",
       " -0.010686746510406932: 1,\n",
       " 0.0018395058652988447: 1,\n",
       " -0.11277039917675366: 1,\n",
       " 0.4686119710159156: 1,\n",
       " 0.02624561009659426: 1,\n",
       " -0.06603703334380917: 1,\n",
       " 0.11371318822722325: 1,\n",
       " 0.0014358921434081224: 1,\n",
       " -0.039589355029601384: 1,\n",
       " 0.025411011147535155: 1,\n",
       " 0.010008585739857932: 1,\n",
       " -0.12765678665724725: 1,\n",
       " -0.01843566604689051: 1,\n",
       " -0.07484725593521074: 1,\n",
       " -0.09101206281757047: 1,\n",
       " -0.051501217628651313: 1,\n",
       " -0.08755768606676781: 1,\n",
       " -0.07793482358703838: 1,\n",
       " -0.044919066495104715: 1,\n",
       " -0.016834510308784547: 1,\n",
       " -0.06916310667255281: 1,\n",
       " -0.04517082248714996: 1,\n",
       " -0.05889987468234466: 1,\n",
       " -0.010377927888715072: 1,\n",
       " -0.03895377939857807: 1,\n",
       " 0.006696942883808216: 1,\n",
       " -0.07466833598263313: 1,\n",
       " -0.09057690227603771: 1,\n",
       " 0.009855181597284905: 1,\n",
       " -0.0946643803974996: 1,\n",
       " 0.08325674419938589: 1,\n",
       " -0.049910268214547186: 1,\n",
       " -0.008487747611829953: 1,\n",
       " -0.007933667931548516: 1,\n",
       " -0.05333046924407098: 1,\n",
       " -0.020410899023790945: 1,\n",
       " 0.08685447341003248: 1,\n",
       " -0.11535213522539947: 1,\n",
       " -0.05365119524376496: 1,\n",
       " -0.026620364689997837: 1,\n",
       " -0.010174265332496641: 1,\n",
       " -0.040551842311228915: 1,\n",
       " -0.016339039670877326: 1,\n",
       " -0.026354690983404636: 1,\n",
       " -0.0757800520924693: 1,\n",
       " -0.013830603585517423: 1,\n",
       " -0.03532867868265383: 1,\n",
       " -0.05376794940469505: 1,\n",
       " -0.013584260038018601: 1,\n",
       " -0.07543164530495212: 1,\n",
       " 0.017680339281236676: 1,\n",
       " -0.012472234645636932: 1,\n",
       " -0.05637566518716373: 1,\n",
       " 0.036485181972070874: 1,\n",
       " -0.02003836819772399: 1,\n",
       " -0.05103095351820314: 1,\n",
       " 0.06653986797329059: 1,\n",
       " -0.1416331102475773: 1,\n",
       " -0.04940892120827529: 1,\n",
       " -0.003241697074887071: 1,\n",
       " -0.12766513728597603: 1,\n",
       " -0.07123653685765272: 1,\n",
       " -0.041203964558437035: 1,\n",
       " -0.017746429894221167: 1,\n",
       " -0.08887925038373261: 1,\n",
       " 0.07201772577809326: 1,\n",
       " -0.08996591460738246: 1,\n",
       " -0.029267204714473544: 1,\n",
       " -0.0980916949255701: 1,\n",
       " -0.08581627069427303: 1,\n",
       " 0.006359206344111149: 1,\n",
       " -0.07133427014203392: 1,\n",
       " -0.07871653522081523: 1,\n",
       " 0.05903203418103218: 1,\n",
       " -0.07134184756439893: 1,\n",
       " -0.09593723271354654: 1,\n",
       " -0.09319776256669055: 1,\n",
       " -0.05644324342335768: 1,\n",
       " 0.7918402211443705: 1,\n",
       " -0.09783282543497812: 1,\n",
       " 0.0038108728103804323: 1,\n",
       " 0.09598031883912711: 1,\n",
       " 0.0061549252228017045: 1,\n",
       " 0.020664451921591234: 1,\n",
       " 0.34690001088131395: 1,\n",
       " 0.009577755153962312: 1,\n",
       " -0.022235975324846235: 1,\n",
       " 0.024317542707884103: 1,\n",
       " -0.05825393808604674: 1,\n",
       " -0.12795926498675617: 1,\n",
       " 0.10056017477304116: 1,\n",
       " -0.14160960477411852: 1,\n",
       " -0.019237326404852772: 1,\n",
       " -0.04058524482614401: 1,\n",
       " -0.0031014374404982384: 1,\n",
       " -0.011676296014766612: 1,\n",
       " -0.04397621865511708: 1,\n",
       " 0.070628273942389: 1,\n",
       " -0.10841755663124407: 1,\n",
       " 0.0767089234283909: 1,\n",
       " -0.09626352579905972: 1,\n",
       " -0.1252414446180859: 1,\n",
       " -0.08737613721255338: 1,\n",
       " 0.0246241963517574: 1,\n",
       " -0.1189820298207791: 1,\n",
       " 0.06752446895692209: 1,\n",
       " -0.05426929641096697: 1,\n",
       " 0.01137468674337617: 1,\n",
       " -0.12171036579599673: 1,\n",
       " -0.10314227889375054: 1,\n",
       " 0.17388271568476432: 1,\n",
       " -0.006590763118943516: 1,\n",
       " -0.025020136799528424: 1,\n",
       " -0.042386506371195024: 1,\n",
       " -0.05622659100022783: 1,\n",
       " -0.11611374349371816: 1,\n",
       " -0.11684380494239482: 1,\n",
       " -0.02588535472059302: 1,\n",
       " -0.11864274686835449: 1,\n",
       " -0.1389438985143667: 1,\n",
       " -0.12056617501888199: 1,\n",
       " -0.010130037928488702: 1,\n",
       " -0.09159181294912921: 1,\n",
       " -0.02931421566139106: 1,\n",
       " -0.11071320632529301: 1,\n",
       " -0.0768028494704713: 1,\n",
       " 0.00555275210669348: 1,\n",
       " -0.11682308301184564: 1,\n",
       " -0.08845661578529301: 1,\n",
       " 0.07191921928734829: 1,\n",
       " -0.07764796402607772: 1,\n",
       " -0.0800391820266893: 1,\n",
       " -0.12238568423411811: 1,\n",
       " -0.04221500919970963: 1,\n",
       " -0.013844830582610886: 1,\n",
       " 0.03569821253502038: 1,\n",
       " -0.04194098486438766: 1,\n",
       " -0.04313419692496574: 1,\n",
       " -0.01965362071110938: 1,\n",
       " 0.025333845152430375: 1,\n",
       " -0.013490856709274553: 1,\n",
       " 0.09454478390414184: 1,\n",
       " -0.06293925936797971: 1,\n",
       " -0.09035128065908808: 1,\n",
       " -0.0282603353875653: 1,\n",
       " -0.06310024093291774: 1,\n",
       " -0.10735810927159913: 1,\n",
       " -0.020126359081921643: 1,\n",
       " -0.055526684599738405: 1,\n",
       " -0.03291055310058288: 1,\n",
       " -0.11059212220872582: 1,\n",
       " -0.044231995320253945: 1,\n",
       " -0.10918256700756337: 1,\n",
       " -0.11249513771124962: 1,\n",
       " 0.028556105352827703: 1,\n",
       " -0.05027970621515904: 1,\n",
       " -0.07951216456914004: 1,\n",
       " 0.4377107786876347: 1,\n",
       " -0.13855141896411435: 1,\n",
       " -0.07334909128475967: 1,\n",
       " -0.0673306075904053: 1,\n",
       " -0.06591672243360573: 1,\n",
       " -0.010515094697648808: 1,\n",
       " -0.08222070646144501: 1,\n",
       " 0.0024787928868682777: 1,\n",
       " -0.09826040855414588: 1,\n",
       " 0.08569883917873389: 1,\n",
       " 0.0037824188161934788: 1,\n",
       " -0.015512327426728756: 1,\n",
       " 0.0034638577943180175: 1,\n",
       " 0.1126738442330364: 1,\n",
       " -0.057467896496632725: 1,\n",
       " -0.11879769742365506: 1,\n",
       " -0.028054507853528334: 1,\n",
       " 0.10206282402040215: 1,\n",
       " -0.018437985665981833: 1,\n",
       " 0.479241238898735: 1,\n",
       " 0.16179487131731915: 1,\n",
       " 0.03575017200266609: 1,\n",
       " 0.011971447414937973: 1,\n",
       " -0.031716413192368245: 1,\n",
       " -0.06441793921806362: 1,\n",
       " -0.009848590812074476: 1,\n",
       " -0.029500558395060942: 1,\n",
       " -0.08196152768830751: 1,\n",
       " -0.11968131765617751: 1,\n",
       " -0.02045682748179922: 1,\n",
       " 0.16103310840772767: 1,\n",
       " -0.062222960992578236: 1,\n",
       " -0.11010160009154674: 1,\n",
       " -0.07243516136277722: 1,\n",
       " -0.11036433561395759: 1,\n",
       " -0.012660123792034322: 1,\n",
       " -0.044009466528759415: 1,\n",
       " -0.009016620764652244: 1,\n",
       " -0.03524718273191192: 1,\n",
       " -0.028318944429939492: 1,\n",
       " -0.016062231792645775: 1,\n",
       " 0.7051524989522455: 1,\n",
       " -0.13498771083347388: 1,\n",
       " 0.019651242302500007: 1,\n",
       " -0.04736208932208924: 1,\n",
       " 0.020081608964577374: 1,\n",
       " 0.038062832236718046: 1,\n",
       " -0.006609629354219653: 1,\n",
       " -0.09661054081512209: 1,\n",
       " 0.11125238165387187: 1,\n",
       " -0.11589662714677006: 1,\n",
       " 0.02382269063506787: 1,\n",
       " 0.16425954392248934: 1,\n",
       " 0.04740996932712525: 1,\n",
       " -0.06876536931902678: 1,\n",
       " -0.09281270579753044: 1,\n",
       " -0.09236888534472341: 1,\n",
       " -0.14395458503417632: 1,\n",
       " -0.03194899366659188: 1,\n",
       " -0.0027029268806084447: 1,\n",
       " -0.10727197408267454: 1,\n",
       " -0.09430824154634468: 1,\n",
       " 0.021068838849845704: 1,\n",
       " -0.032817459054384324: 1,\n",
       " -0.10296212181099088: 1,\n",
       " 0.03609997056163801: 1,\n",
       " 0.07316763828229988: 1,\n",
       " 0.4764233656265922: 1,\n",
       " -0.13281979483072062: 1,\n",
       " -0.11741350339122449: 1,\n",
       " -0.0012547113612572573: 1,\n",
       " 1.357708051006615: 1,\n",
       " -0.021263745643035143: 1,\n",
       " 0.1508906512515412: 1,\n",
       " 0.005963788609676428: 1,\n",
       " -0.11713731407808393: 1,\n",
       " -0.05572818217813824: 1,\n",
       " -0.06838928174368647: 1,\n",
       " 0.035616252660460195: 1,\n",
       " -0.11699256984678519: 1,\n",
       " 0.0037050981798159638: 1,\n",
       " -0.06358674237700516: 1,\n",
       " 0.22277935828227943: 1,\n",
       " -0.041893819276197376: 1,\n",
       " -0.011274692629421693: 1,\n",
       " 0.2710076412989471: 1,\n",
       " 0.02262112794576105: 1,\n",
       " 0.03456608377718055: 1,\n",
       " -0.06414515201292369: 1,\n",
       " -0.026121801226635516: 1,\n",
       " -0.04621325930679185: 1,\n",
       " 0.021103014571124575: 1,\n",
       " -0.1113447612832247: 1,\n",
       " -0.11453284576234313: 1,\n",
       " -0.071267929036022: 1,\n",
       " -0.06658817483990821: 1,\n",
       " 0.0004973742590576466: 1,\n",
       " 0.03963924537118322: 1,\n",
       " -0.06652260694026006: 1,\n",
       " 0.044970812531959566: 1,\n",
       " -0.06315405609583649: 1,\n",
       " -0.0008507883568210147: 1,\n",
       " 0.010251217896810614: 1,\n",
       " 0.10852899419938243: 1,\n",
       " -0.08480290643390909: 1,\n",
       " -0.05950374885245318: 1,\n",
       " 1.7550199863912934: 1,\n",
       " -0.0425617149332265: 1,\n",
       " 0.2668966577040265: 1,\n",
       " -0.06546006675516002: 1,\n",
       " 0.035107637514368774: 1,\n",
       " -0.03487511582966324: 1,\n",
       " -0.03524115172227446: 1,\n",
       " -0.015503667515454476: 1,\n",
       " -0.07106241078453053: 1,\n",
       " -0.05700598301491336: 1,\n",
       " -0.0013727026523693597: 1,\n",
       " -0.022710569390931516: 1,\n",
       " -0.02246360727834168: 1,\n",
       " -0.03594183132912765: 1,\n",
       " 0.38515980817364465: 1,\n",
       " -0.04511437842259437: 1,\n",
       " -0.07013100639872677: 1,\n",
       " 0.11494908127908171: 1,\n",
       " -0.009188891142501382: 1,\n",
       " -0.13728181411479526: 1,\n",
       " -0.11910775317552898: 1,\n",
       " -0.08115801163507219: 1,\n",
       " -0.05158255893812045: 1,\n",
       " -0.0908849476913658: 1,\n",
       " -0.09274791110424607: 1,\n",
       " -0.08017371993398621: 1,\n",
       " -0.11480439583730102: 1,\n",
       " -0.08238632726456568: 1,\n",
       " 0.09012730130662068: 1,\n",
       " 0.13789861936229714: 1,\n",
       " -0.06067067189666289: 1,\n",
       " -0.11997498143313941: 1,\n",
       " -0.034522069803963426: 1,\n",
       " -0.0442734391813523: 1,\n",
       " -0.0692495511440229: 1,\n",
       " -0.002856176381908712: 1,\n",
       " 0.13286288095630122: 1,\n",
       " 0.188993796934571: 1,\n",
       " -0.08906048995540153: 1,\n",
       " -0.08869832009460918: 1,\n",
       " -0.033310455431927455: 1,\n",
       " -0.002739112938433118: 1,\n",
       " 0.22475799336718047: 1,\n",
       " -0.090783812298984: 1,\n",
       " 0.06520253024650478: 1,\n",
       " -0.13714109055658816: 1,\n",
       " 0.2969112916156026: 1,\n",
       " 0.00699478197513447: 1,\n",
       " 0.0016763593225422675: 1,\n",
       " 0.19615245073294849: 1,\n",
       " -0.10675036906967172: 1,\n",
       " -0.043473943801208635: 1,\n",
       " 0.1665363273812622: 1,\n",
       " 0.04890998967284936: 1,\n",
       " -0.10367687377366479: 1,\n",
       " -0.09186073412245026: 1,\n",
       " -0.07556834819006761: 1,\n",
       " -0.07693228421576728: 1,\n",
       " -0.11078356810439657: 1,\n",
       " -0.06594718676433847: 1,\n",
       " 0.21767372202099816: 1,\n",
       " 0.04018559298782686: 1,\n",
       " 0.0005391274027015026: 1,\n",
       " 0.024277799900786025: 1,\n",
       " -0.09693080289099783: 1,\n",
       " 0.2705081499879482: 1,\n",
       " -0.07222160176510249: 1,\n",
       " 0.07878173504839983: 1,\n",
       " -0.1141030976653568: 1,\n",
       " 0.16304236246463424: 1,\n",
       " 0.44352513590195236: 1,\n",
       " -0.08436233344782991: 1,\n",
       " 0.008721197144171999: 1,\n",
       " 0.07004017318210146: 1,\n",
       " -0.1059313888891609: 1,\n",
       " 0.02781722935160397: 1,\n",
       " -0.09441448010072741: 1,\n",
       " -0.09221455335451385: 1,\n",
       " -0.04774235221179394: 1,\n",
       " -0.09174088713606508: 1,\n",
       " -0.13389764450182343: 1,\n",
       " -0.1261844470993463: 1,\n",
       " -0.1373920733422696: 1,\n",
       " -0.11727262519174461: 1,\n",
       " -0.12249594346159245: 1,\n",
       " 0.5175474285728922: 1,\n",
       " 0.050464289105310534: 1,\n",
       " -0.07186546291394758: 1,\n",
       " 0.02481193085688203: 1,\n",
       " -0.041932634235658885: 1,\n",
       " -0.004524601073663091: 1,\n",
       " 0.16942610884523607: 1,\n",
       " -0.14359241517338397: 1,\n",
       " -0.11292071049387158: 1,\n",
       " -0.0760735612281584: 1,\n",
       " -0.005414252315823031: 1,\n",
       " 0.04338372914967436: 1,\n",
       " -0.04589810039291703: 1,\n",
       " 0.19826237625841853: 1,\n",
       " -0.07948432914004412: 1,\n",
       " 0.08152646299852943: 1,\n",
       " -0.1041992519930314: 1,\n",
       " -0.0671952964767446: 1,\n",
       " -0.08949070197620614: 1,\n",
       " -0.09278115897788843: 1,\n",
       " 0.028351669590245498: 1,\n",
       " 0.03723039826547756: 1,\n",
       " 0.41247224048509873: 1,\n",
       " -0.09010261749249794: 1,\n",
       " -0.07687011842411975: 1,\n",
       " -0.018565100792186498: 1,\n",
       " -0.012866569891162331: 1,\n",
       " -0.0824599365103971: 1,\n",
       " -0.05152843449265619: 1,\n",
       " 0.014066218095678084: 1,\n",
       " -0.07259134904825985: 1,\n",
       " -0.12955160617231506: 1,\n",
       " 0.006913904589483549: 1,\n",
       " -0.08057300370023979: 1,\n",
       " -0.06567749238465365: 1,\n",
       " -0.03906790465787131: 1,\n",
       " 0.04052812340697933: 1,\n",
       " -0.05604179467928551: 1,\n",
       " -0.0785445741255116: 1,\n",
       " -0.07407884345089082: 1,\n",
       " -0.09707724817629688: 1,\n",
       " 0.049847888992108846: 1,\n",
       " -0.026423351708507882: 1,\n",
       " 0.3283930072818059: 1,\n",
       " -0.10601334876372108: 1,\n",
       " -0.0846462548246082: 1,\n",
       " 0.010461530027757522: 1,\n",
       " -0.058487137125361376: 1,\n",
       " -0.09240507140254808: 1,\n",
       " 0.00703900937914241: 1,\n",
       " -0.09919134901613137: 1,\n",
       " 0.00685776980747347: 1,\n",
       " -0.12710904726914882: 1,\n",
       " 0.09912572232696518: 1,\n",
       " 0.06045720815074286: 1,\n",
       " -0.014806235375329133: 1,\n",
       " -0.03647905511067876: 1,\n",
       " 0.027885580794161712: 1,\n",
       " -0.021680349231837273: 1,\n",
       " -0.07378564359774721: 1,\n",
       " 0.11171522298322777: 1,\n",
       " -0.09823504738541405: 1,\n",
       " -0.11063743210164305: 1,\n",
       " -0.003198552159788426: 1,\n",
       " -0.10370223494239662: 1,\n",
       " -0.05408589186147947: 1,\n",
       " -0.041962943925118894: 1,\n",
       " 0.010680192787433165: 1,\n",
       " -0.00026330616162453406: 1,\n",
       " -0.015011135061729592: 1,\n",
       " -0.006275294922523206: 1,\n",
       " 0.15611025813084295: 1,\n",
       " -0.06391102512597253: 1,\n",
       " -0.10281969719878348: 1,\n",
       " -0.05066924758122906: 1,\n",
       " -0.02444780944906194: 1,\n",
       " 0.10683350728489589: 1,\n",
       " -0.12063189755980289: 1,\n",
       " -0.0484785993113808: 1,\n",
       " -0.10224798841340797: 1,\n",
       " -0.13024857438862214: 1,\n",
       " -0.1032666104770456: 1,\n",
       " -0.033677419172175226: 1,\n",
       " 0.027626402021024243: 1,\n",
       " -0.06735890694331946: 1,\n",
       " 0.06355699246311812: 1,\n",
       " 0.09503190391332032: 1,\n",
       " 0.005436925793399941: 1,\n",
       " 0.014951384740928058: 1,\n",
       " 0.04330764564347887: 1,\n",
       " -0.04828266881880012: 1,\n",
       " -0.10748800794071338: 1,\n",
       " 0.5172203622810153: 1,\n",
       " -0.14342957791317287: 1,\n",
       " -0.0774136824978538: 1,\n",
       " -0.1281680307049755: 1,\n",
       " -0.1268023936252755: 1,\n",
       " -0.12499541035313257: 1,\n",
       " -0.011163505554310801: 1,\n",
       " -0.0023594686138194354: 1,\n",
       " -0.08852558579294179: 1,\n",
       " -0.13770877866887202: 1,\n",
       " 0.05053650657968715: 1,\n",
       " -0.02216685067592472: 1,\n",
       " 0.005473111851224614: 1,\n",
       " -0.006726692797695221: 1,\n",
       " -0.026399382311230856: 1,\n",
       " -0.006617206776584639: 1,\n",
       " 0.008270417834090998: 1,\n",
       " -0.02447626344324887: 1,\n",
       " -0.10633206442686928: 1,\n",
       " 0.07143271784326084: 1,\n",
       " 0.011628453071967243: 1,\n",
       " -0.0360146673685953: 1,\n",
       " -0.11754324741906598: 1,\n",
       " -0.09101809382720791: 1,\n",
       " -0.07680717942610844: 1,\n",
       " 0.22261157250134017: 1,\n",
       " 0.33809458216936783: 1,\n",
       " -0.05295190740836659: 1,\n",
       " -0.0011405861019640018: 1,\n",
       " -0.002768030856438326: 1,\n",
       " 0.12801998021743086: 1,\n",
       " 0.056675301184244964: 1,\n",
       " -0.047258788951888835: 1,\n",
       " 0.18227293257936314: 1,\n",
       " -0.035083881547882556: 1,\n",
       " -0.0284321418415962: 1,\n",
       " -0.09772612295677713: 1,\n",
       " ...}"
      ]
     },
     "execution_count": 8,
     "metadata": {},
     "output_type": "execute_result"
    }
   ],
   "source": [
    "new_game_time_dict = dict(new_game_time.value_counts())\n",
    "new_game_time_dict"
   ]
  },
  {
   "cell_type": "code",
   "execution_count": 9,
   "metadata": {},
   "outputs": [
    {
     "data": {
      "text/plain": [
       "<BarContainer object of 9013 artists>"
      ]
     },
     "execution_count": 9,
     "metadata": {},
     "output_type": "execute_result"
    },
    {
     "data": {
      "image/png": "[encoded data removed]",
      "text/plain": [
       "<Figure size 432x288 with 1 Axes>"
      ]
     },
     "metadata": {
      "needs_background": "light"
     },
     "output_type": "display_data"
    }
   ],
   "source": [
    "plt.bar(x = new_game_time_dict.keys(), height = new_game_time_dict.values())"
   ]
  },
  {
   "cell_type": "code",
   "execution_count": 10,
   "metadata": {},
   "outputs": [
    {
     "data": {
      "text/plain": [
       "count    9.338000e+03\n",
       "mean    -6.964382e-17\n",
       "std      1.000000e+00\n",
       "min     -1.445806e-01\n",
       "25%     -8.634688e-02\n",
       "50%     -4.323518e-02\n",
       "75%      1.208774e-02\n",
       "max      9.354372e+01\n",
       "Name: game_time, dtype: float64"
      ]
     },
     "execution_count": 10,
     "metadata": {},
     "output_type": "execute_result"
    }
   ],
   "source": [
    "new_game_time.describe()"
   ]
  },
  {
   "cell_type": "code",
   "execution_count": 11,
   "metadata": {},
   "outputs": [
    {
     "data": {
      "text/plain": [
       "(-10, 10)"
      ]
     },
     "execution_count": 11,
     "metadata": {},
     "output_type": "execute_result"
    },
    {
     "data": {
      "image/png": "[encoded data removed]",
      "text/plain": [
       "<Figure size 432x288 with 1 Axes>"
      ]
     },
     "metadata": {
      "needs_background": "light"
     },
     "output_type": "display_data"
    }
   ],
   "source": [
    "graph = new_game_time.hist(bins = 1000)\n",
    "graph.set_ylim([0,4300])\n",
    "graph.set_xlim([-10, 10])\n"
   ]
  },
  {
   "cell_type": "code",
   "execution_count": 12,
   "metadata": {},
   "outputs": [
    {
     "data": {
      "text/plain": [
       "0       0.001503\n",
       "1       0.001358\n",
       "2       0.000006\n",
       "3       0.001673\n",
       "4       0.000489\n",
       "          ...   \n",
       "9362    0.001798\n",
       "9363    0.000314\n",
       "9364    0.001553\n",
       "9365    0.000858\n",
       "9366    0.001161\n",
       "Name: game_time, Length: 9367, dtype: float64"
      ]
     },
     "execution_count": 12,
     "metadata": {},
     "output_type": "execute_result"
    }
   ],
   "source": [
    "game_time_min = games[\"game_time\"].min()\n",
    "game_time_max = games[\"game_time\"].max()\n",
    "new1_game_time = (games[\"game_time\"] - game_time_min)/(game_time_max - game_time_min)\n",
    "new1_game_time"
   ]
  },
  {
   "cell_type": "code",
   "execution_count": 13,
   "metadata": {},
   "outputs": [
    {
     "data": {
      "text/plain": [
       "(-0.2, 0.2)"
      ]
     },
     "execution_count": 13,
     "metadata": {},
     "output_type": "execute_result"
    },
    {
     "data": {
      "image/png": "[encoded data removed]",
      "text/plain": [
       "<Figure size 432x288 with 1 Axes>"
      ]
     },
     "metadata": {
      "needs_background": "light"
     },
     "output_type": "display_data"
    }
   ],
   "source": [
    "graph = new1_game_time.hist(bins = 1000)\n",
    "graph.set_ylim([0,1000])\n",
    "graph.set_xlim([-0.2, 0.2])"
   ]
  },
  {
   "cell_type": "markdown",
   "metadata": {},
   "source": [
    "Handling null values starts from here"
   ]
  },
  {
   "cell_type": "code",
   "execution_count": 14,
   "metadata": {},
   "outputs": [
    {
     "name": "stdout",
     "output_type": "stream",
     "text": [
      "id -> 31\n",
      "rated -> 34\n",
      "turns -> 22\n",
      "victory_status -> 26\n",
      "winner -> 25\n",
      "increment_code -> 38\n",
      "white_id -> 32\n",
      "white_rating -> 27\n",
      "black_id -> 30\n",
      "black_rating -> 28\n",
      "moves -> 28\n",
      "opening_eco -> 28\n",
      "opening_name -> 36\n",
      "opening_ply -> 36\n",
      "game_time -> 29\n",
      "total null values :  450\n"
     ]
    }
   ],
   "source": [
    "total = 0\n",
    "for i in games:\n",
    "    total += games[i].isnull().sum()\n",
    "    print(i, \"->\", games[i].isnull().sum())\n",
    "print(\"total null values : \", total)"
   ]
  },
  {
   "cell_type": "markdown",
   "metadata": {},
   "source": [
    "id column does not matter much. So we can replace the missing values with any string that looks like all other id's.\n",
    "\n",
    "rated column does not mattermuch. So we can replace the missing values in this column with half number of 1's and half number of 0's. \n",
    "\n",
    "turns column's missing values can be replaced with the column's length of the moves column if they are not null.\n",
    "\n",
    "victory_status column's entries can be determined to an extent from moves' column. If we are not able to we drop the entire row corresponding to that null entry. \n",
    "\n",
    "winner column's entries can be determined to an extent from moves' column. If we are not able to we drop the entire row corresponding to that null entry. \n",
    "\n",
    "increment_code column's missing entries can be replaced with the mode as it is skewed. \n",
    "\n",
    "white_id and black_id does not matter. So we can replace the missing values with any string that looks like all other id's.\n",
    "\n",
    "white_rating and black_rating missing values can be replaced with the column means as they are approximately normally distributed.\n",
    "\n",
    "moves column is important for determining winner column and victory_status column. Dropping the entire row is the only option for handling the missing values. But dropping the entire row will depend on the status of other values.\n",
    "\n",
    "opening_eco's missing values can be determined from moves column. If we cannot determine we can choose to drop the entire entry or not.\n",
    "\n",
    "opening_name's missing values can be determined from moves column. If we cannot determine we can choose to drop the entire entry or not.\n",
    "\n",
    "opening_ply's missing values can be determined from moves column. If we cannot determine we can choose to drop the entire entry or not.\n",
    "\n",
    "game_time's missing value can be given by the median of the column.\n",
    "    "
   ]
  },
  {
   "cell_type": "code",
   "execution_count": 15,
   "metadata": {},
   "outputs": [
    {
     "name": "stdout",
     "output_type": "stream",
     "text": [
      "31\n"
     ]
    }
   ],
   "source": [
    "print(games[\"id\"].isnull().sum())"
   ]
  },
  {
   "cell_type": "code",
   "execution_count": 16,
   "metadata": {},
   "outputs": [
    {
     "data": {
      "text/plain": [
       "0       fyfWyjj2\n",
       "1       QmCyfnNZ\n",
       "2       X1hUH5gY\n",
       "3       xfD25ZBl\n",
       "4       BFo44qd4\n",
       "          ...   \n",
       "9362    eBZNlH7w\n",
       "9363    MtDU2OuN\n",
       "9364    wL5yxYVK\n",
       "9365    ayNGChBy\n",
       "9366    W1fKatN0\n",
       "Name: id, Length: 9367, dtype: object"
      ]
     },
     "execution_count": 16,
     "metadata": {},
     "output_type": "execute_result"
    }
   ],
   "source": [
    "games[\"id\"]"
   ]
  },
  {
   "cell_type": "code",
   "execution_count": 17,
   "metadata": {},
   "outputs": [
    {
     "data": {
      "text/plain": [
       "8.0"
      ]
     },
     "execution_count": 17,
     "metadata": {},
     "output_type": "execute_result"
    }
   ],
   "source": [
    "avg = 0\n",
    "c = 0\n",
    "for i in range(len(games[\"id\"])):\n",
    "    if not games[\"id\"].isnull().iloc[i]:\n",
    "        avg += len(games[\"id\"].iloc[i])\n",
    "        c += 1\n",
    "avg /= c\n",
    "avg\n"
   ]
  },
  {
   "cell_type": "code",
   "execution_count": 18,
   "metadata": {},
   "outputs": [],
   "source": [
    "import string\n",
    "import random\n",
    "for i in range(len(games[\"id\"])):\n",
    "    if games[\"id\"].isnull().iloc[i]:\n",
    "        games[\"id\"].iloc[i] = ''.join(random.choices(string.ascii_uppercase + \n",
    "                                                     string.digits + string.ascii_lowercase, k = 8))"
   ]
  },
  {
   "cell_type": "code",
   "execution_count": 19,
   "metadata": {},
   "outputs": [
    {
     "data": {
      "text/plain": [
       "0"
      ]
     },
     "execution_count": 19,
     "metadata": {},
     "output_type": "execute_result"
    }
   ],
   "source": [
    "games[\"id\"].isnull().sum()"
   ]
  },
  {
   "cell_type": "code",
   "execution_count": 20,
   "metadata": {},
   "outputs": [
    {
     "data": {
      "text/plain": [
       "0       fyfWyjj2\n",
       "1       QmCyfnNZ\n",
       "2       X1hUH5gY\n",
       "3       xfD25ZBl\n",
       "4       BFo44qd4\n",
       "          ...   \n",
       "9362    eBZNlH7w\n",
       "9363    MtDU2OuN\n",
       "9364    wL5yxYVK\n",
       "9365    ayNGChBy\n",
       "9366    W1fKatN0\n",
       "Name: id, Length: 9367, dtype: object"
      ]
     },
     "execution_count": 20,
     "metadata": {},
     "output_type": "execute_result"
    }
   ],
   "source": [
    "games[\"id\"]"
   ]
  },
  {
   "cell_type": "code",
   "execution_count": 21,
   "metadata": {},
   "outputs": [
    {
     "data": {
      "text/plain": [
       "0       1.0\n",
       "1       1.0\n",
       "2       1.0\n",
       "3       1.0\n",
       "4       1.0\n",
       "       ... \n",
       "9362    1.0\n",
       "9363    1.0\n",
       "9364    1.0\n",
       "9365    1.0\n",
       "9366    0.0\n",
       "Name: rated, Length: 9367, dtype: float64"
      ]
     },
     "execution_count": 21,
     "metadata": {},
     "output_type": "execute_result"
    }
   ],
   "source": [
    "games[\"rated\"]"
   ]
  },
  {
   "cell_type": "code",
   "execution_count": 22,
   "metadata": {},
   "outputs": [
    {
     "data": {
      "text/plain": [
       "34"
      ]
     },
     "execution_count": 22,
     "metadata": {},
     "output_type": "execute_result"
    }
   ],
   "source": [
    "games[\"rated\"].isnull().sum()"
   ]
  },
  {
   "cell_type": "code",
   "execution_count": 23,
   "metadata": {},
   "outputs": [
    {
     "data": {
      "text/plain": [
       "<matplotlib.axes._subplots.AxesSubplot at 0x236b32aa708>"
      ]
     },
     "execution_count": 23,
     "metadata": {},
     "output_type": "execute_result"
    },
    {
     "data": {
      "image/png": "[encoded data removed]",
      "text/plain": [
       "<Figure size 432x288 with 1 Axes>"
      ]
     },
     "metadata": {
      "needs_background": "light"
     },
     "output_type": "display_data"
    }
   ],
   "source": [
    "games[\"rated\"].hist()"
   ]
  },
  {
   "cell_type": "code",
   "execution_count": 24,
   "metadata": {},
   "outputs": [
    {
     "data": {
      "text/plain": [
       "[357,\n",
       " 906,\n",
       " 1304,\n",
       " 1448,\n",
       " 1666,\n",
       " 2154,\n",
       " 2311,\n",
       " 2535,\n",
       " 2895,\n",
       " 3053,\n",
       " 3310,\n",
       " 3602,\n",
       " 3664,\n",
       " 3758,\n",
       " 3981,\n",
       " 4152,\n",
       " 4298,\n",
       " 4514,\n",
       " 4685,\n",
       " 5014,\n",
       " 5396,\n",
       " 5912,\n",
       " 5925,\n",
       " 6505,\n",
       " 6536,\n",
       " 6614,\n",
       " 6877,\n",
       " 8139,\n",
       " 8360,\n",
       " 8695,\n",
       " 8707,\n",
       " 8930,\n",
       " 9155,\n",
       " 9222]"
      ]
     },
     "execution_count": 24,
     "metadata": {},
     "output_type": "execute_result"
    }
   ],
   "source": [
    "null_index = []\n",
    "for i in range(len(games[\"rated\"])):\n",
    "    if games[\"rated\"].isnull().iloc[i]:\n",
    "        null_index.append(i)\n",
    "null_index"
   ]
  },
  {
   "cell_type": "code",
   "execution_count": 25,
   "metadata": {},
   "outputs": [],
   "source": [
    "replace_1 = random.sample(null_index, 17)\n",
    "for i in replace_1:\n",
    "    null_index.remove(i)\n",
    "replace_0 = null_index\n",
    "del(null_index)"
   ]
  },
  {
   "cell_type": "code",
   "execution_count": 26,
   "metadata": {},
   "outputs": [
    {
     "data": {
      "text/plain": [
       "[5396,\n",
       " 2895,\n",
       " 906,\n",
       " 5912,\n",
       " 5014,\n",
       " 3053,\n",
       " 8360,\n",
       " 4298,\n",
       " 8707,\n",
       " 3310,\n",
       " 1304,\n",
       " 6505,\n",
       " 5925,\n",
       " 357,\n",
       " 4152,\n",
       " 2311,\n",
       " 9155]"
      ]
     },
     "execution_count": 26,
     "metadata": {},
     "output_type": "execute_result"
    }
   ],
   "source": [
    "replace_1"
   ]
  },
  {
   "cell_type": "code",
   "execution_count": 27,
   "metadata": {},
   "outputs": [
    {
     "data": {
      "text/plain": [
       "[1448,\n",
       " 1666,\n",
       " 2154,\n",
       " 2535,\n",
       " 3602,\n",
       " 3664,\n",
       " 3758,\n",
       " 3981,\n",
       " 4514,\n",
       " 4685,\n",
       " 6536,\n",
       " 6614,\n",
       " 6877,\n",
       " 8139,\n",
       " 8695,\n",
       " 8930,\n",
       " 9222]"
      ]
     },
     "execution_count": 27,
     "metadata": {},
     "output_type": "execute_result"
    }
   ],
   "source": [
    "replace_0"
   ]
  },
  {
   "cell_type": "code",
   "execution_count": 28,
   "metadata": {},
   "outputs": [
    {
     "data": {
      "text/plain": [
       "0"
      ]
     },
     "execution_count": 28,
     "metadata": {},
     "output_type": "execute_result"
    }
   ],
   "source": [
    "for i in replace_1:\n",
    "    games[\"rated\"].iloc[i] = 1\n",
    "for i in replace_0:\n",
    "    games[\"rated\"].iloc[i] = 0\n",
    "\n",
    "games[\"rated\"].isnull().sum()"
   ]
  },
  {
   "cell_type": "code",
   "execution_count": 29,
   "metadata": {},
   "outputs": [
    {
     "data": {
      "text/plain": [
       "0       1.0\n",
       "1       1.0\n",
       "2       1.0\n",
       "3       1.0\n",
       "4       1.0\n",
       "       ... \n",
       "9362    1.0\n",
       "9363    1.0\n",
       "9364    1.0\n",
       "9365    1.0\n",
       "9366    0.0\n",
       "Name: rated, Length: 9367, dtype: float64"
      ]
     },
     "execution_count": 29,
     "metadata": {},
     "output_type": "execute_result"
    }
   ],
   "source": [
    "games[\"rated\"]"
   ]
  },
  {
   "cell_type": "code",
   "execution_count": 30,
   "metadata": {},
   "outputs": [
    {
     "data": {
      "text/plain": [
       "0            mindworm\n",
       "1          philipp_0x\n",
       "2             chiggen\n",
       "3              khelil\n",
       "4           elvis1997\n",
       "            ...      \n",
       "9362        sdmabunda\n",
       "9363           aradov\n",
       "9364           azomio\n",
       "9365      dastan-2009\n",
       "9366    bronyaurstomp\n",
       "Name: white_id, Length: 9367, dtype: object"
      ]
     },
     "execution_count": 30,
     "metadata": {},
     "output_type": "execute_result"
    }
   ],
   "source": [
    "games[\"white_id\"]"
   ]
  },
  {
   "cell_type": "code",
   "execution_count": 31,
   "metadata": {},
   "outputs": [
    {
     "data": {
      "text/plain": [
       "32"
      ]
     },
     "execution_count": 31,
     "metadata": {},
     "output_type": "execute_result"
    }
   ],
   "source": [
    "games[\"white_id\"].isnull().sum()"
   ]
  },
  {
   "cell_type": "code",
   "execution_count": 32,
   "metadata": {},
   "outputs": [],
   "source": [
    "for i in range(len(games[\"white_id\"])):\n",
    "    if games[\"white_id\"].isnull().iloc[i]:\n",
    "        games[\"white_id\"].iloc[i] = \"Player_White_\" + str(i)\n"
   ]
  },
  {
   "cell_type": "code",
   "execution_count": 33,
   "metadata": {},
   "outputs": [
    {
     "data": {
      "text/plain": [
       "0"
      ]
     },
     "execution_count": 33,
     "metadata": {},
     "output_type": "execute_result"
    }
   ],
   "source": [
    "games[\"white_id\"].isnull().sum()"
   ]
  },
  {
   "cell_type": "code",
   "execution_count": 34,
   "metadata": {},
   "outputs": [
    {
     "data": {
      "text/plain": [
       "30"
      ]
     },
     "execution_count": 34,
     "metadata": {},
     "output_type": "execute_result"
    }
   ],
   "source": [
    "games[\"black_id\"].isnull().sum()"
   ]
  },
  {
   "cell_type": "code",
   "execution_count": 35,
   "metadata": {},
   "outputs": [],
   "source": [
    "for i in range(len(games[\"black_id\"])):\n",
    "    if games[\"black_id\"].isnull().iloc[i]:\n",
    "        games[\"black_id\"].iloc[i] = \"Player_Black_\" + str(i)"
   ]
  },
  {
   "cell_type": "code",
   "execution_count": 36,
   "metadata": {},
   "outputs": [
    {
     "data": {
      "text/plain": [
       "0"
      ]
     },
     "execution_count": 36,
     "metadata": {},
     "output_type": "execute_result"
    }
   ],
   "source": [
    "games[\"black_id\"].isnull().sum()"
   ]
  },
  {
   "cell_type": "code",
   "execution_count": 37,
   "metadata": {},
   "outputs": [
    {
     "data": {
      "text/plain": [
       "38"
      ]
     },
     "execution_count": 37,
     "metadata": {},
     "output_type": "execute_result"
    }
   ],
   "source": [
    "games[\"increment_code\"].isnull().sum()"
   ]
  },
  {
   "cell_type": "code",
   "execution_count": 38,
   "metadata": {},
   "outputs": [],
   "source": [
    "mode = str(games[\"increment_code\"].mode())\n",
    "for i in range(len(games[\"increment_code\"])):\n",
    "    if games[\"increment_code\"].isnull().iloc[i]:\n",
    "        games[\"increment_code\"].iloc[i] = mode"
   ]
  },
  {
   "cell_type": "code",
   "execution_count": 39,
   "metadata": {},
   "outputs": [
    {
     "data": {
      "text/plain": [
       "True"
      ]
     },
     "execution_count": 39,
     "metadata": {},
     "output_type": "execute_result"
    }
   ],
   "source": [
    "count = 0\n",
    "for i in range(len(games[\"increment_code\"])):\n",
    "    if type(games[\"increment_code\"].iloc[i]) == str:\n",
    "        count += 1\n",
    "count == len(games[\"increment_code\"])"
   ]
  },
  {
   "cell_type": "code",
   "execution_count": 40,
   "metadata": {},
   "outputs": [
    {
     "data": {
      "text/plain": [
       "27"
      ]
     },
     "execution_count": 40,
     "metadata": {},
     "output_type": "execute_result"
    }
   ],
   "source": [
    "games[\"white_rating\"].isnull().sum()"
   ]
  },
  {
   "cell_type": "code",
   "execution_count": 41,
   "metadata": {},
   "outputs": [],
   "source": [
    "mean = games[\"white_rating\"].mean()\n",
    "for i in range(len(games[\"white_rating\"])):\n",
    "    if games[\"white_rating\"].isnull().iloc[i]:\n",
    "        games[\"white_rating\"].iloc[i] = mean"
   ]
  },
  {
   "cell_type": "code",
   "execution_count": 42,
   "metadata": {},
   "outputs": [
    {
     "data": {
      "text/plain": [
       "0"
      ]
     },
     "execution_count": 42,
     "metadata": {},
     "output_type": "execute_result"
    }
   ],
   "source": [
    "games[\"white_rating\"].isnull().sum()"
   ]
  },
  {
   "cell_type": "code",
   "execution_count": 43,
   "metadata": {},
   "outputs": [
    {
     "data": {
      "text/plain": [
       "28"
      ]
     },
     "execution_count": 43,
     "metadata": {},
     "output_type": "execute_result"
    }
   ],
   "source": [
    "games[\"black_rating\"].isnull().sum()"
   ]
  },
  {
   "cell_type": "code",
   "execution_count": 44,
   "metadata": {},
   "outputs": [],
   "source": [
    "mean = games[\"black_rating\"].mean()\n",
    "for i in range(len(games[\"black_rating\"])):\n",
    "    if games[\"black_rating\"].isnull().iloc[i]:\n",
    "        games[\"black_rating\"].iloc[i] = mean"
   ]
  },
  {
   "cell_type": "code",
   "execution_count": 45,
   "metadata": {},
   "outputs": [
    {
     "data": {
      "text/plain": [
       "0"
      ]
     },
     "execution_count": 45,
     "metadata": {},
     "output_type": "execute_result"
    }
   ],
   "source": [
    "games[\"black_rating\"].isnull().sum()"
   ]
  },
  {
   "cell_type": "code",
   "execution_count": 46,
   "metadata": {},
   "outputs": [
    {
     "data": {
      "text/plain": [
       "count      9338.000000\n",
       "mean        156.143948\n",
       "std        1077.763159\n",
       "min           0.320333\n",
       "25%          63.082458\n",
       "50%         109.546667\n",
       "75%         169.171667\n",
       "max      100974.116833\n",
       "Name: game_time, dtype: float64"
      ]
     },
     "execution_count": 46,
     "metadata": {},
     "output_type": "execute_result"
    }
   ],
   "source": [
    "games[\"game_time\"].describe()"
   ]
  },
  {
   "cell_type": "code",
   "execution_count": 47,
   "metadata": {},
   "outputs": [
    {
     "data": {
      "text/plain": [
       "0        4.311167\n",
       "1       10.758333\n",
       "2       17.395833\n",
       "3       22.369667\n",
       "4       22.801333\n",
       "5       24.706833\n",
       "6       26.976833\n",
       "7       32.928167\n",
       "8       41.634000\n",
       "9       48.092667\n",
       "10      51.084667\n",
       "11      52.973667\n",
       "12      58.809000\n",
       "13      63.961000\n",
       "14      82.438000\n",
       "15      91.401167\n",
       "16      97.383000\n",
       "17     106.431167\n",
       "18     108.368667\n",
       "19     127.264000\n",
       "20     132.408167\n",
       "21     141.136833\n",
       "22     159.801667\n",
       "23     191.003333\n",
       "24     191.977667\n",
       "25     205.523167\n",
       "26     302.697833\n",
       "27     332.245167\n",
       "28    3333.333333\n",
       "dtype: float64"
      ]
     },
     "execution_count": 47,
     "metadata": {},
     "output_type": "execute_result"
    }
   ],
   "source": [
    "games[\"game_time\"].mode()"
   ]
  },
  {
   "cell_type": "code",
   "execution_count": 48,
   "metadata": {},
   "outputs": [
    {
     "data": {
      "text/plain": [
       "29"
      ]
     },
     "execution_count": 48,
     "metadata": {},
     "output_type": "execute_result"
    }
   ],
   "source": [
    "games[\"game_time\"].isnull().sum()"
   ]
  },
  {
   "cell_type": "code",
   "execution_count": 49,
   "metadata": {},
   "outputs": [],
   "source": [
    "median = games[\"game_time\"].median()\n",
    "for i in range(len(games[\"game_time\"])):\n",
    "    if games[\"game_time\"].isnull().iloc[i]:\n",
    "        games[\"game_time\"].iloc[i] = median"
   ]
  },
  {
   "cell_type": "code",
   "execution_count": 50,
   "metadata": {},
   "outputs": [
    {
     "data": {
      "text/plain": [
       "0"
      ]
     },
     "execution_count": 50,
     "metadata": {},
     "output_type": "execute_result"
    }
   ],
   "source": [
    "games[\"game_time\"].isnull().sum()"
   ]
  },
  {
   "cell_type": "code",
   "execution_count": 51,
   "metadata": {},
   "outputs": [
    {
     "data": {
      "text/plain": [
       "36"
      ]
     },
     "execution_count": 51,
     "metadata": {},
     "output_type": "execute_result"
    }
   ],
   "source": [
    "games[\"opening_name\"].isnull().sum()"
   ]
  },
  {
   "cell_type": "code",
   "execution_count": 52,
   "metadata": {},
   "outputs": [
    {
     "data": {
      "text/plain": [
       "0"
      ]
     },
     "execution_count": 52,
     "metadata": {},
     "output_type": "execute_result"
    }
   ],
   "source": [
    "count = 0\n",
    "for i in range(len(games[\"opening_name\"])):\n",
    "    if games[\"opening_name\"].isnull().iloc[i] and games[\"opening_ply\"].isnull().iloc[i]:\n",
    "        count += 1\n",
    "count"
   ]
  },
  {
   "cell_type": "code",
   "execution_count": 53,
   "metadata": {},
   "outputs": [],
   "source": [
    "moves = []\n",
    "for i in range(len(games[\"opening_name\"])):\n",
    "    if games[\"opening_name\"].isnull().iloc[i]:\n",
    "        moves.append((i, games[\"moves\"].iloc[i][:int(games[\"opening_ply\"].iloc[i])]))"
   ]
  },
  {
   "cell_type": "code",
   "execution_count": 54,
   "metadata": {},
   "outputs": [
    {
     "data": {
      "text/plain": [
       "[(197, ['e4', 'e5', 'Nf3', 'Nc6', 'd4', 'exd4', 'Nxd4']),\n",
       " (201, ['e4', 'e5', 'Nf3', 'Nc6', 'Bb5', 'a6', 'Ba4', 'Nf6', 'Nc3']),\n",
       " (625, ['e4', 'e5', 'd3']),\n",
       " (1424, ['e3']),\n",
       " (1515, ['e4', 'e5', 'Nf3', 'Nc6', 'Bc4', 'Be7']),\n",
       " (2000, ['e4', 'e5', 'd4', 'Nc6', 'd5']),\n",
       " (2189, ['d4', 'd5', 'c4', 'e6', 'Nc3']),\n",
       " (2435, ['e4', 'c5', 'Nh3']),\n",
       " (2491, ['d4', 'd5', 'c4', 'Nf6']),\n",
       " (2648, ['d4', 'b6']),\n",
       " (2741, ['e4', 'Nf6', 'e5', 'Nd5', 'd4', 'd6', 'Nf3', 'Bg4']),\n",
       " (3041, ['d4', 'Nf6']),\n",
       " (3504, ['e4', 'e5', 'Nf3', 'Nc6', 'c3', 'Nf6']),\n",
       " (3650, ['d4', 'g6']),\n",
       " (4057, ['d4', 'd5', 'c4', 'e6', 'Nc3', 'Nf6', 'Nf3', 'Be7', 'Bf4']),\n",
       " (4131, ['e4', 'c5', 'Nc3', 'Nc6']),\n",
       " (4235, ['e4', 'e5', 'Nf3', 'Nc6', 'Bc4', 'Nf6', 'd3']),\n",
       " (4734, ['e4', 'Nf6']),\n",
       " (4810, ['e4', 'c5', 'Nf3', 'd6', 'd4', 'Nf6']),\n",
       " (4917, ['e4', 'e6']),\n",
       " (5055,\n",
       "  ['d4',\n",
       "   'd5',\n",
       "   'c4',\n",
       "   'e6',\n",
       "   'Nc3',\n",
       "   'Nf6',\n",
       "   'Bg5',\n",
       "   'Be7',\n",
       "   'e3',\n",
       "   'O-O',\n",
       "   'Nf3',\n",
       "   'h6',\n",
       "   'Bh4',\n",
       "   'b6',\n",
       "   'cxd5',\n",
       "   'Nxd5']),\n",
       " (5588, ['d4']),\n",
       " (6061, ['e3']),\n",
       " (6104, ['e4', 'e5', 'Nf3', 'Nc6', 'Bc4', 'Bc5', 'd3']),\n",
       " (6160, ['d4', 'd5', 'c4', 'Nf6']),\n",
       " (6196, ['e4', 'e5', 'Nf3', 'Nf6']),\n",
       " (6226, ['e4', 'c5', 'Nc3']),\n",
       " (6334, ['e4', 'c5', 'Nf3', 'd6', 'Bb5+', 'Bd7']),\n",
       " (6442, ['e4', 'c5', 'Nf3']),\n",
       " (7447, ['Nf3', 'd5', 'd4', 'Nf6']),\n",
       " (7902, ['d4', 'g6']),\n",
       " (7928, ['e4', 'e5', 'Nf3', 'Nc6', 'c3', 'Nf6']),\n",
       " (8780, ['e4', 'e5', 'Nf3', 'Nc6', 'd4', 'exd4', 'Nxd4']),\n",
       " (9059, ['e4', 'e5', 'Nf3', 'Nc6', 'Bc4', 'Nf6', 'd3']),\n",
       " (9233, ['e4', 'e5', 'Nf3', 'd6', 'd4', 'exd4', 'Nxd4']),\n",
       " (9320, ['d4', 'd5', 'Nf3'])]"
      ]
     },
     "execution_count": 54,
     "metadata": {},
     "output_type": "execute_result"
    }
   ],
   "source": [
    "moves"
   ]
  },
  {
   "cell_type": "code",
   "execution_count": 55,
   "metadata": {},
   "outputs": [
    {
     "name": "stdout",
     "output_type": "stream",
     "text": [
      "(197, 463, ['e4', 'e5', 'Nf3', 'Nc6', 'd4', 'exd4', 'Nxd4'], 'Scotch Game')\n",
      "(201, 490, ['e4', 'e5', 'Nf3', 'Nc6', 'Bb5', 'a6', 'Ba4', 'Nf6', 'Nc3'], 'Ruy Lopez: Morphy Defense |  Tarrasch Variation')\n",
      "(625, 28, ['e4', 'e5', 'd3'], \"King's Pawn Game: Leonardis Variation\")\n",
      "(1424, 18, ['e3'], \"Van't Kruijs Opening\")\n",
      "(1515, 111, ['e4', 'e5', 'Nf3', 'Nc6', 'Bc4', 'Be7'], 'Italian Game: Hungarian Defense')\n",
      "(2000, 1388, ['e4', 'e5', 'd4', 'Nc6', 'd5'], 'Nimzowitsch Defense: Kennedy Variation |  Linksspringer Variation')\n",
      "(2189, 521, ['d4', 'd5', 'c4', 'e6', 'Nc3'], \"Queen's Gambit Declined: Queen's Knight Variation\")\n",
      "(2435, 1063, ['e4', 'c5', 'Nh3'], 'Sicilian Defense: Brick Variation')\n",
      "(2491, 31, ['d4', 'd5', 'c4', 'Nf6'], \"Queen's Gambit Refused: Marshall Defense\")\n",
      "(2648, 202, ['d4', 'b6'], 'English Defense #2')\n",
      "(2741, 2700, ['e4', 'Nf6', 'e5', 'Nd5', 'd4', 'd6', 'Nf3', 'Bg4'], 'Alekhine Defense: Modern Variation |  Main Line')\n",
      "(3041, 204, ['d4', 'Nf6'], 'Indian Game')\n",
      "(3504, 264, ['e4', 'e5', 'Nf3', 'Nc6', 'c3', 'Nf6'], 'Ponziani Opening: Jaenisch Counterattack')\n",
      "(3650, 69, ['d4', 'g6'], 'Modern Defense')\n",
      "(4131, 570, ['e4', 'c5', 'Nc3', 'Nc6'], 'Sicilian Defense: Closed Variation |  Traditional')\n",
      "(4235, 112, ['e4', 'e5', 'Nf3', 'Nc6', 'Bc4', 'Nf6', 'd3'], \"Italian Game: Two Knights Defense |  Modern Bishop's Opening\")\n",
      "(4734, 746, ['e4', 'Nf6'], 'Alekhine Defense')\n",
      "(4810, 1103, ['e4', 'c5', 'Nf3', 'd6', 'd4', 'Nf6'], 'Sicilian Defense: Modern Variations |  Anti-Qxd4 Move Order')\n",
      "(4917, 888, ['e4', 'e6'], 'French Defense #2')\n",
      "(5588, 339, ['d4'], \"Queen's Pawn\")\n",
      "(6061, 18, ['e3'], \"Van't Kruijs Opening\")\n",
      "(6104, 397, ['e4', 'e5', 'Nf3', 'Nc6', 'Bc4', 'Bc5', 'd3'], 'Italian Game: Giuoco Pianissimo')\n",
      "(6160, 31, ['d4', 'd5', 'c4', 'Nf6'], \"Queen's Gambit Refused: Marshall Defense\")\n",
      "(6196, 468, ['e4', 'e5', 'Nf3', 'Nf6'], \"Petrov's Defense\")\n",
      "(6226, 151, ['e4', 'c5', 'Nc3'], 'Sicilian Defense: Closed Variation')\n",
      "(6334, 1192, ['e4', 'c5', 'Nf3', 'd6', 'Bb5+', 'Bd7'], 'Sicilian Defense: Canal Attack |  Main Line')\n",
      "(6442, 238, ['e4', 'c5', 'Nf3'], 'Sicilian Defense')\n",
      "(7447, 327, ['Nf3', 'd5', 'd4', 'Nf6'], \"Queen's Pawn Game: Symmetrical Variation\")\n",
      "(7902, 69, ['d4', 'g6'], 'Modern Defense')\n",
      "(7928, 264, ['e4', 'e5', 'Nf3', 'Nc6', 'c3', 'Nf6'], 'Ponziani Opening: Jaenisch Counterattack')\n",
      "(8780, 463, ['e4', 'e5', 'Nf3', 'Nc6', 'd4', 'exd4', 'Nxd4'], 'Scotch Game')\n",
      "(9059, 112, ['e4', 'e5', 'Nf3', 'Nc6', 'Bc4', 'Nf6', 'd3'], \"Italian Game: Two Knights Defense |  Modern Bishop's Opening\")\n",
      "(9233, 293, ['e4', 'e5', 'Nf3', 'd6', 'd4', 'exd4', 'Nxd4'], 'Philidor Defense: Exchange Variation #2')\n",
      "(9320, 466, ['d4', 'd5', 'Nf3'], \"Queen's Pawn Game: Zukertort Variation\")\n"
     ]
    }
   ],
   "source": [
    "for i, j in moves:\n",
    "    for k in range(len(games[\"moves\"])):\n",
    "        cond_1 = not games[\"moves\"].isnull().iloc[k]\n",
    "        cond_2 = not games[\"opening_ply\"].isnull().iloc[k]\n",
    "        cond_3 = i != k and k not in [197, 201, 625, 1424, 1515, 2000, 2189, 2435, 2491, 2648, 2741, 3041,\n",
    "                                      3504, 3650, 4057, 4131, 4235, 4734, 4810, 4917, 5055, 5588, 6061,\n",
    "                                      6104, 6160, 6196, 6226, 6334, 6442, 7447, 7902, 7928, 8780, 9059,\n",
    "                                      9233, 9320]\n",
    "        if cond_3 and cond_1 and cond_2 and j == games[\"moves\"].iloc[k][:int(games[\"opening_ply\"].iloc[k])]:\n",
    "            print((i, k, j, games[\"opening_name\"].iloc[k]))\n",
    "            break\n",
    "    "
   ]
  },
  {
   "cell_type": "code",
   "execution_count": 56,
   "metadata": {},
   "outputs": [],
   "source": [
    "for i, j in moves:\n",
    "    for k in range(len(games[\"moves\"])):\n",
    "        cond_1 = not games[\"moves\"].isnull().iloc[k]\n",
    "        cond_2 = not games[\"opening_ply\"].isnull().iloc[k]\n",
    "        cond_3 = i != k and k not in [197, 201, 625, 1424, 1515, 2000, 2189, 2435, 2491, 2648, 2741, 3041,\n",
    "                                      3504, 3650, 4057, 4131, 4235, 4734, 4810, 4917, 5055, 5588, 6061,\n",
    "                                      6104, 6160, 6196, 6226, 6334, 6442, 7447, 7902, 7928, 8780, 9059,\n",
    "                                      9233, 9320]\n",
    "        if cond_3 and cond_1 and cond_2 and j == games[\"moves\"].iloc[k][:int(games[\"opening_ply\"].iloc[k])]:\n",
    "            games[\"opening_name\"].iloc[i] = games[\"opening_name\"].iloc[k]\n",
    "            break"
   ]
  },
  {
   "cell_type": "code",
   "execution_count": 57,
   "metadata": {},
   "outputs": [
    {
     "data": {
      "text/plain": [
       "2"
      ]
     },
     "execution_count": 57,
     "metadata": {},
     "output_type": "execute_result"
    }
   ],
   "source": [
    "games[\"opening_name\"].isnull().sum()"
   ]
  },
  {
   "cell_type": "code",
   "execution_count": 58,
   "metadata": {},
   "outputs": [
    {
     "name": "stdout",
     "output_type": "stream",
     "text": [
      "4057 0 ['d4', 'd5', 'c4', 'e6', 'Nc3', 'Nf6', 'Nf3', 'Be7', 'Bf4']\n",
      "5055 1 ['d4', 'd5', 'c4', 'e6', 'Nc3', 'Nf6', 'Bg5', 'Be7', 'e3', 'O-O', 'Nf3', 'h6', 'Bh4', 'b6', 'cxd5', 'Nxd5']\n"
     ]
    },
    {
     "data": {
      "text/plain": [
       "[['d4', 'd5', 'c4', 'e6', 'Nc3', 'Nf6', 'Nf3', 'Be7', 'Bf4'],\n",
       " ['d4',\n",
       "  'd5',\n",
       "  'c4',\n",
       "  'e6',\n",
       "  'Nc3',\n",
       "  'Nf6',\n",
       "  'Bg5',\n",
       "  'Be7',\n",
       "  'e3',\n",
       "  'O-O',\n",
       "  'Nf3',\n",
       "  'h6',\n",
       "  'Bh4',\n",
       "  'b6',\n",
       "  'cxd5',\n",
       "  'Nxd5']]"
      ]
     },
     "execution_count": 58,
     "metadata": {},
     "output_type": "execute_result"
    }
   ],
   "source": [
    "counter = 0\n",
    "still_null = []\n",
    "for i in range(len(games[\"opening_name\"])):\n",
    "    if counter < 2 and games[\"opening_name\"].isnull().iloc[i]:\n",
    "        print(i, counter, games[\"moves\"].iloc[i][:int(games[\"opening_ply\"].iloc[i])])\n",
    "        counter += 1\n",
    "        still_null.append(games[\"moves\"].iloc[i][:int(games[\"opening_ply\"].iloc[i])])\n",
    "still_null"
   ]
  },
  {
   "cell_type": "code",
   "execution_count": 59,
   "metadata": {},
   "outputs": [
    {
     "name": "stdout",
     "output_type": "stream",
     "text": [
      "['d4', 'd5', 'c4', 'e6', 'Nc3', 'Nf6', 'Nf3', 'Be7', 'Bf4'] -> nan\n",
      "['d4', 'd5', 'c4', 'e6', 'Nc3', 'Nf6', 'Bg5', 'Be7', 'e3', 'O-O', 'Nf3', 'h6', 'Bh4', 'b6', 'cxd5', 'Nxd5'] -> nan\n"
     ]
    }
   ],
   "source": [
    "for i in range(len(games[\"moves\"])):\n",
    "    cond_1 = not games[\"opening_ply\"].isnull().iloc[i]\n",
    "    cond_2 = not games[\"moves\"].isnull().iloc[i]\n",
    "    if cond_1 and cond_2 and games[\"moves\"].iloc[i][:int(games[\"opening_ply\"].iloc[i])] == still_null[0]:\n",
    "        print(still_null[0], \"->\", games[\"opening_name\"].iloc[i])\n",
    "    if cond_1 and cond_2 and games[\"moves\"].iloc[i][:int(games[\"opening_ply\"].iloc[i])] == still_null[1]:\n",
    "        print(still_null[1], \"->\", games[\"opening_name\"].iloc[i])"
   ]
  },
  {
   "cell_type": "code",
   "execution_count": 60,
   "metadata": {},
   "outputs": [],
   "source": [
    "possible_0 = []\n",
    "possible_1 = []\n",
    "for i in range(len(games[\"moves\"])):\n",
    "    cond_1 = not games[\"opening_ply\"].isnull().iloc[i]\n",
    "    cond_2 = not games[\"moves\"].isnull().iloc[i]\n",
    "    if cond_1 and cond_2:\n",
    "        for j in range(int(games[\"opening_ply\"].iloc[i])):\n",
    "            if games[\"moves\"].iloc[i][:j] == still_null[0][:j]:\n",
    "                #print(j, \"->\", still_null[0][:j], games[\"opening_name\"].iloc[i])\n",
    "                if j >= 6:\n",
    "                    possible_0.append((j, games[\"opening_name\"].iloc[i]))\n",
    "        #print(still_null[0], \"->\", games[\"opening_name\"].iloc[i])\n",
    "    if cond_1 and cond_2:\n",
    "        for j in range(int(games[\"opening_ply\"].iloc[i])):\n",
    "            if games[\"moves\"].iloc[i][:j] == still_null[1][:j]:\n",
    "                #print(j, \"->\", still_null[1][:j], games[\"opening_name\"].iloc[i])\n",
    "                if j >= 6:\n",
    "                    possible_1.append((j, games[\"opening_name\"].iloc[i]))\n",
    "        #print(still_null[1], \"->\", games[\"opening_name\"].iloc[i])"
   ]
  },
  {
   "cell_type": "code",
   "execution_count": 61,
   "metadata": {},
   "outputs": [
    {
     "data": {
      "text/plain": [
       "[(6, \"Queen's Gambit Declined: Exchange Variation |  Positional Variation #2\"),\n",
       " (6, \"Queen's Gambit Declined: Exchange Variation |  Positional Variation\"),\n",
       " (6, \"Queen's Gambit Declined: Exchange Variation\"),\n",
       " (6, \"Queen's Gambit Declined: Modern Variation |  Heral Variation\"),\n",
       " (6, \"Queen's Gambit Declined: Neo-Orthodox Variation |  Main Line\"),\n",
       " (6, 'Nimzo-Indian Defense: Ragozin Variation'),\n",
       " (7, 'Nimzo-Indian Defense: Ragozin Variation'),\n",
       " (6, \"Queen's Gambit Declined: Three Knights Variation\"),\n",
       " (6, \"Queen's Gambit Declined: 4.Bg5 Be7\"),\n",
       " (6, \"Queen's Gambit Declined: Orthodox Defense\"),\n",
       " (6, 'Semi-Slav Defense'),\n",
       " (7, 'Semi-Slav Defense'),\n",
       " (6, 'Nimzo-Indian Defense: Ragozin Variation'),\n",
       " (7, 'Nimzo-Indian Defense: Ragozin Variation'),\n",
       " (6, \"Queen's Gambit Declined: Modern Variation |  Normal Line\"),\n",
       " (6, \"Queen's Gambit Declined: Exchange Variation |  Positional Variation #2\"),\n",
       " (6, \"Queen's Gambit Declined: Modern Variation\"),\n",
       " (6, \"Queen's Gambit Declined: Semi-Tarrasch Defense |  Exchange Variation\"),\n",
       " (7, \"Queen's Gambit Declined: Semi-Tarrasch Defense |  Exchange Variation\"),\n",
       " (6, \"Queen's Gambit Declined: Modern Variation\"),\n",
       " (6, \"Queen's Gambit Declined: Exchange Variation\"),\n",
       " (6, \"Queen's Gambit Declined: Exchange Variation |  Positional Variation #2\"),\n",
       " (6, \"Queen's Gambit Declined: 4.Bg5 Be7\"),\n",
       " (6, \"Queen's Gambit Declined: Modern Variation\"),\n",
       " (6, \"Queen's Gambit Declined: Three Knights Variation\"),\n",
       " (6, nan),\n",
       " (7, nan),\n",
       " (8, nan),\n",
       " (6, \"Queen's Gambit Declined: Tartakower Defense\"),\n",
       " (6, \"Queen's Gambit Declined: Neo-Orthodox Variation |  Main Line\"),\n",
       " (6, \"Queen's Gambit Declined: Neo-Orthodox Variation |  Main Line\"),\n",
       " (6, nan),\n",
       " (6, \"Queen's Gambit Declined: Harrwitz Attack\"),\n",
       " (6, \"Queen's Gambit Declined: Semi-Tarrasch Defense |  Pillsbury Variation\"),\n",
       " (7, \"Queen's Gambit Declined: Semi-Tarrasch Defense |  Pillsbury Variation\"),\n",
       " (6, \"Queen's Gambit Declined: 4.Bg5 Be7 |  5.e3 O-O\"),\n",
       " (6, 'Nimzo-Indian Defense: Ragozin Variation'),\n",
       " (7, 'Nimzo-Indian Defense: Ragozin Variation'),\n",
       " (6,\n",
       "  \"Queen's Gambit Declined: Cambridge Springs Defense: Capablanca Variation\"),\n",
       " (7,\n",
       "  \"Queen's Gambit Declined: Cambridge Springs Defense: Capablanca Variation\"),\n",
       " (6, \"Queen's Gambit Declined\"),\n",
       " (7, \"Queen's Gambit Declined\"),\n",
       " (6, \"Queen's Gambit Declined: 4.Bg5 Be7\"),\n",
       " (6, 'Semi-Slav Defense'),\n",
       " (7, 'Semi-Slav Defense'),\n",
       " (6, \"Queen's Gambit Declined: Modern Variation\"),\n",
       " (6, \"Queen's Gambit Declined: Exchange Variation |  Reshevsky Variation\"),\n",
       " (6, \"Queen's Gambit Declined: Exchange Variation\"),\n",
       " (6, \"Queen's Gambit Declined: Exchange Variation\"),\n",
       " (6, \"Queen's Gambit Declined: Semi-Tarrasch |  5.cxd5\"),\n",
       " (7, \"Queen's Gambit Declined: Semi-Tarrasch |  5.cxd5\"),\n",
       " (6, \"Queen's Gambit Declined: Exchange Variation |  Positional Variation\"),\n",
       " (6, \"Queen's Gambit Declined: Harrwitz Attack |  Two Knights Defense\"),\n",
       " (7, \"Queen's Gambit Declined: Harrwitz Attack |  Two Knights Defense\"),\n",
       " (8, \"Queen's Gambit Declined: Harrwitz Attack |  Two Knights Defense\"),\n",
       " (9, \"Queen's Gambit Declined: Harrwitz Attack |  Two Knights Defense\"),\n",
       " (6, \"Queen's Gambit Declined: Modern Variation |  Normal Line\"),\n",
       " (6, \"Queen's Gambit Declined: Exchange Variation\"),\n",
       " (6, 'Nimzo-Indian Defense: Ragozin Variation'),\n",
       " (7, 'Nimzo-Indian Defense: Ragozin Variation'),\n",
       " (6, \"Queen's Gambit Declined: 4.Bg5 Be7\"),\n",
       " (6, \"Queen's Gambit Declined: 4.Bg5 Be7\"),\n",
       " (6, \"Queen's Gambit Declined: Three Knights Variation\"),\n",
       " (6, \"Queen's Gambit Declined: Exchange Variation |  Positional Variation\")]"
      ]
     },
     "execution_count": 61,
     "metadata": {},
     "output_type": "execute_result"
    }
   ],
   "source": [
    "possible_0"
   ]
  },
  {
   "cell_type": "code",
   "execution_count": 62,
   "metadata": {},
   "outputs": [
    {
     "data": {
      "text/plain": [
       "[(6, \"Queen's Gambit Declined: Exchange Variation |  Positional Variation #2\"),\n",
       " (6, \"Queen's Gambit Declined: Exchange Variation |  Positional Variation\"),\n",
       " (6, \"Queen's Gambit Declined: Exchange Variation\"),\n",
       " (6, \"Queen's Gambit Declined: Modern Variation |  Heral Variation\"),\n",
       " (7, \"Queen's Gambit Declined: Modern Variation |  Heral Variation\"),\n",
       " (8, \"Queen's Gambit Declined: Modern Variation |  Heral Variation\"),\n",
       " (6, \"Queen's Gambit Declined: Neo-Orthodox Variation |  Main Line\"),\n",
       " (7, \"Queen's Gambit Declined: Neo-Orthodox Variation |  Main Line\"),\n",
       " (8, \"Queen's Gambit Declined: Neo-Orthodox Variation |  Main Line\"),\n",
       " (6, 'Nimzo-Indian Defense: Ragozin Variation'),\n",
       " (6, \"Queen's Gambit Declined: Three Knights Variation\"),\n",
       " (6, \"Queen's Gambit Declined: 4.Bg5 Be7\"),\n",
       " (7, \"Queen's Gambit Declined: 4.Bg5 Be7\"),\n",
       " (6, \"Queen's Gambit Declined: Orthodox Defense\"),\n",
       " (7, \"Queen's Gambit Declined: Orthodox Defense\"),\n",
       " (6, 'Semi-Slav Defense'),\n",
       " (6, 'Nimzo-Indian Defense: Ragozin Variation'),\n",
       " (6, \"Queen's Gambit Declined: Modern Variation |  Normal Line\"),\n",
       " (7, \"Queen's Gambit Declined: Modern Variation |  Normal Line\"),\n",
       " (8, \"Queen's Gambit Declined: Modern Variation |  Normal Line\"),\n",
       " (9, \"Queen's Gambit Declined: Modern Variation |  Normal Line\"),\n",
       " (10, \"Queen's Gambit Declined: Modern Variation |  Normal Line\"),\n",
       " (6, \"Queen's Gambit Declined: Exchange Variation |  Positional Variation #2\"),\n",
       " (6, \"Queen's Gambit Declined: Modern Variation\"),\n",
       " (6, \"Queen's Gambit Declined: Semi-Tarrasch Defense |  Exchange Variation\"),\n",
       " (6, \"Queen's Gambit Declined: Modern Variation\"),\n",
       " (6, \"Queen's Gambit Declined: Exchange Variation\"),\n",
       " (6, \"Queen's Gambit Declined: Exchange Variation |  Positional Variation #2\"),\n",
       " (6, \"Queen's Gambit Declined: 4.Bg5 Be7\"),\n",
       " (7, \"Queen's Gambit Declined: 4.Bg5 Be7\"),\n",
       " (6, \"Queen's Gambit Declined: Modern Variation\"),\n",
       " (6, \"Queen's Gambit Declined: Three Knights Variation\"),\n",
       " (6, nan),\n",
       " (6, \"Queen's Gambit Declined: Tartakower Defense\"),\n",
       " (7, \"Queen's Gambit Declined: Tartakower Defense\"),\n",
       " (8, \"Queen's Gambit Declined: Tartakower Defense\"),\n",
       " (6, \"Queen's Gambit Declined: Neo-Orthodox Variation |  Main Line\"),\n",
       " (7, \"Queen's Gambit Declined: Neo-Orthodox Variation |  Main Line\"),\n",
       " (8, \"Queen's Gambit Declined: Neo-Orthodox Variation |  Main Line\"),\n",
       " (6, \"Queen's Gambit Declined: Neo-Orthodox Variation |  Main Line\"),\n",
       " (7, \"Queen's Gambit Declined: Neo-Orthodox Variation |  Main Line\"),\n",
       " (8, \"Queen's Gambit Declined: Neo-Orthodox Variation |  Main Line\"),\n",
       " (9, \"Queen's Gambit Declined: Neo-Orthodox Variation |  Main Line\"),\n",
       " (6, nan),\n",
       " (7, nan),\n",
       " (8, nan),\n",
       " (9, nan),\n",
       " (10, nan),\n",
       " (11, nan),\n",
       " (12, nan),\n",
       " (13, nan),\n",
       " (14, nan),\n",
       " (15, nan),\n",
       " (6, \"Queen's Gambit Declined: Harrwitz Attack\"),\n",
       " (6, \"Queen's Gambit Declined: Semi-Tarrasch Defense |  Pillsbury Variation\"),\n",
       " (6, \"Queen's Gambit Declined: 4.Bg5 Be7 |  5.e3 O-O\"),\n",
       " (7, \"Queen's Gambit Declined: 4.Bg5 Be7 |  5.e3 O-O\"),\n",
       " (8, \"Queen's Gambit Declined: 4.Bg5 Be7 |  5.e3 O-O\"),\n",
       " (9, \"Queen's Gambit Declined: 4.Bg5 Be7 |  5.e3 O-O\"),\n",
       " (6, 'Nimzo-Indian Defense: Ragozin Variation'),\n",
       " (6,\n",
       "  \"Queen's Gambit Declined: Cambridge Springs Defense: Capablanca Variation\"),\n",
       " (6, \"Queen's Gambit Declined\"),\n",
       " (6, \"Queen's Gambit Declined: 4.Bg5 Be7\"),\n",
       " (7, \"Queen's Gambit Declined: 4.Bg5 Be7\"),\n",
       " (6, 'Semi-Slav Defense'),\n",
       " (6, \"Queen's Gambit Declined: Modern Variation\"),\n",
       " (6, \"Queen's Gambit Declined: Exchange Variation |  Reshevsky Variation\"),\n",
       " (6, \"Queen's Gambit Declined: Exchange Variation\"),\n",
       " (6, \"Queen's Gambit Declined: Exchange Variation\"),\n",
       " (6, \"Queen's Gambit Declined: Semi-Tarrasch |  5.cxd5\"),\n",
       " (6, \"Queen's Gambit Declined: Exchange Variation |  Positional Variation\"),\n",
       " (6, \"Queen's Gambit Declined: Harrwitz Attack |  Two Knights Defense\"),\n",
       " (6, \"Queen's Gambit Declined: Modern Variation |  Normal Line\"),\n",
       " (7, \"Queen's Gambit Declined: Modern Variation |  Normal Line\"),\n",
       " (8, \"Queen's Gambit Declined: Modern Variation |  Normal Line\"),\n",
       " (9, \"Queen's Gambit Declined: Modern Variation |  Normal Line\"),\n",
       " (10, \"Queen's Gambit Declined: Modern Variation |  Normal Line\"),\n",
       " (6, \"Queen's Gambit Declined: Exchange Variation\"),\n",
       " (6, 'Nimzo-Indian Defense: Ragozin Variation'),\n",
       " (6, \"Queen's Gambit Declined: 4.Bg5 Be7\"),\n",
       " (7, \"Queen's Gambit Declined: 4.Bg5 Be7\"),\n",
       " (6, \"Queen's Gambit Declined: 4.Bg5 Be7\"),\n",
       " (7, \"Queen's Gambit Declined: 4.Bg5 Be7\"),\n",
       " (6, \"Queen's Gambit Declined: Three Knights Variation\"),\n",
       " (6, \"Queen's Gambit Declined: Exchange Variation |  Positional Variation\")]"
      ]
     },
     "execution_count": 62,
     "metadata": {},
     "output_type": "execute_result"
    }
   ],
   "source": [
    "possible_1"
   ]
  },
  {
   "cell_type": "code",
   "execution_count": 63,
   "metadata": {},
   "outputs": [],
   "source": [
    "games[\"opening_name\"].iloc[4057] = \"Queen's Gambit Declined: Harrwitz Attack |  Two Knights Defense\"\n",
    "games[\"opening_name\"].iloc[5055] = \"Queen's Gambit Declined: Modern Variation |  Normal Line\""
   ]
  },
  {
   "cell_type": "code",
   "execution_count": 64,
   "metadata": {},
   "outputs": [
    {
     "data": {
      "text/plain": [
       "0"
      ]
     },
     "execution_count": 64,
     "metadata": {},
     "output_type": "execute_result"
    }
   ],
   "source": [
    "games[\"opening_name\"].isnull().sum()"
   ]
  },
  {
   "cell_type": "code",
   "execution_count": 65,
   "metadata": {},
   "outputs": [
    {
     "data": {
      "text/plain": [
       "36"
      ]
     },
     "execution_count": 65,
     "metadata": {},
     "output_type": "execute_result"
    }
   ],
   "source": [
    "games[\"opening_ply\"].isnull().sum()"
   ]
  },
  {
   "cell_type": "code",
   "execution_count": 66,
   "metadata": {},
   "outputs": [
    {
     "data": {
      "text/plain": [
       "0"
      ]
     },
     "execution_count": 66,
     "metadata": {},
     "output_type": "execute_result"
    }
   ],
   "source": [
    "count = 0\n",
    "for i in range(len(games[\"opening_name\"])):\n",
    "    if games[\"opening_name\"].isnull().iloc[i] and games[\"opening_ply\"].isnull().iloc[i]:\n",
    "        count += 1\n",
    "count\n",
    "    "
   ]
  },
  {
   "cell_type": "code",
   "execution_count": 67,
   "metadata": {},
   "outputs": [
    {
     "data": {
      "text/plain": [
       "36"
      ]
     },
     "execution_count": 67,
     "metadata": {},
     "output_type": "execute_result"
    }
   ],
   "source": [
    "null_index = []\n",
    "for i in range(len(games[\"opening_ply\"])):\n",
    "    if games[\"opening_ply\"].isnull().iloc[i]:\n",
    "        null_index.append(i)\n",
    "len(null_index)"
   ]
  },
  {
   "cell_type": "code",
   "execution_count": 68,
   "metadata": {},
   "outputs": [
    {
     "data": {
      "text/plain": [
       "1"
      ]
     },
     "execution_count": 68,
     "metadata": {},
     "output_type": "execute_result"
    }
   ],
   "source": [
    "count = 0\n",
    "for i in null_index:\n",
    "    for j in range(len(games[\"opening_name\"])):\n",
    "        if i != j and games[\"opening_name\"].iloc[i] == games[\"opening_name\"].iloc[j]:\n",
    "            games[\"opening_ply\"].iloc[i] = games[\"opening_ply\"].iloc[j]\n",
    "            break\n",
    "games[\"opening_ply\"].isnull().sum()"
   ]
  },
  {
   "cell_type": "code",
   "execution_count": 69,
   "metadata": {},
   "outputs": [
    {
     "data": {
      "text/plain": [
       "[5810]"
      ]
     },
     "execution_count": 69,
     "metadata": {},
     "output_type": "execute_result"
    }
   ],
   "source": [
    "null_index = []\n",
    "for i in range(len(games[\"opening_ply\"])):\n",
    "    if games[\"opening_ply\"].isnull().iloc[i]:\n",
    "        null_index.append(i)\n",
    "null_index"
   ]
  },
  {
   "cell_type": "code",
   "execution_count": 70,
   "metadata": {},
   "outputs": [
    {
     "name": "stdout",
     "output_type": "stream",
     "text": [
      "King's Indian Defense: Orthodox Variation |  Positional Defense |  Closed Line nan\n"
     ]
    }
   ],
   "source": [
    "print(games[\"opening_name\"].iloc[5810], games[\"opening_ply\"].iloc[5810])"
   ]
  },
  {
   "cell_type": "code",
   "execution_count": 71,
   "metadata": {},
   "outputs": [
    {
     "name": "stdout",
     "output_type": "stream",
     "text": [
      "5810\n",
      "['d4', 'Nf6', 'c4', 'g6', 'Nc3', 'Bg7', 'e4', 'd6', 'Be2', 'O-O', 'Nf3', 'e5', 'd5', 'Nbd7', 'O-O', 'c6', 'b4', 'a5', 'Qb3', 'Qb6', 'Ba3', 'axb4', 'Bxb4', 'c5', 'Ba3', 'Qa6', 'Bc1', 'Nb6', 'Nb5', 'Qa4', 'Qxa4', 'Rxa4', 'Nxd6', 'Bd7', 'Nxe5', 'Nxe4', 'Nxe4', 'Bxe5', 'Rb1', 'Ra6', 'Nxc5', 'Rxa2', 'Rxb6', 'Rxe2', 'Nxd7', 'Re8', 'Nxe5', 'R8xe5', 'Be3', 'Rc2', 'Bd4', 'Ree2', 'Rxb7', 'Red2', 'Rb8#']\n"
     ]
    }
   ],
   "source": [
    "for i in range(len(games[\"opening_name\"])):\n",
    "    if games[\"opening_name\"].iloc[i] == \"King's Indian Defense: Orthodox Variation |  Positional Defense |  Closed Line\":\n",
    "        print(i)\n",
    "        print(games[\"moves\"].iloc[i])"
   ]
  },
  {
   "cell_type": "markdown",
   "metadata": {},
   "source": [
    "This is a unique opening which is the only one in the entire dataset. So we can fill up its opening ply taking some help online"
   ]
  },
  {
   "cell_type": "code",
   "execution_count": 72,
   "metadata": {},
   "outputs": [],
   "source": [
    "#reference https://www.chess.com/openings/Kings-Indian-Defense-Orthodox-Positional-Defense-Closed-Line\n",
    "games[\"opening_ply\"].iloc[5810] = 8"
   ]
  },
  {
   "cell_type": "code",
   "execution_count": 73,
   "metadata": {},
   "outputs": [
    {
     "data": {
      "text/plain": [
       "0"
      ]
     },
     "execution_count": 73,
     "metadata": {},
     "output_type": "execute_result"
    }
   ],
   "source": [
    "games[\"opening_ply\"].isnull().sum()"
   ]
  },
  {
   "cell_type": "code",
   "execution_count": 74,
   "metadata": {},
   "outputs": [
    {
     "data": {
      "text/plain": [
       "28"
      ]
     },
     "execution_count": 74,
     "metadata": {},
     "output_type": "execute_result"
    }
   ],
   "source": [
    "games[\"opening_eco\"].isnull().sum()"
   ]
  },
  {
   "cell_type": "code",
   "execution_count": 75,
   "metadata": {},
   "outputs": [
    {
     "data": {
      "text/plain": [
       "<matplotlib.axes._subplots.AxesSubplot at 0x236b3e33588>"
      ]
     },
     "execution_count": 75,
     "metadata": {},
     "output_type": "execute_result"
    },
    {
     "data": {
      "image/png": "[encoded data removed]",
      "text/plain": [
       "<Figure size 432x288 with 1 Axes>"
      ]
     },
     "metadata": {
      "needs_background": "light"
     },
     "output_type": "display_data"
    }
   ],
   "source": [
    "games[\"victory_status\"].hist()"
   ]
  },
  {
   "cell_type": "code",
   "execution_count": 76,
   "metadata": {},
   "outputs": [
    {
     "data": {
      "text/plain": [
       "26"
      ]
     },
     "execution_count": 76,
     "metadata": {},
     "output_type": "execute_result"
    }
   ],
   "source": [
    "games[\"victory_status\"].isnull().sum()"
   ]
  },
  {
   "cell_type": "code",
   "execution_count": 77,
   "metadata": {},
   "outputs": [
    {
     "data": {
      "text/plain": [
       "0"
      ]
     },
     "execution_count": 77,
     "metadata": {},
     "output_type": "execute_result"
    }
   ],
   "source": [
    "count = 0\n",
    "for i in range(len(games[\"victory_status\"])):\n",
    "    if games[\"victory_status\"].isnull().iloc[i] and games[\"moves\"].isnull().iloc[i]:\n",
    "        count += 1\n",
    "count"
   ]
  },
  {
   "cell_type": "code",
   "execution_count": 78,
   "metadata": {},
   "outputs": [],
   "source": [
    "for i in range(len(games[\"victory_status\"])):\n",
    "    if games[\"victory_status\"].isnull().iloc[i] and not games[\"moves\"].isnull().iloc[i]:\n",
    "        if games[\"moves\"].iloc[i][-1].endswith(\"#\") or games[\"moves\"].iloc[i][-1].endswith(\"++\"):\n",
    "            games[\"victory_status\"].iloc[i] = \"mate\"\n",
    "                                                                                          "
   ]
  },
  {
   "cell_type": "code",
   "execution_count": 79,
   "metadata": {},
   "outputs": [
    {
     "data": {
      "text/plain": [
       "18"
      ]
     },
     "execution_count": 79,
     "metadata": {},
     "output_type": "execute_result"
    }
   ],
   "source": [
    "games[\"victory_status\"].isnull().sum()"
   ]
  },
  {
   "cell_type": "markdown",
   "metadata": {},
   "source": [
    "We cannot decide whether the result of the game was a draw, resign or outoftime as these results donot have a specific pattern."
   ]
  },
  {
   "cell_type": "code",
   "execution_count": 80,
   "metadata": {},
   "outputs": [
    {
     "data": {
      "text/plain": [
       "25"
      ]
     },
     "execution_count": 80,
     "metadata": {},
     "output_type": "execute_result"
    }
   ],
   "source": [
    "games[\"winner\"].isnull().sum()"
   ]
  },
  {
   "cell_type": "code",
   "execution_count": 81,
   "metadata": {},
   "outputs": [
    {
     "data": {
      "text/plain": [
       "0"
      ]
     },
     "execution_count": 81,
     "metadata": {},
     "output_type": "execute_result"
    }
   ],
   "source": [
    "count = 0\n",
    "for i in range(len(games[\"winner\"])):\n",
    "    if games[\"winner\"].isnull().iloc[i] and games[\"moves\"].isnull().iloc[i]:\n",
    "        count += 1\n",
    "count"
   ]
  },
  {
   "cell_type": "code",
   "execution_count": 82,
   "metadata": {},
   "outputs": [],
   "source": [
    "for i in range(len(games[\"winner\"])):\n",
    "    if games[\"winner\"].isnull().iloc[i] and not games[\"moves\"].isnull().iloc[i]:\n",
    "        if games[\"moves\"].iloc[i][-1].endswith(\"#\") or games[\"moves\"].iloc[i][-1].endswith(\"++\"):\n",
    "            games[\"winner\"].iloc[i] = \"black\" if len(games[\"moves\"].iloc[i]) % 2 == 0 else \"white\""
   ]
  },
  {
   "cell_type": "code",
   "execution_count": 83,
   "metadata": {},
   "outputs": [
    {
     "data": {
      "text/plain": [
       "20"
      ]
     },
     "execution_count": 83,
     "metadata": {},
     "output_type": "execute_result"
    }
   ],
   "source": [
    "games[\"winner\"].isnull().sum()"
   ]
  },
  {
   "cell_type": "markdown",
   "metadata": {},
   "source": [
    "The null values in the moves cannot be determined as moves column itself has been used to determine the null values in other values.\n",
    "The left out null values in the victory_status and winner cannot be determined as their corresponding moves column has undeterminable values.\n",
    "The null values in the opening_eco column have been ignored as of now as they take a lot of resources to be looked into as their values have many possible values"
   ]
  },
  {
   "cell_type": "code",
   "execution_count": 84,
   "metadata": {},
   "outputs": [
    {
     "data": {
      "text/plain": [
       "0"
      ]
     },
     "execution_count": 84,
     "metadata": {},
     "output_type": "execute_result"
    }
   ],
   "source": [
    "count = 0\n",
    "for i in range(len(games[\"turns\"])):\n",
    "    if games[\"turns\"].isnull().iloc[i] and games[\"moves\"].isnull().iloc[i]:\n",
    "        count += 1\n",
    "count"
   ]
  },
  {
   "cell_type": "code",
   "execution_count": 85,
   "metadata": {},
   "outputs": [
    {
     "data": {
      "text/plain": [
       "0"
      ]
     },
     "execution_count": 85,
     "metadata": {},
     "output_type": "execute_result"
    }
   ],
   "source": [
    "for i in range(len(games[\"turns\"])):\n",
    "    if games[\"turns\"].isnull().iloc[i] and not games[\"moves\"].isnull().iloc[i]:\n",
    "        games[\"turns\"].iloc[i] = len(games[\"moves\"].iloc[i])\n",
    "games[\"turns\"].isnull().sum()"
   ]
  },
  {
   "cell_type": "code",
   "execution_count": 86,
   "metadata": {},
   "outputs": [
    {
     "name": "stdout",
     "output_type": "stream",
     "text": [
      "id -> 0\n",
      "rated -> 0\n",
      "turns -> 0\n",
      "victory_status -> 18\n",
      "winner -> 20\n",
      "increment_code -> 0\n",
      "white_id -> 0\n",
      "white_rating -> 0\n",
      "black_id -> 0\n",
      "black_rating -> 0\n",
      "moves -> 28\n",
      "opening_eco -> 28\n",
      "opening_name -> 0\n",
      "opening_ply -> 0\n",
      "game_time -> 0\n",
      "total null values :  94\n"
     ]
    }
   ],
   "source": [
    "total = 0\n",
    "for i in games:\n",
    "    total += games[i].isnull().sum()\n",
    "    print(i, \"->\", games[i].isnull().sum())\n",
    "print(\"total null values : \", total)"
   ]
  },
  {
   "cell_type": "code",
   "execution_count": 87,
   "metadata": {},
   "outputs": [],
   "source": [
    "games.to_csv(\"games_cleaned.csv\")"
   ]
  },
  {
   "cell_type": "code",
   "execution_count": null,
   "metadata": {},
   "outputs": [],
   "source": []
  }
 ],
 "metadata": {
  "kernelspec": {
   "display_name": "Python 3",
   "language": "python",
   "name": "python3"
  },
  "language_info": {
   "codemirror_mode": {
    "name": "ipython",
    "version": 3
   },
   "file_extension": ".py",
   "mimetype": "text/x-python",
   "name": "python",
   "nbconvert_exporter": "python",
   "pygments_lexer": "ipython3",
   "version": "3.7.4"
  }
 },
 "nbformat": 4,
 "nbformat_minor": 2
}
