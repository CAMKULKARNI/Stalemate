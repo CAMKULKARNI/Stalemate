{
 "cells": [
  {
   "cell_type": "code",
   "execution_count": 1,
   "metadata": {},
   "outputs": [],
   "source": [
    "import pandas as pd\n",
    "import matplotlib.pyplot as plt \n",
    "import seaborn as sns\n",
    "from scipy import stats"
   ]
  },
  {
   "cell_type": "code",
   "execution_count": 2,
   "metadata": {},
   "outputs": [],
   "source": [
    "file = \"D:\\codes_python\\sds project\\games_cleaned.csv\"\n",
    "games = pd.read_csv(file)"
   ]
  },
  {
   "cell_type": "code",
   "execution_count": 3,
   "metadata": {},
   "outputs": [],
   "source": [
    "games.drop([\"Unnamed: 0\"], axis = 1, inplace = True)"
   ]
  },
  {
   "cell_type": "code",
   "execution_count": 4,
   "metadata": {},
   "outputs": [
    {
     "data": {
      "text/html": [
       "<div>\n",
       "<style scoped>\n",
       "    .dataframe tbody tr th:only-of-type {\n",
       "        vertical-align: middle;\n",
       "    }\n",
       "\n",
       "    .dataframe tbody tr th {\n",
       "        vertical-align: top;\n",
       "    }\n",
       "\n",
       "    .dataframe thead th {\n",
       "        text-align: right;\n",
       "    }\n",
       "</style>\n",
       "<table border=\"1\" class=\"dataframe\">\n",
       "  <thead>\n",
       "    <tr style=\"text-align: right;\">\n",
       "      <th></th>\n",
       "      <th>id</th>\n",
       "      <th>rated</th>\n",
       "      <th>turns</th>\n",
       "      <th>victory_status</th>\n",
       "      <th>winner</th>\n",
       "      <th>increment_code</th>\n",
       "      <th>white_id</th>\n",
       "      <th>white_rating</th>\n",
       "      <th>black_id</th>\n",
       "      <th>black_rating</th>\n",
       "      <th>moves</th>\n",
       "      <th>opening_eco</th>\n",
       "      <th>opening_name</th>\n",
       "      <th>opening_ply</th>\n",
       "      <th>game_time</th>\n",
       "    </tr>\n",
       "  </thead>\n",
       "  <tbody>\n",
       "    <tr>\n",
       "      <td>0</td>\n",
       "      <td>fyfWyjj2</td>\n",
       "      <td>1.0</td>\n",
       "      <td>56.0</td>\n",
       "      <td>resign</td>\n",
       "      <td>black</td>\n",
       "      <td>10+6</td>\n",
       "      <td>mindworm</td>\n",
       "      <td>2180.0</td>\n",
       "      <td>lolmens</td>\n",
       "      <td>2134.0</td>\n",
       "      <td>['d4', 'Nf6', 'c4', 'c6', 'd5', 'e6', 'Nc3', '...</td>\n",
       "      <td>A50</td>\n",
       "      <td>Slav Indian</td>\n",
       "      <td>4.0</td>\n",
       "      <td>152.045167</td>\n",
       "    </tr>\n",
       "    <tr>\n",
       "      <td>1</td>\n",
       "      <td>QmCyfnNZ</td>\n",
       "      <td>1.0</td>\n",
       "      <td>55.0</td>\n",
       "      <td>resign</td>\n",
       "      <td>white</td>\n",
       "      <td>10+0</td>\n",
       "      <td>philipp_0x</td>\n",
       "      <td>1291.0</td>\n",
       "      <td>alywezza</td>\n",
       "      <td>1326.0</td>\n",
       "      <td>['Nf3', 'c5', 'd4', 'cxd4', 'Nxd4', 'd5', 'g3'...</td>\n",
       "      <td>A04</td>\n",
       "      <td>Zukertort Opening: Sicilian Invitation</td>\n",
       "      <td>2.0</td>\n",
       "      <td>137.408000</td>\n",
       "    </tr>\n",
       "    <tr>\n",
       "      <td>2</td>\n",
       "      <td>X1hUH5gY</td>\n",
       "      <td>1.0</td>\n",
       "      <td>2.0</td>\n",
       "      <td>resign</td>\n",
       "      <td>white</td>\n",
       "      <td>180+180</td>\n",
       "      <td>chiggen</td>\n",
       "      <td>1291.0</td>\n",
       "      <td>drakon1</td>\n",
       "      <td>965.0</td>\n",
       "      <td>['e4', 'd5']</td>\n",
       "      <td>B01</td>\n",
       "      <td>Scandinavian Defense</td>\n",
       "      <td>2.0</td>\n",
       "      <td>0.929667</td>\n",
       "    </tr>\n",
       "    <tr>\n",
       "      <td>3</td>\n",
       "      <td>xfD25ZBl</td>\n",
       "      <td>1.0</td>\n",
       "      <td>111.0</td>\n",
       "      <td>resign</td>\n",
       "      <td>white</td>\n",
       "      <td>9+5</td>\n",
       "      <td>khelil</td>\n",
       "      <td>1611.0</td>\n",
       "      <td>gleb763</td>\n",
       "      <td>1418.0</td>\n",
       "      <td>['e4', 'e5', 'Bc4', 'c6', 'Qh5', 'd5', 'exd5',...</td>\n",
       "      <td>C23</td>\n",
       "      <td>Bishop's Opening: Philidor Counterattack</td>\n",
       "      <td>4.0</td>\n",
       "      <td>169.290000</td>\n",
       "    </tr>\n",
       "    <tr>\n",
       "      <td>4</td>\n",
       "      <td>BFo44qd4</td>\n",
       "      <td>1.0</td>\n",
       "      <td>25.0</td>\n",
       "      <td>mate</td>\n",
       "      <td>white</td>\n",
       "      <td>10+0</td>\n",
       "      <td>elvis1997</td>\n",
       "      <td>2168.0</td>\n",
       "      <td>kabuto87</td>\n",
       "      <td>1650.0</td>\n",
       "      <td>['e4', 'Nc6', 'd4', 'd5', 'e5', 'Qd7', 'Be2', ...</td>\n",
       "      <td>B00</td>\n",
       "      <td>Nimzowitsch Defense: Scandinavian Variation | ...</td>\n",
       "      <td>5.0</td>\n",
       "      <td>49.667500</td>\n",
       "    </tr>\n",
       "    <tr>\n",
       "      <td>...</td>\n",
       "      <td>...</td>\n",
       "      <td>...</td>\n",
       "      <td>...</td>\n",
       "      <td>...</td>\n",
       "      <td>...</td>\n",
       "      <td>...</td>\n",
       "      <td>...</td>\n",
       "      <td>...</td>\n",
       "      <td>...</td>\n",
       "      <td>...</td>\n",
       "      <td>...</td>\n",
       "      <td>...</td>\n",
       "      <td>...</td>\n",
       "      <td>...</td>\n",
       "      <td>...</td>\n",
       "    </tr>\n",
       "    <tr>\n",
       "      <td>9362</td>\n",
       "      <td>eBZNlH7w</td>\n",
       "      <td>1.0</td>\n",
       "      <td>55.0</td>\n",
       "      <td>resign</td>\n",
       "      <td>black</td>\n",
       "      <td>20+0</td>\n",
       "      <td>sdmabunda</td>\n",
       "      <td>1518.0</td>\n",
       "      <td>rehcsif6rehcsif</td>\n",
       "      <td>1546.0</td>\n",
       "      <td>['e4', 'e5', 'Nf3', 'Nc6', 'Bb5', 'a6', 'Bxc6'...</td>\n",
       "      <td>C68</td>\n",
       "      <td>Ruy Lopez: Exchange Variation</td>\n",
       "      <td>7.0</td>\n",
       "      <td>181.858500</td>\n",
       "    </tr>\n",
       "    <tr>\n",
       "      <td>9363</td>\n",
       "      <td>MtDU2OuN</td>\n",
       "      <td>1.0</td>\n",
       "      <td>30.0</td>\n",
       "      <td>mate</td>\n",
       "      <td>black</td>\n",
       "      <td>20+5</td>\n",
       "      <td>aradov</td>\n",
       "      <td>1060.0</td>\n",
       "      <td>rodrigowski19</td>\n",
       "      <td>1202.0</td>\n",
       "      <td>['e4', 'c5', 'd4', 'cxd4', 'Qxd4', 'Nc6', 'Qe3...</td>\n",
       "      <td>B21</td>\n",
       "      <td>Sicilian Defense: Smith-Morra Gambit #2</td>\n",
       "      <td>3.0</td>\n",
       "      <td>32.038167</td>\n",
       "    </tr>\n",
       "    <tr>\n",
       "      <td>9364</td>\n",
       "      <td>wL5yxYVK</td>\n",
       "      <td>1.0</td>\n",
       "      <td>61.0</td>\n",
       "      <td>resign</td>\n",
       "      <td>white</td>\n",
       "      <td>15+15</td>\n",
       "      <td>azomio</td>\n",
       "      <td>1410.0</td>\n",
       "      <td>karanlikyol</td>\n",
       "      <td>1355.0</td>\n",
       "      <td>['f4', 'f6', 'e3', 'e5', 'fxe5', 'fxe5', 'Qh5+...</td>\n",
       "      <td>A02</td>\n",
       "      <td>Bird Opening</td>\n",
       "      <td>1.0</td>\n",
       "      <td>157.164167</td>\n",
       "    </tr>\n",
       "    <tr>\n",
       "      <td>9365</td>\n",
       "      <td>ayNGChBy</td>\n",
       "      <td>1.0</td>\n",
       "      <td>79.0</td>\n",
       "      <td>resign</td>\n",
       "      <td>black</td>\n",
       "      <td>10+0</td>\n",
       "      <td>dastan-2009</td>\n",
       "      <td>1593.0</td>\n",
       "      <td>summu</td>\n",
       "      <td>1885.0</td>\n",
       "      <td>['e4', 'c5', 'Nf3', 'd6', 'd4', 'cxd4', 'Nxd4'...</td>\n",
       "      <td>B90</td>\n",
       "      <td>Sicilian Defense: Najdorf Variation |  English...</td>\n",
       "      <td>11.0</td>\n",
       "      <td>86.955000</td>\n",
       "    </tr>\n",
       "    <tr>\n",
       "      <td>9366</td>\n",
       "      <td>W1fKatN0</td>\n",
       "      <td>0.0</td>\n",
       "      <td>41.0</td>\n",
       "      <td>resign</td>\n",
       "      <td>black</td>\n",
       "      <td>30+0</td>\n",
       "      <td>bronyaurstomp</td>\n",
       "      <td>1264.0</td>\n",
       "      <td>jeswalace333</td>\n",
       "      <td>1500.0</td>\n",
       "      <td>['b4', 'd5', 'd4', 'Nf6', 'Nf3', 'Nbd7', 'Nc3'...</td>\n",
       "      <td>A00</td>\n",
       "      <td>Polish Opening</td>\n",
       "      <td>1.0</td>\n",
       "      <td>117.543000</td>\n",
       "    </tr>\n",
       "  </tbody>\n",
       "</table>\n",
       "<p>9367 rows × 15 columns</p>\n",
       "</div>"
      ],
      "text/plain": [
       "            id  rated  turns victory_status winner increment_code  \\\n",
       "0     fyfWyjj2    1.0   56.0         resign  black           10+6   \n",
       "1     QmCyfnNZ    1.0   55.0         resign  white           10+0   \n",
       "2     X1hUH5gY    1.0    2.0         resign  white        180+180   \n",
       "3     xfD25ZBl    1.0  111.0         resign  white            9+5   \n",
       "4     BFo44qd4    1.0   25.0           mate  white           10+0   \n",
       "...        ...    ...    ...            ...    ...            ...   \n",
       "9362  eBZNlH7w    1.0   55.0         resign  black           20+0   \n",
       "9363  MtDU2OuN    1.0   30.0           mate  black           20+5   \n",
       "9364  wL5yxYVK    1.0   61.0         resign  white          15+15   \n",
       "9365  ayNGChBy    1.0   79.0         resign  black           10+0   \n",
       "9366  W1fKatN0    0.0   41.0         resign  black           30+0   \n",
       "\n",
       "           white_id  white_rating         black_id  black_rating  \\\n",
       "0          mindworm        2180.0          lolmens        2134.0   \n",
       "1        philipp_0x        1291.0         alywezza        1326.0   \n",
       "2           chiggen        1291.0          drakon1         965.0   \n",
       "3            khelil        1611.0          gleb763        1418.0   \n",
       "4         elvis1997        2168.0         kabuto87        1650.0   \n",
       "...             ...           ...              ...           ...   \n",
       "9362      sdmabunda        1518.0  rehcsif6rehcsif        1546.0   \n",
       "9363         aradov        1060.0    rodrigowski19        1202.0   \n",
       "9364         azomio        1410.0      karanlikyol        1355.0   \n",
       "9365    dastan-2009        1593.0            summu        1885.0   \n",
       "9366  bronyaurstomp        1264.0     jeswalace333        1500.0   \n",
       "\n",
       "                                                  moves opening_eco  \\\n",
       "0     ['d4', 'Nf6', 'c4', 'c6', 'd5', 'e6', 'Nc3', '...         A50   \n",
       "1     ['Nf3', 'c5', 'd4', 'cxd4', 'Nxd4', 'd5', 'g3'...         A04   \n",
       "2                                          ['e4', 'd5']         B01   \n",
       "3     ['e4', 'e5', 'Bc4', 'c6', 'Qh5', 'd5', 'exd5',...         C23   \n",
       "4     ['e4', 'Nc6', 'd4', 'd5', 'e5', 'Qd7', 'Be2', ...         B00   \n",
       "...                                                 ...         ...   \n",
       "9362  ['e4', 'e5', 'Nf3', 'Nc6', 'Bb5', 'a6', 'Bxc6'...         C68   \n",
       "9363  ['e4', 'c5', 'd4', 'cxd4', 'Qxd4', 'Nc6', 'Qe3...         B21   \n",
       "9364  ['f4', 'f6', 'e3', 'e5', 'fxe5', 'fxe5', 'Qh5+...         A02   \n",
       "9365  ['e4', 'c5', 'Nf3', 'd6', 'd4', 'cxd4', 'Nxd4'...         B90   \n",
       "9366  ['b4', 'd5', 'd4', 'Nf6', 'Nf3', 'Nbd7', 'Nc3'...         A00   \n",
       "\n",
       "                                           opening_name  opening_ply  \\\n",
       "0                                           Slav Indian          4.0   \n",
       "1                Zukertort Opening: Sicilian Invitation          2.0   \n",
       "2                                  Scandinavian Defense          2.0   \n",
       "3              Bishop's Opening: Philidor Counterattack          4.0   \n",
       "4     Nimzowitsch Defense: Scandinavian Variation | ...          5.0   \n",
       "...                                                 ...          ...   \n",
       "9362                      Ruy Lopez: Exchange Variation          7.0   \n",
       "9363            Sicilian Defense: Smith-Morra Gambit #2          3.0   \n",
       "9364                                       Bird Opening          1.0   \n",
       "9365  Sicilian Defense: Najdorf Variation |  English...         11.0   \n",
       "9366                                     Polish Opening          1.0   \n",
       "\n",
       "       game_time  \n",
       "0     152.045167  \n",
       "1     137.408000  \n",
       "2       0.929667  \n",
       "3     169.290000  \n",
       "4      49.667500  \n",
       "...          ...  \n",
       "9362  181.858500  \n",
       "9363   32.038167  \n",
       "9364  157.164167  \n",
       "9365   86.955000  \n",
       "9366  117.543000  \n",
       "\n",
       "[9367 rows x 15 columns]"
      ]
     },
     "execution_count": 4,
     "metadata": {},
     "output_type": "execute_result"
    }
   ],
   "source": [
    "games"
   ]
  },
  {
   "cell_type": "code",
   "execution_count": 5,
   "metadata": {},
   "outputs": [
    {
     "data": {
      "text/plain": [
       "<matplotlib.axes._subplots.AxesSubplot at 0x1ef04ef88c8>"
      ]
     },
     "execution_count": 5,
     "metadata": {},
     "output_type": "execute_result"
    },
    {
     "data": {
      "image/png": "[encoded data removed]",
      "text/plain": [
       "<Figure size 432x288 with 1 Axes>"
      ]
     },
     "metadata": {
      "needs_background": "light"
     },
     "output_type": "display_data"
    }
   ],
   "source": [
    "games[\"rated\"].hist()"
   ]
  },
  {
   "cell_type": "code",
   "execution_count": 6,
   "metadata": {},
   "outputs": [
    {
     "data": {
      "text/plain": [
       "([<matplotlib.patches.Wedge at 0x1ef05034c48>,\n",
       "  <matplotlib.patches.Wedge at 0x1ef0503c388>],\n",
       " [Text(-0.9154995181239615, 0.6098037654153952, '1.0'),\n",
       "  Text(0.9154995181239612, -0.6098037654153958, '0.0')])"
      ]
     },
     "execution_count": 6,
     "metadata": {},
     "output_type": "execute_result"
    },
    {
     "data": {
      "image/png": "[encoded data removed]",
      "text/plain": [
       "<Figure size 432x288 with 1 Axes>"
      ]
     },
     "metadata": {},
     "output_type": "display_data"
    }
   ],
   "source": [
    "data = dict(games[\"rated\"].value_counts())\n",
    "plt.pie(data.values(), labels = data.keys())"
   ]
  },
  {
   "cell_type": "code",
   "execution_count": 7,
   "metadata": {},
   "outputs": [
    {
     "data": {
      "text/plain": [
       "0"
      ]
     },
     "execution_count": 7,
     "metadata": {},
     "output_type": "execute_result"
    }
   ],
   "source": [
    "games[\"turns\"].isnull().sum()"
   ]
  },
  {
   "cell_type": "code",
   "execution_count": 14,
   "metadata": {},
   "outputs": [
    {
     "data": {
      "text/plain": [
       "<matplotlib.axes._subplots.AxesSubplot at 0x1ef06919b48>"
      ]
     },
     "execution_count": 14,
     "metadata": {},
     "output_type": "execute_result"
    },
    {
     "data": {
      "image/png": "[encoded data removed]",
      "text/plain": [
       "<Figure size 432x288 with 1 Axes>"
      ]
     },
     "metadata": {
      "needs_background": "light"
     },
     "output_type": "display_data"
    }
   ],
   "source": [
    "games[\"turns\"].hist(bins = 100)"
   ]
  },
  {
   "cell_type": "code",
   "execution_count": 16,
   "metadata": {},
   "outputs": [
    {
     "data": {
      "text/plain": [
       "{'whiskers': [<matplotlib.lines.Line2D at 0x1ef07b6c588>,\n",
       "  <matplotlib.lines.Line2D at 0x1ef07b62fc8>],\n",
       " 'caps': [<matplotlib.lines.Line2D at 0x1ef07b6cf48>,\n",
       "  <matplotlib.lines.Line2D at 0x1ef07b6cc88>],\n",
       " 'boxes': [<matplotlib.lines.Line2D at 0x1ef07b62dc8>],\n",
       " 'medians': [<matplotlib.lines.Line2D at 0x1ef07b73b88>],\n",
       " 'fliers': [<matplotlib.lines.Line2D at 0x1ef07b73f88>],\n",
       " 'means': []}"
      ]
     },
     "execution_count": 16,
     "metadata": {},
     "output_type": "execute_result"
    },
    {
     "data": {
      "image/png": "[encoded data removed]",
      "text/plain": [
       "<Figure size 432x288 with 1 Axes>"
      ]
     },
     "metadata": {
      "needs_background": "light"
     },
     "output_type": "display_data"
    }
   ],
   "source": [
    "plt.boxplot(games[\"turns\"])"
   ]
  },
  {
   "cell_type": "markdown",
   "metadata": {},
   "source": [
    "We can see many outliers here. We will clean them later."
   ]
  },
  {
   "cell_type": "code",
   "execution_count": 17,
   "metadata": {},
   "outputs": [
    {
     "data": {
      "text/plain": [
       "18"
      ]
     },
     "execution_count": 17,
     "metadata": {},
     "output_type": "execute_result"
    }
   ],
   "source": [
    "games[\"victory_status\"].isnull().sum()"
   ]
  },
  {
   "cell_type": "code",
   "execution_count": 18,
   "metadata": {},
   "outputs": [
    {
     "data": {
      "text/plain": [
       "<matplotlib.axes._subplots.AxesSubplot at 0x1ef07b9df08>"
      ]
     },
     "execution_count": 18,
     "metadata": {},
     "output_type": "execute_result"
    },
    {
     "data": {
      "image/png": "[encoded data removed]",
      "text/plain": [
       "<Figure size 432x288 with 1 Axes>"
      ]
     },
     "metadata": {
      "needs_background": "light"
     },
     "output_type": "display_data"
    }
   ],
   "source": [
    "games[\"victory_status\"].hist()"
   ]
  },
  {
   "cell_type": "code",
   "execution_count": 19,
   "metadata": {},
   "outputs": [
    {
     "data": {
      "text/plain": [
       "([<matplotlib.patches.Wedge at 0x1ef07c45948>,\n",
       "  <matplotlib.patches.Wedge at 0x1ef07c45dc8>,\n",
       "  <matplotlib.patches.Wedge at 0x1ef07c4f388>,\n",
       "  <matplotlib.patches.Wedge at 0x1ef07c4f408>],\n",
       " [Text(-0.23059477068122566, 1.0755584836420906, 'resign'),\n",
       "  Text(-0.23492967596202846, -1.074619954845608, 'mate'),\n",
       "  Text(0.9215264958076568, -0.600657071484604, 'outoftime'),\n",
       "  Text(1.0874475588278905, -0.16570397339612, 'draw')])"
      ]
     },
     "execution_count": 19,
     "metadata": {},
     "output_type": "execute_result"
    },
    {
     "data": {
      "image/png": "[encoded data removed]",
      "text/plain": [
       "<Figure size 432x288 with 1 Axes>"
      ]
     },
     "metadata": {},
     "output_type": "display_data"
    }
   ],
   "source": [
    "data = dict(games[\"victory_status\"].value_counts())\n",
    "plt.pie(data.values(), labels = data.keys())"
   ]
  },
  {
   "cell_type": "code",
   "execution_count": 20,
   "metadata": {},
   "outputs": [
    {
     "data": {
      "text/plain": [
       "<matplotlib.axes._subplots.AxesSubplot at 0x1ef07c5bfc8>"
      ]
     },
     "execution_count": 20,
     "metadata": {},
     "output_type": "execute_result"
    },
    {
     "data": {
      "image/png": "[encoded data removed]",
      "text/plain": [
       "<Figure size 432x288 with 1 Axes>"
      ]
     },
     "metadata": {
      "needs_background": "light"
     },
     "output_type": "display_data"
    }
   ],
   "source": [
    "games[\"winner\"].hist()"
   ]
  },
  {
   "cell_type": "code",
   "execution_count": 21,
   "metadata": {},
   "outputs": [
    {
     "data": {
      "text/plain": [
       "([<matplotlib.patches.Wedge at 0x1ef07cff388>,\n",
       "  <matplotlib.patches.Wedge at 0x1ef07cff848>,\n",
       "  <matplotlib.patches.Wedge at 0x1ef07cff7c8>],\n",
       " [Text(-0.0053607847347072165, 1.0999869371892688, 'white'),\n",
       "  Text(-0.16555688855892267, -1.0874699612636152, 'black'),\n",
       "  Text(1.0866501935817894, -0.1708547827503227, 'draw')])"
      ]
     },
     "execution_count": 21,
     "metadata": {},
     "output_type": "execute_result"
    },
    {
     "data": {
      "image/png": "[encoded data removed]",
      "text/plain": [
       "<Figure size 432x288 with 1 Axes>"
      ]
     },
     "metadata": {},
     "output_type": "display_data"
    }
   ],
   "source": [
    "data = dict(games[\"winner\"].value_counts())\n",
    "plt.pie(data.values(), labels = data.keys())"
   ]
  },
  {
   "cell_type": "code",
   "execution_count": 22,
   "metadata": {},
   "outputs": [
    {
     "data": {
      "text/plain": [
       "20"
      ]
     },
     "execution_count": 22,
     "metadata": {},
     "output_type": "execute_result"
    }
   ],
   "source": [
    "games[\"winner\"].isnull().sum()"
   ]
  },
  {
   "cell_type": "code",
   "execution_count": 24,
   "metadata": {},
   "outputs": [
    {
     "data": {
      "text/plain": [
       "0"
      ]
     },
     "execution_count": 24,
     "metadata": {},
     "output_type": "execute_result"
    }
   ],
   "source": [
    "games[\"increment_code\"].isnull().sum()"
   ]
  },
  {
   "cell_type": "code",
   "execution_count": 25,
   "metadata": {},
   "outputs": [
    {
     "data": {
      "text/plain": [
       "<matplotlib.axes._subplots.AxesSubplot at 0x1ef07e4ecc8>"
      ]
     },
     "execution_count": 25,
     "metadata": {},
     "output_type": "execute_result"
    },
    {
     "data": {
      "image/png": "[encoded data removed]",
      "text/plain": [
       "<Figure size 432x288 with 1 Axes>"
      ]
     },
     "metadata": {
      "needs_background": "light"
     },
     "output_type": "display_data"
    }
   ],
   "source": [
    "games[\"increment_code\"].hist()"
   ]
  },
  {
   "cell_type": "code",
   "execution_count": 26,
   "metadata": {},
   "outputs": [
    {
     "data": {
      "text/plain": [
       "([<matplotlib.patches.Wedge at 0x1ef082d57c8>,\n",
       "  <matplotlib.patches.Wedge at 0x1ef082d5ec8>,\n",
       "  <matplotlib.patches.Wedge at 0x1ef082d7848>,\n",
       "  <matplotlib.patches.Wedge at 0x1ef082db2c8>,\n",
       "  <matplotlib.patches.Wedge at 0x1ef082df208>,\n",
       "  <matplotlib.patches.Wedge at 0x1ef082dfdc8>,\n",
       "  <matplotlib.patches.Wedge at 0x1ef082e3348>,\n",
       "  <matplotlib.patches.Wedge at 0x1ef082e3448>,\n",
       "  <matplotlib.patches.Wedge at 0x1ef082db3c8>,\n",
       "  <matplotlib.patches.Wedge at 0x1ef082d0908>,\n",
       "  <matplotlib.patches.Wedge at 0x1ef08128808>,\n",
       "  <matplotlib.patches.Wedge at 0x1ef082f25c8>,\n",
       "  <matplotlib.patches.Wedge at 0x1ef082f26c8>,\n",
       "  <matplotlib.patches.Wedge at 0x1ef0830f148>,\n",
       "  <matplotlib.patches.Wedge at 0x1ef08320508>,\n",
       "  <matplotlib.patches.Wedge at 0x1ef08320608>,\n",
       "  <matplotlib.patches.Wedge at 0x1ef08322088>,\n",
       "  <matplotlib.patches.Wedge at 0x1ef08325448>,\n",
       "  <matplotlib.patches.Wedge at 0x1ef08325548>,\n",
       "  <matplotlib.patches.Wedge at 0x1ef0832c908>,\n",
       "  <matplotlib.patches.Wedge at 0x1ef08332388>,\n",
       "  <matplotlib.patches.Wedge at 0x1ef08332488>,\n",
       "  <matplotlib.patches.Wedge at 0x1ef08338848>,\n",
       "  <matplotlib.patches.Wedge at 0x1ef0833e2c8>,\n",
       "  <matplotlib.patches.Wedge at 0x1ef0833e3c8>,\n",
       "  <matplotlib.patches.Wedge at 0x1ef08343788>,\n",
       "  <matplotlib.patches.Wedge at 0x1ef0834a208>,\n",
       "  <matplotlib.patches.Wedge at 0x1ef0834a308>,\n",
       "  <matplotlib.patches.Wedge at 0x1ef083516c8>,\n",
       "  <matplotlib.patches.Wedge at 0x1ef08356148>,\n",
       "  <matplotlib.patches.Wedge at 0x1ef08356248>,\n",
       "  <matplotlib.patches.Wedge at 0x1ef0835d608>,\n",
       "  <matplotlib.patches.Wedge at 0x1ef0835d708>,\n",
       "  <matplotlib.patches.Wedge at 0x1ef08363188>,\n",
       "  <matplotlib.patches.Wedge at 0x1ef0836a548>,\n",
       "  <matplotlib.patches.Wedge at 0x1ef0836a648>,\n",
       "  <matplotlib.patches.Wedge at 0x1ef083710c8>,\n",
       "  <matplotlib.patches.Wedge at 0x1ef0834d488>,\n",
       "  <matplotlib.patches.Wedge at 0x1ef0834d588>,\n",
       "  <matplotlib.patches.Wedge at 0x1ef0837c948>,\n",
       "  <matplotlib.patches.Wedge at 0x1ef083823c8>,\n",
       "  <matplotlib.patches.Wedge at 0x1ef083824c8>,\n",
       "  <matplotlib.patches.Wedge at 0x1ef08388888>,\n",
       "  <matplotlib.patches.Wedge at 0x1ef0838f308>,\n",
       "  <matplotlib.patches.Wedge at 0x1ef0838f408>,\n",
       "  <matplotlib.patches.Wedge at 0x1ef083947c8>,\n",
       "  <matplotlib.patches.Wedge at 0x1ef0839a248>,\n",
       "  <matplotlib.patches.Wedge at 0x1ef0839a348>,\n",
       "  <matplotlib.patches.Wedge at 0x1ef083a1708>,\n",
       "  <matplotlib.patches.Wedge at 0x1ef083a6188>,\n",
       "  <matplotlib.patches.Wedge at 0x1ef083a6288>,\n",
       "  <matplotlib.patches.Wedge at 0x1ef083ae648>,\n",
       "  <matplotlib.patches.Wedge at 0x1ef083ae748>,\n",
       "  <matplotlib.patches.Wedge at 0x1ef083b21c8>,\n",
       "  <matplotlib.patches.Wedge at 0x1ef083ba588>,\n",
       "  <matplotlib.patches.Wedge at 0x1ef083ba688>,\n",
       "  <matplotlib.patches.Wedge at 0x1ef083c0108>,\n",
       "  <matplotlib.patches.Wedge at 0x1ef083c24c8>,\n",
       "  <matplotlib.patches.Wedge at 0x1ef083c25c8>,\n",
       "  <matplotlib.patches.Wedge at 0x1ef083cb048>,\n",
       "  <matplotlib.patches.Wedge at 0x1ef083a3408>,\n",
       "  <matplotlib.patches.Wedge at 0x1ef083a3508>,\n",
       "  <matplotlib.patches.Wedge at 0x1ef083d88c8>,\n",
       "  <matplotlib.patches.Wedge at 0x1ef083de348>,\n",
       "  <matplotlib.patches.Wedge at 0x1ef083de448>,\n",
       "  <matplotlib.patches.Wedge at 0x1ef083e4808>,\n",
       "  <matplotlib.patches.Wedge at 0x1ef083ea288>,\n",
       "  <matplotlib.patches.Wedge at 0x1ef083ea388>,\n",
       "  <matplotlib.patches.Wedge at 0x1ef083ef748>,\n",
       "  <matplotlib.patches.Wedge at 0x1ef083f51c8>,\n",
       "  <matplotlib.patches.Wedge at 0x1ef083f52c8>,\n",
       "  <matplotlib.patches.Wedge at 0x1ef083fb688>,\n",
       "  <matplotlib.patches.Wedge at 0x1ef08401108>,\n",
       "  <matplotlib.patches.Wedge at 0x1ef08401208>,\n",
       "  <matplotlib.patches.Wedge at 0x1ef084095c8>,\n",
       "  <matplotlib.patches.Wedge at 0x1ef084096c8>,\n",
       "  <matplotlib.patches.Wedge at 0x1ef08410148>,\n",
       "  <matplotlib.patches.Wedge at 0x1ef08414508>,\n",
       "  <matplotlib.patches.Wedge at 0x1ef08414608>,\n",
       "  <matplotlib.patches.Wedge at 0x1ef0841b088>,\n",
       "  <matplotlib.patches.Wedge at 0x1ef08420448>,\n",
       "  <matplotlib.patches.Wedge at 0x1ef08420548>,\n",
       "  <matplotlib.patches.Wedge at 0x1ef08425908>,\n",
       "  <matplotlib.patches.Wedge at 0x1ef0842c388>,\n",
       "  <matplotlib.patches.Wedge at 0x1ef0842c488>,\n",
       "  <matplotlib.patches.Wedge at 0x1ef08432848>,\n",
       "  <matplotlib.patches.Wedge at 0x1ef0843a2c8>,\n",
       "  <matplotlib.patches.Wedge at 0x1ef0843a3c8>,\n",
       "  <matplotlib.patches.Wedge at 0x1ef0843f788>,\n",
       "  <matplotlib.patches.Wedge at 0x1ef08444208>,\n",
       "  <matplotlib.patches.Wedge at 0x1ef08444308>,\n",
       "  <matplotlib.patches.Wedge at 0x1ef0844c6c8>,\n",
       "  <matplotlib.patches.Wedge at 0x1ef08451148>,\n",
       "  <matplotlib.patches.Wedge at 0x1ef08451248>,\n",
       "  <matplotlib.patches.Wedge at 0x1ef08458608>,\n",
       "  <matplotlib.patches.Wedge at 0x1ef08458708>,\n",
       "  <matplotlib.patches.Wedge at 0x1ef0845d188>,\n",
       "  <matplotlib.patches.Wedge at 0x1ef08464548>,\n",
       "  <matplotlib.patches.Wedge at 0x1ef08464648>,\n",
       "  <matplotlib.patches.Wedge at 0x1ef0846b0c8>,\n",
       "  <matplotlib.patches.Wedge at 0x1ef08470488>,\n",
       "  <matplotlib.patches.Wedge at 0x1ef08470588>,\n",
       "  <matplotlib.patches.Wedge at 0x1ef08476948>,\n",
       "  <matplotlib.patches.Wedge at 0x1ef0847c3c8>,\n",
       "  <matplotlib.patches.Wedge at 0x1ef0847c4c8>,\n",
       "  <matplotlib.patches.Wedge at 0x1ef08482888>,\n",
       "  <matplotlib.patches.Wedge at 0x1ef08488308>,\n",
       "  <matplotlib.patches.Wedge at 0x1ef08488408>,\n",
       "  <matplotlib.patches.Wedge at 0x1ef0848f7c8>,\n",
       "  <matplotlib.patches.Wedge at 0x1ef08494248>,\n",
       "  <matplotlib.patches.Wedge at 0x1ef08494348>,\n",
       "  <matplotlib.patches.Wedge at 0x1ef0849a708>,\n",
       "  <matplotlib.patches.Wedge at 0x1ef084a1188>,\n",
       "  <matplotlib.patches.Wedge at 0x1ef084a1288>,\n",
       "  <matplotlib.patches.Wedge at 0x1ef084a7648>,\n",
       "  <matplotlib.patches.Wedge at 0x1ef084a7748>,\n",
       "  <matplotlib.patches.Wedge at 0x1ef084ad1c8>,\n",
       "  <matplotlib.patches.Wedge at 0x1ef084b1588>,\n",
       "  <matplotlib.patches.Wedge at 0x1ef084b1688>,\n",
       "  <matplotlib.patches.Wedge at 0x1ef084bb108>,\n",
       "  <matplotlib.patches.Wedge at 0x1ef084c04c8>,\n",
       "  <matplotlib.patches.Wedge at 0x1ef084c05c8>,\n",
       "  <matplotlib.patches.Wedge at 0x1ef084c5048>,\n",
       "  <matplotlib.patches.Wedge at 0x1ef084cc408>,\n",
       "  <matplotlib.patches.Wedge at 0x1ef084cc508>,\n",
       "  <matplotlib.patches.Wedge at 0x1ef084d18c8>,\n",
       "  <matplotlib.patches.Wedge at 0x1ef084d9348>,\n",
       "  <matplotlib.patches.Wedge at 0x1ef084d9448>,\n",
       "  <matplotlib.patches.Wedge at 0x1ef084dd808>,\n",
       "  <matplotlib.patches.Wedge at 0x1ef084e4288>,\n",
       "  <matplotlib.patches.Wedge at 0x1ef084e4388>,\n",
       "  <matplotlib.patches.Wedge at 0x1ef084eb748>,\n",
       "  <matplotlib.patches.Wedge at 0x1ef084f01c8>,\n",
       "  <matplotlib.patches.Wedge at 0x1ef084f02c8>,\n",
       "  <matplotlib.patches.Wedge at 0x1ef084f7688>,\n",
       "  <matplotlib.patches.Wedge at 0x1ef084fc108>,\n",
       "  <matplotlib.patches.Wedge at 0x1ef084fc208>,\n",
       "  <matplotlib.patches.Wedge at 0x1ef085015c8>,\n",
       "  <matplotlib.patches.Wedge at 0x1ef085016c8>,\n",
       "  <matplotlib.patches.Wedge at 0x1ef0850a148>,\n",
       "  <matplotlib.patches.Wedge at 0x1ef0850f508>,\n",
       "  <matplotlib.patches.Wedge at 0x1ef0850f608>,\n",
       "  <matplotlib.patches.Wedge at 0x1ef08515088>,\n",
       "  <matplotlib.patches.Wedge at 0x1ef0851b448>,\n",
       "  <matplotlib.patches.Wedge at 0x1ef0851b548>,\n",
       "  <matplotlib.patches.Wedge at 0x1ef08521908>,\n",
       "  <matplotlib.patches.Wedge at 0x1ef08528388>,\n",
       "  <matplotlib.patches.Wedge at 0x1ef08528488>,\n",
       "  <matplotlib.patches.Wedge at 0x1ef0852d848>,\n",
       "  <matplotlib.patches.Wedge at 0x1ef085332c8>,\n",
       "  <matplotlib.patches.Wedge at 0x1ef085333c8>,\n",
       "  <matplotlib.patches.Wedge at 0x1ef08539788>,\n",
       "  <matplotlib.patches.Wedge at 0x1ef08540208>,\n",
       "  <matplotlib.patches.Wedge at 0x1ef08540308>,\n",
       "  <matplotlib.patches.Wedge at 0x1ef085476c8>,\n",
       "  <matplotlib.patches.Wedge at 0x1ef0854c148>,\n",
       "  <matplotlib.patches.Wedge at 0x1ef0854c248>,\n",
       "  <matplotlib.patches.Wedge at 0x1ef08552608>,\n",
       "  <matplotlib.patches.Wedge at 0x1ef08552708>,\n",
       "  <matplotlib.patches.Wedge at 0x1ef08559188>,\n",
       "  <matplotlib.patches.Wedge at 0x1ef0855e548>,\n",
       "  <matplotlib.patches.Wedge at 0x1ef0855e648>,\n",
       "  <matplotlib.patches.Wedge at 0x1ef085640c8>,\n",
       "  <matplotlib.patches.Wedge at 0x1ef08569488>,\n",
       "  <matplotlib.patches.Wedge at 0x1ef08569588>,\n",
       "  <matplotlib.patches.Wedge at 0x1ef08571948>,\n",
       "  <matplotlib.patches.Wedge at 0x1ef085783c8>,\n",
       "  <matplotlib.patches.Wedge at 0x1ef085784c8>,\n",
       "  <matplotlib.patches.Wedge at 0x1ef0857c888>,\n",
       "  <matplotlib.patches.Wedge at 0x1ef08583308>,\n",
       "  <matplotlib.patches.Wedge at 0x1ef08583408>,\n",
       "  <matplotlib.patches.Wedge at 0x1ef085897c8>,\n",
       "  <matplotlib.patches.Wedge at 0x1ef0858e248>,\n",
       "  <matplotlib.patches.Wedge at 0x1ef0858e348>,\n",
       "  <matplotlib.patches.Wedge at 0x1ef08595708>,\n",
       "  <matplotlib.patches.Wedge at 0x1ef0859a188>,\n",
       "  <matplotlib.patches.Wedge at 0x1ef0859a288>,\n",
       "  <matplotlib.patches.Wedge at 0x1ef085a2648>,\n",
       "  <matplotlib.patches.Wedge at 0x1ef085a2748>,\n",
       "  <matplotlib.patches.Wedge at 0x1ef085a91c8>,\n",
       "  <matplotlib.patches.Wedge at 0x1ef085af588>,\n",
       "  <matplotlib.patches.Wedge at 0x1ef085af688>,\n",
       "  <matplotlib.patches.Wedge at 0x1ef085b5108>,\n",
       "  <matplotlib.patches.Wedge at 0x1ef085b94c8>,\n",
       "  <matplotlib.patches.Wedge at 0x1ef085b95c8>,\n",
       "  <matplotlib.patches.Wedge at 0x1ef085c0048>,\n",
       "  <matplotlib.patches.Wedge at 0x1ef085c6408>,\n",
       "  <matplotlib.patches.Wedge at 0x1ef085c6508>,\n",
       "  <matplotlib.patches.Wedge at 0x1ef085cc8c8>,\n",
       "  <matplotlib.patches.Wedge at 0x1ef085d2348>,\n",
       "  <matplotlib.patches.Wedge at 0x1ef085d2448>,\n",
       "  <matplotlib.patches.Wedge at 0x1ef085d9808>,\n",
       "  <matplotlib.patches.Wedge at 0x1ef085df288>,\n",
       "  <matplotlib.patches.Wedge at 0x1ef085df388>,\n",
       "  <matplotlib.patches.Wedge at 0x1ef085e4748>,\n",
       "  <matplotlib.patches.Wedge at 0x1ef085ea1c8>,\n",
       "  <matplotlib.patches.Wedge at 0x1ef085ea2c8>,\n",
       "  <matplotlib.patches.Wedge at 0x1ef085ef688>,\n",
       "  <matplotlib.patches.Wedge at 0x1ef085f7108>,\n",
       "  <matplotlib.patches.Wedge at 0x1ef085f7208>,\n",
       "  <matplotlib.patches.Wedge at 0x1ef085fd5c8>,\n",
       "  <matplotlib.patches.Wedge at 0x1ef085fd6c8>,\n",
       "  <matplotlib.patches.Wedge at 0x1ef08605148>,\n",
       "  <matplotlib.patches.Wedge at 0x1ef08609508>,\n",
       "  <matplotlib.patches.Wedge at 0x1ef08609608>,\n",
       "  <matplotlib.patches.Wedge at 0x1ef08611088>,\n",
       "  <matplotlib.patches.Wedge at 0x1ef08617448>,\n",
       "  <matplotlib.patches.Wedge at 0x1ef08617548>,\n",
       "  <matplotlib.patches.Wedge at 0x1ef0861b908>,\n",
       "  <matplotlib.patches.Wedge at 0x1ef08622388>,\n",
       "  <matplotlib.patches.Wedge at 0x1ef08622488>,\n",
       "  <matplotlib.patches.Wedge at 0x1ef08628848>,\n",
       "  <matplotlib.patches.Wedge at 0x1ef0862f2c8>,\n",
       "  <matplotlib.patches.Wedge at 0x1ef0862f3c8>,\n",
       "  <matplotlib.patches.Wedge at 0x1ef08634788>,\n",
       "  <matplotlib.patches.Wedge at 0x1ef08639208>,\n",
       "  <matplotlib.patches.Wedge at 0x1ef08639308>,\n",
       "  <matplotlib.patches.Wedge at 0x1ef086406c8>,\n",
       "  <matplotlib.patches.Wedge at 0x1ef08647148>,\n",
       "  <matplotlib.patches.Wedge at 0x1ef08647248>,\n",
       "  <matplotlib.patches.Wedge at 0x1ef0864d608>,\n",
       "  <matplotlib.patches.Wedge at 0x1ef0864d708>,\n",
       "  <matplotlib.patches.Wedge at 0x1ef08652188>,\n",
       "  <matplotlib.patches.Wedge at 0x1ef08659548>,\n",
       "  <matplotlib.patches.Wedge at 0x1ef08659648>,\n",
       "  <matplotlib.patches.Wedge at 0x1ef086600c8>,\n",
       "  <matplotlib.patches.Wedge at 0x1ef08665488>,\n",
       "  <matplotlib.patches.Wedge at 0x1ef08665588>,\n",
       "  <matplotlib.patches.Wedge at 0x1ef0866a948>,\n",
       "  <matplotlib.patches.Wedge at 0x1ef086713c8>,\n",
       "  <matplotlib.patches.Wedge at 0x1ef086714c8>,\n",
       "  <matplotlib.patches.Wedge at 0x1ef08678888>,\n",
       "  <matplotlib.patches.Wedge at 0x1ef0867e308>,\n",
       "  <matplotlib.patches.Wedge at 0x1ef0867e408>,\n",
       "  <matplotlib.patches.Wedge at 0x1ef086857c8>,\n",
       "  <matplotlib.patches.Wedge at 0x1ef0868a248>,\n",
       "  <matplotlib.patches.Wedge at 0x1ef0868a348>,\n",
       "  <matplotlib.patches.Wedge at 0x1ef0868f708>,\n",
       "  <matplotlib.patches.Wedge at 0x1ef08697188>,\n",
       "  <matplotlib.patches.Wedge at 0x1ef08697288>,\n",
       "  <matplotlib.patches.Wedge at 0x1ef0869c648>,\n",
       "  <matplotlib.patches.Wedge at 0x1ef0869c748>,\n",
       "  <matplotlib.patches.Wedge at 0x1ef086a21c8>,\n",
       "  <matplotlib.patches.Wedge at 0x1ef086a8588>,\n",
       "  <matplotlib.patches.Wedge at 0x1ef086a8688>,\n",
       "  <matplotlib.patches.Wedge at 0x1ef086b0108>,\n",
       "  <matplotlib.patches.Wedge at 0x1ef086b64c8>,\n",
       "  <matplotlib.patches.Wedge at 0x1ef086b65c8>,\n",
       "  <matplotlib.patches.Wedge at 0x1ef086ba048>,\n",
       "  <matplotlib.patches.Wedge at 0x1ef086c1408>,\n",
       "  <matplotlib.patches.Wedge at 0x1ef086c1508>,\n",
       "  <matplotlib.patches.Wedge at 0x1ef086c68c8>,\n",
       "  <matplotlib.patches.Wedge at 0x1ef086cd348>,\n",
       "  <matplotlib.patches.Wedge at 0x1ef086cd448>,\n",
       "  <matplotlib.patches.Wedge at 0x1ef086d2808>,\n",
       "  <matplotlib.patches.Wedge at 0x1ef086d9288>,\n",
       "  <matplotlib.patches.Wedge at 0x1ef086d9388>,\n",
       "  <matplotlib.patches.Wedge at 0x1ef086e0748>,\n",
       "  <matplotlib.patches.Wedge at 0x1ef086e71c8>,\n",
       "  <matplotlib.patches.Wedge at 0x1ef086e72c8>,\n",
       "  <matplotlib.patches.Wedge at 0x1ef086ed688>,\n",
       "  <matplotlib.patches.Wedge at 0x1ef086f2108>,\n",
       "  <matplotlib.patches.Wedge at 0x1ef086f2208>,\n",
       "  <matplotlib.patches.Wedge at 0x1ef086f85c8>,\n",
       "  <matplotlib.patches.Wedge at 0x1ef086f86c8>,\n",
       "  <matplotlib.patches.Wedge at 0x1ef086ff148>,\n",
       "  <matplotlib.patches.Wedge at 0x1ef08706508>,\n",
       "  <matplotlib.patches.Wedge at 0x1ef08706608>,\n",
       "  <matplotlib.patches.Wedge at 0x1ef0870a088>,\n",
       "  <matplotlib.patches.Wedge at 0x1ef08711448>,\n",
       "  <matplotlib.patches.Wedge at 0x1ef08711548>,\n",
       "  <matplotlib.patches.Wedge at 0x1ef08717908>,\n",
       "  <matplotlib.patches.Wedge at 0x1ef0871d388>,\n",
       "  <matplotlib.patches.Wedge at 0x1ef0871d488>,\n",
       "  <matplotlib.patches.Wedge at 0x1ef08723848>,\n",
       "  <matplotlib.patches.Wedge at 0x1ef087282c8>,\n",
       "  <matplotlib.patches.Wedge at 0x1ef087283c8>,\n",
       "  <matplotlib.patches.Wedge at 0x1ef0872d788>,\n",
       "  <matplotlib.patches.Wedge at 0x1ef08734208>,\n",
       "  <matplotlib.patches.Wedge at 0x1ef08734308>,\n",
       "  <matplotlib.patches.Wedge at 0x1ef0873b6c8>,\n",
       "  <matplotlib.patches.Wedge at 0x1ef08742148>,\n",
       "  <matplotlib.patches.Wedge at 0x1ef08742248>,\n",
       "  <matplotlib.patches.Wedge at 0x1ef08747608>,\n",
       "  <matplotlib.patches.Wedge at 0x1ef08747708>,\n",
       "  <matplotlib.patches.Wedge at 0x1ef0874e188>,\n",
       "  <matplotlib.patches.Wedge at 0x1ef08754548>,\n",
       "  <matplotlib.patches.Wedge at 0x1ef08754648>,\n",
       "  <matplotlib.patches.Wedge at 0x1ef0875a0c8>,\n",
       "  <matplotlib.patches.Wedge at 0x1ef08761488>,\n",
       "  <matplotlib.patches.Wedge at 0x1ef08761588>,\n",
       "  <matplotlib.patches.Wedge at 0x1ef08765948>,\n",
       "  <matplotlib.patches.Wedge at 0x1ef0876d3c8>,\n",
       "  <matplotlib.patches.Wedge at 0x1ef0876d4c8>,\n",
       "  <matplotlib.patches.Wedge at 0x1ef08772888>,\n",
       "  <matplotlib.patches.Wedge at 0x1ef08779308>,\n",
       "  <matplotlib.patches.Wedge at 0x1ef08779408>,\n",
       "  <matplotlib.patches.Wedge at 0x1ef0877e7c8>,\n",
       "  <matplotlib.patches.Wedge at 0x1ef08784248>,\n",
       "  <matplotlib.patches.Wedge at 0x1ef08784348>,\n",
       "  <matplotlib.patches.Wedge at 0x1ef0878b708>,\n",
       "  <matplotlib.patches.Wedge at 0x1ef08790188>,\n",
       "  <matplotlib.patches.Wedge at 0x1ef08790288>,\n",
       "  <matplotlib.patches.Wedge at 0x1ef08797648>,\n",
       "  <matplotlib.patches.Wedge at 0x1ef08797748>,\n",
       "  <matplotlib.patches.Wedge at 0x1ef0879d1c8>,\n",
       "  <matplotlib.patches.Wedge at 0x1ef087a3588>,\n",
       "  <matplotlib.patches.Wedge at 0x1ef087a3688>,\n",
       "  <matplotlib.patches.Wedge at 0x1ef087aa108>,\n",
       "  <matplotlib.patches.Wedge at 0x1ef087af4c8>,\n",
       "  <matplotlib.patches.Wedge at 0x1ef087af5c8>,\n",
       "  <matplotlib.patches.Wedge at 0x1ef087b5048>,\n",
       "  <matplotlib.patches.Wedge at 0x1ef087bc408>,\n",
       "  <matplotlib.patches.Wedge at 0x1ef087bc508>,\n",
       "  <matplotlib.patches.Wedge at 0x1ef087c38c8>,\n",
       "  <matplotlib.patches.Wedge at 0x1ef087c8348>],\n",
       " [Text(0.3778587672074091, 1.0330647375864193, '10+0'),\n",
       "  Text(-0.9572363167837398, 0.5419396957506434, '15+0'),\n",
       "  Text(-1.0765317175702909, 0.22600765709408976, '15+15'),\n",
       "  Text(-1.0995634925578572, -0.030985897340033302, '5+5'),\n",
       "  Text(-1.0667466235710115, -0.2684243675597408, '5+8'),\n",
       "  Text(-0.9885134573032811, -0.482536158987401, '8+0'),\n",
       "  Text(-0.8736889795217326, -0.6683319288065427, '10+5'),\n",
       "  Text(-0.743379629693656, -0.8107938863586251, '15+10'),\n",
       "  Text(-0.6218782914815162, -0.9073408348487523, '10+10'),\n",
       "  Text(-0.5090457440650207, -0.9751268791543436, '20+0'),\n",
       "  Text(-0.393406687308785, -1.027244458919457, '30+0'),\n",
       "  Text(-0.27539516120853647, -1.0649683118210251, '7+2'),\n",
       "  Text(-0.16593526284711843, -1.087412290046355, '15+5'),\n",
       "  Text(-0.07354627319855145, -1.097538585061411, '30+30'),\n",
       "  Text(0.003873768930839658, -1.0999931790307933, '10+2'),\n",
       "  Text(0.0698648953519665, -1.097779074494253, '25+0'),\n",
       "  Text(0.12754616032409963, -1.092580421290158, '45+45'),\n",
       "  Text(0.1779602257231418, -1.0855091699569233, '10+3'),\n",
       "  Text(0.22366029742368035, -1.0770218527756765, '20+10'),\n",
       "  Text(0.26430797578175763, -1.0677739901019083, '10+15'),\n",
       "  Text(0.2981894790276423, -1.058812086537183, '5+10'),\n",
       "  Text(0.3296571311318183, -1.0494408872794787, '7+9'),\n",
       "  Text(0.3594366967868735, -1.039617843730542, '180+180'),\n",
       "  Text(0.3875434173543075, -1.029470786212676, '10+8'),\n",
       "  Text(0.4150225007232011, -1.0187032560532339, '20+5'),\n",
       "  Text(0.44186499379947586, -1.0073506476170992, '9+5'),\n",
       "  Text(0.4677295793131603, -0.9956048616974177, '0    10+0\\ndtype: object'),\n",
       "  Text(0.49229272964646975, -0.9836909414736054, '10+1'),\n",
       "  Text(0.5155752335926325, -0.9716903717264583, '20+15'),\n",
       "  Text(0.537921907449235, -0.9594998809203558, '30+10'),\n",
       "  Text(0.5593452959786369, -0.9471709665454128, '8+8'),\n",
       "  Text(0.5798593731813476, -0.9347529659400577, '8+5'),\n",
       "  Text(0.5997886549706319, -0.9220919527728894, '15+60'),\n",
       "  Text(0.618831717118015, -0.9094214127063258, '9+0'),\n",
       "  Text(0.6370058066525944, -0.896785148344283, '7+5'),\n",
       "  Text(0.6549219495262322, -0.8837857432821371, '12+0'),\n",
       "  Text(0.6722809206046996, -0.8706539862602698, '12+10'),\n",
       "  Text(0.688513842081847, -0.8578745183659984, '5+7'),\n",
       "  Text(0.7039370659321861, -0.845264814840169, '9+8'),\n",
       "  Text(0.7182915223231879, -0.8331010076567172, '180+0'),\n",
       "  Text(0.731609702701735, -0.8214299987903286, '15+1'),\n",
       "  Text(0.7444667224232699, -0.8097958379766804, '60+0'),\n",
       "  Text(0.7568710896008594, -0.7982143532450465, '15+2'),\n",
       "  Text(0.7688315017008385, -0.7867007830124703, '15+3'),\n",
       "  Text(0.7803568160690818, -0.7752697850519685, '15+8'),\n",
       "  Text(0.791712192852154, -0.7636699573043539, '7+3'),\n",
       "  Text(0.8026429329768082, -0.7521730666159133, '7+8'),\n",
       "  Text(0.8129098285843864, -0.7410651864653364, '8+2'),\n",
       "  Text(0.8225332833540319, -0.7303690832550597, '20+20'),\n",
       "  Text(0.831533167249534, -0.7201059587060495, '4+6'),\n",
       "  Text(0.8399287400851538, -0.710295510037172, '25+25'),\n",
       "  Text(0.8479736258233984, -0.7006716277315068, '8+10'),\n",
       "  Text(0.8559082474506433, -0.6909566353585214, '30+5'),\n",
       "  Text(0.8635030735890488, -0.6814414442211933, '45+0'),\n",
       "  Text(0.8705412700327165, -0.6724268712431302, '5+6'),\n",
       "  Text(0.8770402109202076, -0.663928059678937, '10+4'),\n",
       "  Text(0.8832363311858256, -0.6556627054159806, '5+60'),\n",
       "  Text(0.8893545602354658, -0.6473395292953934, '3+8'),\n",
       "  Text(0.895394358512179, -0.6389592653249216, '7+7'),\n",
       "  Text(0.9011436721145608, -0.6308249219933254, '7+15'),\n",
       "  Text(0.906610212910659, -0.622942952320748, '6+8'),\n",
       "  Text(0.9120078149806047, -0.6150136140072864, '6+5'),\n",
       "  Text(0.9173360678902283, -0.6070375100005722, '2+10'),\n",
       "  Text(0.9225945664786744, -0.5990152468043087, '0+16'),\n",
       "  Text(0.9277829108892155, -0.5909474344321448, '12+5'),\n",
       "  Text(0.9329007065996519, -0.5828346863612962, '8+3'),\n",
       "  Text(0.9377547709609986, -0.5749921647639082, '5+15'),\n",
       "  Text(0.9423526526062699, -0.5674253062086032, '11+0'),\n",
       "  Text(0.946889477693593, -0.5598216832466877, '25+15'),\n",
       "  Text(0.9513649522747057, -0.552181788529237, '10+25'),\n",
       "  Text(0.955778786376346, -0.5445061170574298, '6+6'),\n",
       "  Text(0.9599506046504923, -0.5371171535439494, '14+0'),\n",
       "  Text(0.9638875925408662, -0.5300195363812295, '25+17'),\n",
       "  Text(0.9677721034886537, -0.5228930633591794, '10+6'),\n",
       "  Text(0.9716039260093834, -0.5157381224644468, '25+5'),\n",
       "  Text(0.9752122324902263, -0.5088822079827797, '8+1'),\n",
       "  Text(0.9786037414232083, -0.5023292916728018, '8+4'),\n",
       "  Text(0.9819512188127696, -0.4957537734320501, '12+8'),\n",
       "  Text(0.9852545140416682, -0.48915594912105137, '20+8'),\n",
       "  Text(0.988513478480606, -0.48253611560397497, '30+8'),\n",
       "  Text(0.9917279654949162, -0.475894570735278, '25+10'),\n",
       "  Text(0.9948978304511588, -0.46923161334630625, '16+0'),\n",
       "  Text(0.9980229307236316, -0.462547543231843, '20+60'),\n",
       "  Text(1.000950184633761, -0.45617839479927175, '12+3'),\n",
       "  Text(1.0036858811660996, -0.4501273730266028, '9+10'),\n",
       "  Text(1.0062360084259265, -0.44439745200333813, '6+3'),\n",
       "  Text(1.0086062482829936, -0.4389913847953105, '5+30'),\n",
       "  Text(1.0109474439480715, -0.4335726762318646, '6+10'),\n",
       "  Text(1.0132595280032388, -0.4281414823521008, '8+7'),\n",
       "  Text(1.0155424338688828, -0.4226979595546516, '7+10'),\n",
       "  Text(1.0177960958056174, -0.41724226459317726, '7+4'),\n",
       "  Text(1.020020448916174, -0.4117745545718522, '13+40'),\n",
       "  Text(1.0222154291472725, -0.4062949869408407, '10+30'),\n",
       "  Text(1.024246490315302, -0.4011472635788337, '17+0'),\n",
       "  Text(1.026118760106313, -0.3963335592122914, '30+15'),\n",
       "  Text(1.0279684068247452, -0.39151111679005407, '13+0'),\n",
       "  Text(1.0297953896910184, -0.3866800426336014, '60+30'),\n",
       "  Text(1.0315996684252278, -0.3818404432547189, '0+180'),\n",
       "  Text(1.0333812032480316, -0.37699242535315036, '10+20'),\n",
       "  Text(1.0351399548815288, -0.3721360958142422, '13+3'),\n",
       "  Text(1.0368758845501236, -0.36727156170659186, '15+6'),\n",
       "  Text(1.0385889539813817, -0.36239893027968406, '20+1'),\n",
       "  Text(1.040279125406874, -0.3575183089615268, '15+30'),\n",
       "  Text(1.0418280346887685, -0.3529792432091985, '7+6'),\n",
       "  Text(1.0432402191544219, -0.3487833785297599, '25+3'),\n",
       "  Text(1.0446355052448606, -0.3445818642671361, '3+10'),\n",
       "  Text(1.0460138703592798, -0.34037476847733594, '25+6'),\n",
       "  Text(1.0473752921709605, -0.3361621593067775, '9+2'),\n",
       "  Text(1.048719748627632, -0.3319441049911816, '5+17'),\n",
       "  Text(1.0500472179518265, -0.3277206738544724, '5+21'),\n",
       "  Text(1.0513576786412338, -0.3234919343076675, '12+7'),\n",
       "  Text(1.0526511094690496, -0.3192579548477672, '120+10'),\n",
       "  Text(1.0539274894843182, -0.3150188040566505, '8+9'),\n",
       "  Text(1.0550825081420565, -0.3111284317009097, '11+5'),\n",
       "  Text(1.0561200638790935, -0.30758805352617263, '60+180'),\n",
       "  Text(1.0571457397496289, -0.30404421541810306, '9+3'),\n",
       "  Text(1.0581595242162514, -0.3004969572398972, '25+8'),\n",
       "  Text(1.0591614058753096, -0.29694631889322654, '20+30'),\n",
       "  Text(1.0601513734570436, -0.29339234031778066, '15+4'),\n",
       "  Text(1.0611294158257087, -0.28983506149082483, '6+4'),\n",
       "  Text(1.062095521979703, -0.2862745224267476, '4+7'),\n",
       "  Text(1.0630496810516903, -0.28271076317660776, '8+6'),\n",
       "  Text(1.0639918823087213, -0.2791438238276895, '20+3'),\n",
       "  Text(1.0649221151523565, -0.2755737445030486, '150+0'),\n",
       "  Text(1.0658403691187837, -0.2720005653610585, '10+9'),\n",
       "  Text(1.0666565472284557, -0.2687820869304156, '10+7'),\n",
       "  Text(1.067373880227245, -0.26591916028867696, '5+12'),\n",
       "  Text(1.0680835290906867, -0.2630543192673034, '11+3'),\n",
       "  Text(1.0687854887099453, -0.26018758449058177, '11+1'),\n",
       "  Text(1.0694797540315402, -0.25731897659643527, '10+60'),\n",
       "  Text(1.0701663200573834, -0.25444851623626785, '14+14'),\n",
       "  Text(1.0708451818448148, -0.25157622407482355, '90+0'),\n",
       "  Text(1.071516334506638, -0.24870212079002982, '15+9'),\n",
       "  Text(1.0721797732111553, -0.24582622707285642, '12+12'),\n",
       "  Text(1.0728354931822028, -0.24294856362715883, '16+20'),\n",
       "  Text(1.073483489699184, -0.24006915116953675, '6+7'),\n",
       "  Text(1.074123758097105, -0.2371880104291784, '12+2'),\n",
       "  Text(1.074756293766607, -0.23430516214771402, '40+0'),\n",
       "  Text(1.0753810921540001, -0.23142062707906955, '1+30'),\n",
       "  Text(1.0759981487612962, -0.22853442598931037, '12+4'),\n",
       "  Text(1.07660745914624, -0.22564657965649962, '20+2'),\n",
       "  Text(1.0772090189223438, -0.22275710887054087, '11+8'),\n",
       "  Text(1.0778028237589152, -0.21986603443303615, '18+18'),\n",
       "  Text(1.0783888693810924, -0.21697337715712847, '2+15'),\n",
       "  Text(1.0789671515698716, -0.2140791578673597, '15+16'),\n",
       "  Text(1.0795376661621396, -0.21118339739951397, '7+30'),\n",
       "  Text(1.0801004090507027, -0.20828611660047044, '40+8'),\n",
       "  Text(1.0806553761843163, -0.20538733632805625, '60+5'),\n",
       "  Text(1.0812025635677145, -0.2024870774508895, '15+7'),\n",
       "  Text(1.0817419672616382, -0.19958536084823683, '25+2'),\n",
       "  Text(1.0822075573819436, -0.19704517945234654, '17+17'),\n",
       "  Text(1.0826018871289902, -0.1948670161539645, '9+9'),\n",
       "  Text(1.0829918328830017, -0.19268806374219583, '9+4'),\n",
       "  Text(1.0833773930648942, -0.1905083310407026, '9+1'),\n",
       "  Text(1.0837585661133429, -0.18832782687630376, '25+20'),\n",
       "  Text(1.0841353504847888, -0.1861465600789453, '10+14'),\n",
       "  Text(1.0845077446534446, -0.18396453948166044, '45+1'),\n",
       "  Text(1.084875747111301, -0.18178177392053488, '40+40'),\n",
       "  Text(1.0852393563681337, -0.17959827223467112, '25+1'),\n",
       "  Text(1.0855985709515077, -0.1774140432661535, '9+15'),\n",
       "  Text(1.0859533894067848, -0.1752290958600087, '9+6'),\n",
       "  Text(1.086303810297129, -0.17304343886417545, '10+11'),\n",
       "  Text(1.0866498322035114, -0.17085708112946513, '30+6'),\n",
       "  Text(1.0869914537247178, -0.1686700315095267, '0+15'),\n",
       "  Text(1.0873286734773528, -0.1664822988608109, '2+40'),\n",
       "  Text(1.087661490095846, -0.16429389204253536, '30+1'),\n",
       "  Text(1.0879899022324575, -0.16210481991664494, '120+0'),\n",
       "  Text(1.0883139085572835, -0.1599150913477814, '5+20'),\n",
       "  Text(1.088633507758261, -0.15772471520324394, '12+1'),\n",
       "  Text(1.0889486985411745, -0.1555337003529541, '12+15'),\n",
       "  Text(1.0892594796296595, -0.15334205566941977, '25+4'),\n",
       "  Text(1.0895658497652092, -0.1511497900277004, '14+1'),\n",
       "  Text(1.0898678077071784, -0.14895691230536703, '45+30'),\n",
       "  Text(1.0901653522327897, -0.14676343138247233, '11+4'),\n",
       "  Text(1.0904584821371373, -0.14456935614151054, '19+30'),\n",
       "  Text(1.0907471962331923, -0.14237469546738268, '14+2'),\n",
       "  Text(1.0910314933518082, -0.14017945824736042, '5+25'),\n",
       "  Text(1.0913113723417245, -0.13798365337105023, '180+5'),\n",
       "  Text(1.0915412290556903, -0.1361533887627963, '60+1'),\n",
       "  Text(1.0917229043609356, -0.13468890115270762, '40+10'),\n",
       "  Text(1.0919026148086717, -0.1332241711326652, '16+8'),\n",
       "  Text(1.0920803600754603, -0.13175920133885596, '17+5'),\n",
       "  Text(1.0922561398413995, -0.1302939944078986, '8+11'),\n",
       "  Text(1.092429953790125, -0.12882855297683746, '10+45'),\n",
       "  Text(1.0926018016088102, -0.12736287968314194, '10+12'),\n",
       "  Text(1.0927716829881675, -0.1258969771646958, '4+20'),\n",
       "  Text(1.0929395976224487, -0.12443084805979633, '17+3'),\n",
       "  Text(1.0931055452094447, -0.12296449500714761, '4+10'),\n",
       "  Text(1.0932695254504867, -0.12149792064585974, '12+9'),\n",
       "  Text(1.0934315380504471, -0.1200311276154382, '1+18'),\n",
       "  Text(1.0935915827177394, -0.118564118555783, '35+10'),\n",
       "  Text(1.093749659164319, -0.11709689610718294, '19+0'),\n",
       "  Text(1.0939057671056833, -0.11562946291030991, '20+4'),\n",
       "  Text(1.0940599062608731, -0.11416182160621803, '7+12'),\n",
       "  Text(1.094212076352472, -0.112693974836333, '30+20'),\n",
       "  Text(1.0943622771066082, -0.11122592524245137, '2+12'),\n",
       "  Text(1.0945105082529538, -0.10975767546673366, '14+8'),\n",
       "  Text(1.0946567695247258, -0.10828922815170366, '4+180'),\n",
       "  Text(1.0948010606586862, -0.10682058594023774, '150+180'),\n",
       "  Text(1.0949433813951437, -0.10535175147556401, '14+10'),\n",
       "  Text(1.0950837314779525, -0.10388272740125663, '5+14'),\n",
       "  Text(1.095222110654514, -0.10241351636122996, '19+4'),\n",
       "  Text(1.0953585186757762, -0.10094412099973787, '30+16'),\n",
       "  Text(1.0954929552962351, -0.099474543961363, '45+15'),\n",
       "  Text(1.095625420273935, -0.09800478789101592, '10+40'),\n",
       "  Text(1.095755913370469, -0.09653485543392851, '3+12'),\n",
       "  Text(1.0958844343509777, -0.09506474923565296, '2+9'),\n",
       "  Text(1.096010982984153, -0.09359447194205128, '19+5'),\n",
       "  Text(1.0961355590422344, -0.09212402619929436, '3+15'),\n",
       "  Text(1.096258162301014, -0.09065341465385628, '14+6'),\n",
       "  Text(1.0963787925398327, -0.08918263995250854, '5+9'),\n",
       "  Text(1.0964974495415831, -0.0877117047423192, '18+0'),\n",
       "  Text(1.096614133092709, -0.0862406116706423, '0+25'),\n",
       "  Text(1.0967288429832063, -0.08476936338511697, '45+4'),\n",
       "  Text(1.0968415790066226, -0.08329796253366066, '29+30'),\n",
       "  Text(1.0969523409600581, -0.08182641176446843, '45+10'),\n",
       "  Text(1.0970611286441665, -0.08035471372600216, '25+9'),\n",
       "  Text(1.097167941863154, -0.07888287106698975, '11+11'),\n",
       "  Text(1.0972727804247802, -0.07741088643641943, '0+12'),\n",
       "  Text(1.0973756441403597, -0.07593876248353394, '9+7'),\n",
       "  Text(1.0974765328247607, -0.07446650185782973, '1+15'),\n",
       "  Text(1.0975754462964058, -0.07299410720904623, '8+15'),\n",
       "  Text(1.097672384377273, -0.07152158118716516, '15+20'),\n",
       "  Text(1.0977673468928957, -0.07004892644240363, '5+11'),\n",
       "  Text(1.0978603336723618, -0.06857614562521336, '180+8'),\n",
       "  Text(1.0979513445483164, -0.06710324138627008, '15+12'),\n",
       "  Text(1.098018305919934, -0.06599848380621054, '4+18'),\n",
       "  Text(1.0980623292797476, -0.06526194156424997, '20+7'),\n",
       "  Text(1.0981058585727408, -0.0645253699580547, '0+13'),\n",
       "  Text(1.0981488937793282, -0.06378876931904187, '12+20'),\n",
       "  Text(1.098191434880146, -0.06305213997863873, '15+11'),\n",
       "  Text(1.0982334818560537, -0.06231548226828838, '0+30'),\n",
       "  Text(1.0982750346881316, -0.0615787965194467, '20+13'),\n",
       "  Text(1.0983160933576839, -0.06084208306357925, '7+11'),\n",
       "  Text(1.0983566578462363, -0.060105342232167944, '14+4'),\n",
       "  Text(1.098396728135537, -0.05936857435670313, '35+35'),\n",
       "  Text(1.0984363042075567, -0.05863177976869025, '12+6'),\n",
       "  Text(1.0984753860444882, -0.05789495879964676, '1+25'),\n",
       "  Text(1.098513973628747, -0.05715811178109906, '30+12'),\n",
       "  Text(1.098552066942971, -0.056421239044589164, '13+20'),\n",
       "  Text(1.0985896659700198, -0.05568434092166677, '19+3'),\n",
       "  Text(1.0986267706929764, -0.05494741774389592, '13+5'),\n",
       "  Text(1.0986633810951458, -0.05421046984285193, '120+5'),\n",
       "  Text(1.098699497160055, -0.05347349755011832, '30+25'),\n",
       "  Text(1.098735118871454, -0.052736501197293464, '60+40'),\n",
       "  Text(1.0987702462133149, -0.051999481115982675, '16+4'),\n",
       "  Text(1.0988048791698326, -0.05126243763780488, '4+12'),\n",
       "  Text(1.098839017725424, -0.05052537109438951, '35+8'),\n",
       "  Text(1.0988726618647284, -0.04978828181737348, '3+20'),\n",
       "  Text(1.0989058115726085, -0.04905117013840681, '35+15'),\n",
       "  Text(1.0989384668341482, -0.04831403638914966, '180+150'),\n",
       "  Text(1.0989706276346547, -0.04757688090126915, '3+9'),\n",
       "  Text(1.099002293959657, -0.046839704006446096, '15+45'),\n",
       "  Text(1.099033465794908, -0.04610250603636704, '19+45'),\n",
       "  Text(1.099064143126381, -0.04536528732273094, '9+20'),\n",
       "  Text(1.0990943259402737, -0.04462804819724609, '40+2'),\n",
       "  Text(1.099124014223005, -0.043890788991627044, '25+12'),\n",
       "  Text(1.0991532079612172, -0.043153510037601275, '40+60'),\n",
       "  Text(1.0991819071417746, -0.04241621166690125, '20+120'),\n",
       "  Text(1.099210111751764, -0.041678894211271106, '1+19'),\n",
       "  Text(1.0992378217784953, -0.04094155800246355, '2+20'),\n",
       "  Text(1.0992650372095003, -0.04020420337223683, '90+30'),\n",
       "  Text(1.0992917580325334, -0.039466830652360375, '30+2'),\n",
       "  Text(1.099317984235572, -0.03872944017461177, '180+3'),\n",
       "  Text(1.0993437158068156, -0.03799203227077367, '21+0'),\n",
       "  Text(1.0993689527346866, -0.037254607272640454, '11+2'),\n",
       "  Text(1.0993936950078296, -0.0365171655120103, '60+7'),\n",
       "  Text(1.099417942615112, -0.03577970732069187, '180+45'),\n",
       "  Text(1.0994416955456239, -0.0350422330305012, '0+40'),\n",
       "  Text(1.0994649537886776, -0.034304742973258646, '15+14'),\n",
       "  Text(1.099487717333808, -0.033567237480795556, '20+6'),\n",
       "  Text(1.0995099861707736, -0.03282971688494634, '1+13'),\n",
       "  Text(1.0995317602895536, -0.03209218151755511, '150+60'),\n",
       "  Text(1.0995530396803517, -0.031354631710472626, '35+1'),\n",
       "  Text(1.0995738243335929, -0.030617067795553236, '6+9'),\n",
       "  Text(1.0995941142399253, -0.02987949010466152, '11+9'),\n",
       "  Text(1.0996139093902195, -0.02914189896966436, '6+20'),\n",
       "  Text(1.0996332097755692, -0.028404294722437617, '7+14'),\n",
       "  Text(1.09965201538729, -0.02766667769486305, '40+30'),\n",
       "  Text(1.0996703262169205, -0.026929048218825236, '40+15'),\n",
       "  Text(1.099688142256222, -0.02619140662621729, '3+35'),\n",
       "  Text(1.0997054634971777, -0.02545375324893777, '30+40'),\n",
       "  Text(1.0997222899319945, -0.024716088418887613, '4+9'),\n",
       "  Text(1.0997386215531015, -0.02397841246797681, '60+13'),\n",
       "  Text(1.0997544583531502, -0.02324072572811646, '17+8'),\n",
       "  Text(1.0997698003250147, -0.022503028531225433, '12+13'),\n",
       "  Text(1.0997846474617925, -0.021765321209227313, '16+15'),\n",
       "  Text(1.099798999756803, -0.02102760409404731, '3+30'),\n",
       "  Text(1.0998128572035881, -0.020289877517618935, '19+2'),\n",
       "  Text(1.0998262197959132, -0.01955214181187607, '180+120'),\n",
       "  Text(1.0998390875277657, -0.018814397308759608, '45+2'),\n",
       "  Text(1.0998514603933558, -0.018076644340214432, '35+2'),\n",
       "  Text(1.0998633383871166, -0.01733888323818628, '60+60'),\n",
       "  Text(1.0998747215037032, -0.01660111433462846, '19+18'),\n",
       "  Text(1.0998856097379943, -0.01586333796149389, '6+30'),\n",
       "  Text(1.0998960030850908, -0.015125554450741782, '45+5'),\n",
       "  Text(1.0999059015403159, -0.014387764134334546, '9+11'),\n",
       "  Text(1.099915305099216, -0.013649967344234735, '13+15'),\n",
       "  Text(1.0999242137575602, -0.012912164412410741, '5+40'),\n",
       "  Text(1.09993262751134, -0.01217435567083372, '0+20'),\n",
       "  Text(1.0999405463567697, -0.011436541451474512, '13+10'),\n",
       "  Text(1.0999479702902861, -0.01069872208631033, '15+25'),\n",
       "  Text(1.099954899308549, -0.009960897907316793, '19+19'),\n",
       "  Text(1.0999613334084406, -0.009223069246474619, '150+3'),\n",
       "  Text(1.0999672725870662, -0.008485236435766536, '14+9'),\n",
       "  Text(1.0999727168417532, -0.0077473998071742175, '60+15'),\n",
       "  Text(1.0999776661700522, -0.007009559692684959, '4+8'),\n",
       "  Text(1.0999821205697362, -0.006271716424283715, '14+15'),\n",
       "  Text(1.0999860800388008, -0.00553387033395979, '1+20'),\n",
       "  Text(1.0999895445754646, -0.004796021753703762, '7+18'),\n",
       "  Text(1.099992514178169, -0.004058171015504392, '30+3'),\n",
       "  Text(1.0999949888455773, -0.0033203184513553264, '40+9'),\n",
       "  Text(1.0999969685765765, -0.002582464393247122, '18+8'),\n",
       "  Text(1.0999984533702756, -0.0018446091731739384, '13+7'),\n",
       "  Text(1.0999994432260067, -0.0011067531231304594, '20+90'),\n",
       "  Text(1.099999938143324, -0.0003688965751088106, '16+3')])"
      ]
     },
     "execution_count": 26,
     "metadata": {},
     "output_type": "execute_result"
    },
    {
     "data": {
      "image/png": "[encoded data removed]",
      "text/plain": [
       "<Figure size 432x288 with 1 Axes>"
      ]
     },
     "metadata": {},
     "output_type": "display_data"
    }
   ],
   "source": [
    "data = dict(games[\"increment_code\"].value_counts())\n",
    "plt.pie(data.values(), labels = data.keys())"
   ]
  },
  {
   "cell_type": "code",
   "execution_count": 30,
   "metadata": {},
   "outputs": [
    {
     "data": {
      "text/plain": [
       "<BarContainer object of 316 artists>"
      ]
     },
     "execution_count": 30,
     "metadata": {},
     "output_type": "execute_result"
    },
    {
     "data": {
      "image/png": "[encoded data removed]",
      "text/plain": [
       "<Figure size 432x288 with 1 Axes>"
      ]
     },
     "metadata": {
      "needs_background": "light"
     },
     "output_type": "display_data"
    }
   ],
   "source": [
    "data = dict(games[\"increment_code\"].value_counts())\n",
    "plt.bar(height = data.values(), x = data.keys())"
   ]
  },
  {
   "cell_type": "code",
   "execution_count": 38,
   "metadata": {},
   "outputs": [
    {
     "data": {
      "text/plain": [
       "<matplotlib.axes._subplots.AxesSubplot at 0x1ef0d78eb08>"
      ]
     },
     "execution_count": 38,
     "metadata": {},
     "output_type": "execute_result"
    },
    {
     "data": {
      "image/png": "[encoded data removed]",
      "text/plain": [
       "<Figure size 432x288 with 1 Axes>"
      ]
     },
     "metadata": {
      "needs_background": "light"
     },
     "output_type": "display_data"
    }
   ],
   "source": [
    "games[\"white_rating\"].hist(bins = 100)"
   ]
  },
  {
   "cell_type": "code",
   "execution_count": 39,
   "metadata": {},
   "outputs": [
    {
     "data": {
      "text/plain": [
       "{'whiskers': [<matplotlib.lines.Line2D at 0x1ef0d938948>,\n",
       "  <matplotlib.lines.Line2D at 0x1ef0d938fc8>],\n",
       " 'caps': [<matplotlib.lines.Line2D at 0x1ef0d93d908>,\n",
       "  <matplotlib.lines.Line2D at 0x1ef0d93df48>],\n",
       " 'boxes': [<matplotlib.lines.Line2D at 0x1ef0d934e88>],\n",
       " 'medians': [<matplotlib.lines.Line2D at 0x1ef0d93dfc8>],\n",
       " 'fliers': [<matplotlib.lines.Line2D at 0x1ef0d940fc8>],\n",
       " 'means': []}"
      ]
     },
     "execution_count": 39,
     "metadata": {},
     "output_type": "execute_result"
    },
    {
     "data": {
      "image/png": "[encoded data removed]",
      "text/plain": [
       "<Figure size 432x288 with 1 Axes>"
      ]
     },
     "metadata": {
      "needs_background": "light"
     },
     "output_type": "display_data"
    }
   ],
   "source": [
    "plt.boxplot(games[\"white_rating\"])"
   ]
  },
  {
   "cell_type": "markdown",
   "metadata": {},
   "source": [
    "There are outliers in the white_rating. We will clean them later"
   ]
  },
  {
   "cell_type": "code",
   "execution_count": 40,
   "metadata": {},
   "outputs": [
    {
     "data": {
      "text/plain": [
       "<matplotlib.axes._subplots.AxesSubplot at 0x1ef0d970c88>"
      ]
     },
     "execution_count": 40,
     "metadata": {},
     "output_type": "execute_result"
    },
    {
     "data": {
      "image/png": "[encoded data removed]",
      "text/plain": [
       "<Figure size 432x288 with 1 Axes>"
      ]
     },
     "metadata": {
      "needs_background": "light"
     },
     "output_type": "display_data"
    }
   ],
   "source": [
    "games[\"black_rating\"].hist(bins = 100)"
   ]
  },
  {
   "cell_type": "code",
   "execution_count": 41,
   "metadata": {},
   "outputs": [
    {
     "data": {
      "text/plain": [
       "{'whiskers': [<matplotlib.lines.Line2D at 0x1ef0db2f748>,\n",
       "  <matplotlib.lines.Line2D at 0x1ef0db2ff08>],\n",
       " 'caps': [<matplotlib.lines.Line2D at 0x1ef0db2fe88>,\n",
       "  <matplotlib.lines.Line2D at 0x1ef0db34e88>],\n",
       " 'boxes': [<matplotlib.lines.Line2D at 0x1ef0db2bd08>],\n",
       " 'medians': [<matplotlib.lines.Line2D at 0x1ef0db34f88>],\n",
       " 'fliers': [<matplotlib.lines.Line2D at 0x1ef0db38e08>],\n",
       " 'means': []}"
      ]
     },
     "execution_count": 41,
     "metadata": {},
     "output_type": "execute_result"
    },
    {
     "data": {
      "image/png": "[encoded data removed]",
      "text/plain": [
       "<Figure size 432x288 with 1 Axes>"
      ]
     },
     "metadata": {
      "needs_background": "light"
     },
     "output_type": "display_data"
    }
   ],
   "source": [
    "plt.boxplot(games[\"black_rating\"])"
   ]
  },
  {
   "cell_type": "markdown",
   "metadata": {},
   "source": [
    "There are outliers in the black_rating. We will clean them later"
   ]
  },
  {
   "cell_type": "code",
   "execution_count": 42,
   "metadata": {},
   "outputs": [
    {
     "data": {
      "text/plain": [
       "<matplotlib.axes._subplots.AxesSubplot at 0x1ef0db56a48>"
      ]
     },
     "execution_count": 42,
     "metadata": {},
     "output_type": "execute_result"
    },
    {
     "data": {
      "image/png": "[encoded data removed]",
      "text/plain": [
       "<Figure size 432x288 with 1 Axes>"
      ]
     },
     "metadata": {
      "needs_background": "light"
     },
     "output_type": "display_data"
    }
   ],
   "source": [
    "games[\"opening_eco\"].hist()"
   ]
  },
  {
   "cell_type": "code",
   "execution_count": 46,
   "metadata": {},
   "outputs": [
    {
     "data": {
      "text/plain": [
       "<BarContainer object of 334 artists>"
      ]
     },
     "execution_count": 46,
     "metadata": {},
     "output_type": "execute_result"
    },
    {
     "data": {
      "image/png": "[encoded data removed]",
      "text/plain": [
       "<Figure size 432x288 with 1 Axes>"
      ]
     },
     "metadata": {
      "needs_background": "light"
     },
     "output_type": "display_data"
    }
   ],
   "source": [
    "data = dict(games[\"opening_eco\"].value_counts())\n",
    "plt.bar(height = data.values(), x = data.keys())"
   ]
  },
  {
   "cell_type": "code",
   "execution_count": 47,
   "metadata": {},
   "outputs": [
    {
     "data": {
      "text/plain": [
       "([<matplotlib.patches.Wedge at 0x1ef10c2c308>,\n",
       "  <matplotlib.patches.Wedge at 0x1ef10c2cb08>,\n",
       "  <matplotlib.patches.Wedge at 0x1ef0df60308>,\n",
       "  <matplotlib.patches.Wedge at 0x1ef0df60408>,\n",
       "  <matplotlib.patches.Wedge at 0x1ef0df80c88>,\n",
       "  <matplotlib.patches.Wedge at 0x1ef0df9f888>,\n",
       "  <matplotlib.patches.Wedge at 0x1ef0df9f3c8>,\n",
       "  <matplotlib.patches.Wedge at 0x1ef0e7d7848>,\n",
       "  <matplotlib.patches.Wedge at 0x1ef0df807c8>,\n",
       "  <matplotlib.patches.Wedge at 0x1ef0e7c5c88>,\n",
       "  <matplotlib.patches.Wedge at 0x1ef10bd0508>,\n",
       "  <matplotlib.patches.Wedge at 0x1ef0e7d0748>,\n",
       "  <matplotlib.patches.Wedge at 0x1ef0e7e8188>,\n",
       "  <matplotlib.patches.Wedge at 0x1ef0e818548>,\n",
       "  <matplotlib.patches.Wedge at 0x1ef0e818648>,\n",
       "  <matplotlib.patches.Wedge at 0x1ef0e7e20c8>,\n",
       "  <matplotlib.patches.Wedge at 0x1ef0e805488>,\n",
       "  <matplotlib.patches.Wedge at 0x1ef0e805588>,\n",
       "  <matplotlib.patches.Wedge at 0x1ef1084c948>,\n",
       "  <matplotlib.patches.Wedge at 0x1ef108493c8>,\n",
       "  <matplotlib.patches.Wedge at 0x1ef108494c8>,\n",
       "  <matplotlib.patches.Wedge at 0x1ef1083e888>,\n",
       "  <matplotlib.patches.Wedge at 0x1ef10b27308>,\n",
       "  <matplotlib.patches.Wedge at 0x1ef10b27408>,\n",
       "  <matplotlib.patches.Wedge at 0x1ef10b2b7c8>,\n",
       "  <matplotlib.patches.Wedge at 0x1ef10c5e248>,\n",
       "  <matplotlib.patches.Wedge at 0x1ef10c5e348>,\n",
       "  <matplotlib.patches.Wedge at 0x1ef10c64708>,\n",
       "  <matplotlib.patches.Wedge at 0x1ef10c6b188>,\n",
       "  <matplotlib.patches.Wedge at 0x1ef10c6b288>,\n",
       "  <matplotlib.patches.Wedge at 0x1ef10c73648>,\n",
       "  <matplotlib.patches.Wedge at 0x1ef10c73748>,\n",
       "  <matplotlib.patches.Wedge at 0x1ef10c7a1c8>,\n",
       "  <matplotlib.patches.Wedge at 0x1ef10c81588>,\n",
       "  <matplotlib.patches.Wedge at 0x1ef10c81688>,\n",
       "  <matplotlib.patches.Wedge at 0x1ef10c86108>,\n",
       "  <matplotlib.patches.Wedge at 0x1ef10c8d4c8>,\n",
       "  <matplotlib.patches.Wedge at 0x1ef10c8d5c8>,\n",
       "  <matplotlib.patches.Wedge at 0x1ef10c93048>,\n",
       "  <matplotlib.patches.Wedge at 0x1ef10c9a408>,\n",
       "  <matplotlib.patches.Wedge at 0x1ef10c9a508>,\n",
       "  <matplotlib.patches.Wedge at 0x1ef10c9f8c8>,\n",
       "  <matplotlib.patches.Wedge at 0x1ef10ca5348>,\n",
       "  <matplotlib.patches.Wedge at 0x1ef10ca5448>,\n",
       "  <matplotlib.patches.Wedge at 0x1ef10cac808>,\n",
       "  <matplotlib.patches.Wedge at 0x1ef10cb2288>,\n",
       "  <matplotlib.patches.Wedge at 0x1ef10cb2388>,\n",
       "  <matplotlib.patches.Wedge at 0x1ef10cb9748>,\n",
       "  <matplotlib.patches.Wedge at 0x1ef10cbd1c8>,\n",
       "  <matplotlib.patches.Wedge at 0x1ef10cbd2c8>,\n",
       "  <matplotlib.patches.Wedge at 0x1ef10cc3688>,\n",
       "  <matplotlib.patches.Wedge at 0x1ef10cca108>,\n",
       "  <matplotlib.patches.Wedge at 0x1ef10cca208>,\n",
       "  <matplotlib.patches.Wedge at 0x1ef10cd05c8>,\n",
       "  <matplotlib.patches.Wedge at 0x1ef10cd06c8>,\n",
       "  <matplotlib.patches.Wedge at 0x1ef10cd5148>,\n",
       "  <matplotlib.patches.Wedge at 0x1ef10cdc508>,\n",
       "  <matplotlib.patches.Wedge at 0x1ef10cdc608>,\n",
       "  <matplotlib.patches.Wedge at 0x1ef10ce2088>,\n",
       "  <matplotlib.patches.Wedge at 0x1ef10ce9448>,\n",
       "  <matplotlib.patches.Wedge at 0x1ef10ce9548>,\n",
       "  <matplotlib.patches.Wedge at 0x1ef10cef908>,\n",
       "  <matplotlib.patches.Wedge at 0x1ef10cf4388>,\n",
       "  <matplotlib.patches.Wedge at 0x1ef10cf4488>,\n",
       "  <matplotlib.patches.Wedge at 0x1ef10cfb848>,\n",
       "  <matplotlib.patches.Wedge at 0x1ef10d002c8>,\n",
       "  <matplotlib.patches.Wedge at 0x1ef10d003c8>,\n",
       "  <matplotlib.patches.Wedge at 0x1ef10d07788>,\n",
       "  <matplotlib.patches.Wedge at 0x1ef10d0c208>,\n",
       "  <matplotlib.patches.Wedge at 0x1ef10d0c308>,\n",
       "  <matplotlib.patches.Wedge at 0x1ef10d126c8>,\n",
       "  <matplotlib.patches.Wedge at 0x1ef10d1a148>,\n",
       "  <matplotlib.patches.Wedge at 0x1ef10d1a248>,\n",
       "  <matplotlib.patches.Wedge at 0x1ef10d1f608>,\n",
       "  <matplotlib.patches.Wedge at 0x1ef10d1f708>,\n",
       "  <matplotlib.patches.Wedge at 0x1ef10d25188>,\n",
       "  <matplotlib.patches.Wedge at 0x1ef10d2a548>,\n",
       "  <matplotlib.patches.Wedge at 0x1ef10d2a648>,\n",
       "  <matplotlib.patches.Wedge at 0x1ef10d300c8>,\n",
       "  <matplotlib.patches.Wedge at 0x1ef10d39488>,\n",
       "  <matplotlib.patches.Wedge at 0x1ef10d39588>,\n",
       "  <matplotlib.patches.Wedge at 0x1ef10d3e948>,\n",
       "  <matplotlib.patches.Wedge at 0x1ef10d443c8>,\n",
       "  <matplotlib.patches.Wedge at 0x1ef10d444c8>,\n",
       "  <matplotlib.patches.Wedge at 0x1ef10d4a888>,\n",
       "  <matplotlib.patches.Wedge at 0x1ef10d51308>,\n",
       "  <matplotlib.patches.Wedge at 0x1ef10d51408>,\n",
       "  <matplotlib.patches.Wedge at 0x1ef10d577c8>,\n",
       "  <matplotlib.patches.Wedge at 0x1ef10d5b248>,\n",
       "  <matplotlib.patches.Wedge at 0x1ef10d5b348>,\n",
       "  <matplotlib.patches.Wedge at 0x1ef10d63708>,\n",
       "  <matplotlib.patches.Wedge at 0x1ef10d69188>,\n",
       "  <matplotlib.patches.Wedge at 0x1ef10d69288>,\n",
       "  <matplotlib.patches.Wedge at 0x1ef10d6f648>,\n",
       "  <matplotlib.patches.Wedge at 0x1ef10d6f748>,\n",
       "  <matplotlib.patches.Wedge at 0x1ef10d741c8>,\n",
       "  <matplotlib.patches.Wedge at 0x1ef10d7a588>,\n",
       "  <matplotlib.patches.Wedge at 0x1ef10d7a688>,\n",
       "  <matplotlib.patches.Wedge at 0x1ef10d81108>,\n",
       "  <matplotlib.patches.Wedge at 0x1ef10d874c8>,\n",
       "  <matplotlib.patches.Wedge at 0x1ef10d875c8>,\n",
       "  <matplotlib.patches.Wedge at 0x1ef10d8c048>,\n",
       "  <matplotlib.patches.Wedge at 0x1ef10d93408>,\n",
       "  <matplotlib.patches.Wedge at 0x1ef10d93508>,\n",
       "  <matplotlib.patches.Wedge at 0x1ef10d9a8c8>,\n",
       "  <matplotlib.patches.Wedge at 0x1ef10d9f348>,\n",
       "  <matplotlib.patches.Wedge at 0x1ef10d9f448>,\n",
       "  <matplotlib.patches.Wedge at 0x1ef10da7808>,\n",
       "  <matplotlib.patches.Wedge at 0x1ef10dab288>,\n",
       "  <matplotlib.patches.Wedge at 0x1ef10dab388>,\n",
       "  <matplotlib.patches.Wedge at 0x1ef10db1748>,\n",
       "  <matplotlib.patches.Wedge at 0x1ef10db91c8>,\n",
       "  <matplotlib.patches.Wedge at 0x1ef10db92c8>,\n",
       "  <matplotlib.patches.Wedge at 0x1ef10dbf688>,\n",
       "  <matplotlib.patches.Wedge at 0x1ef10dc5108>,\n",
       "  <matplotlib.patches.Wedge at 0x1ef10dc5208>,\n",
       "  <matplotlib.patches.Wedge at 0x1ef10dca5c8>,\n",
       "  <matplotlib.patches.Wedge at 0x1ef10dca6c8>,\n",
       "  <matplotlib.patches.Wedge at 0x1ef10dd1148>,\n",
       "  <matplotlib.patches.Wedge at 0x1ef10dd7508>,\n",
       "  <matplotlib.patches.Wedge at 0x1ef10dd7608>,\n",
       "  <matplotlib.patches.Wedge at 0x1ef10ddc088>,\n",
       "  <matplotlib.patches.Wedge at 0x1ef10de2448>,\n",
       "  <matplotlib.patches.Wedge at 0x1ef10de2548>,\n",
       "  <matplotlib.patches.Wedge at 0x1ef10de9908>,\n",
       "  <matplotlib.patches.Wedge at 0x1ef10df0388>,\n",
       "  <matplotlib.patches.Wedge at 0x1ef10df0488>,\n",
       "  <matplotlib.patches.Wedge at 0x1ef10df6848>,\n",
       "  <matplotlib.patches.Wedge at 0x1ef10dfb2c8>,\n",
       "  <matplotlib.patches.Wedge at 0x1ef10dfb3c8>,\n",
       "  <matplotlib.patches.Wedge at 0x1ef10e01788>,\n",
       "  <matplotlib.patches.Wedge at 0x1ef10e07208>,\n",
       "  <matplotlib.patches.Wedge at 0x1ef10e07308>,\n",
       "  <matplotlib.patches.Wedge at 0x1ef10e0d6c8>,\n",
       "  <matplotlib.patches.Wedge at 0x1ef10e12148>,\n",
       "  <matplotlib.patches.Wedge at 0x1ef10e12248>,\n",
       "  <matplotlib.patches.Wedge at 0x1ef10e1a608>,\n",
       "  <matplotlib.patches.Wedge at 0x1ef10e1a708>,\n",
       "  <matplotlib.patches.Wedge at 0x1ef10e21188>,\n",
       "  <matplotlib.patches.Wedge at 0x1ef10e28548>,\n",
       "  <matplotlib.patches.Wedge at 0x1ef10e28648>,\n",
       "  <matplotlib.patches.Wedge at 0x1ef10e2d0c8>,\n",
       "  <matplotlib.patches.Wedge at 0x1ef10e32488>,\n",
       "  <matplotlib.patches.Wedge at 0x1ef10e32588>,\n",
       "  <matplotlib.patches.Wedge at 0x1ef10e38948>,\n",
       "  <matplotlib.patches.Wedge at 0x1ef10e3e3c8>,\n",
       "  <matplotlib.patches.Wedge at 0x1ef10e3e4c8>,\n",
       "  <matplotlib.patches.Wedge at 0x1ef10e46888>,\n",
       "  <matplotlib.patches.Wedge at 0x1ef10e4a308>,\n",
       "  <matplotlib.patches.Wedge at 0x1ef10e4a408>,\n",
       "  <matplotlib.patches.Wedge at 0x1ef10e517c8>,\n",
       "  <matplotlib.patches.Wedge at 0x1ef10e58248>,\n",
       "  <matplotlib.patches.Wedge at 0x1ef10e58348>,\n",
       "  <matplotlib.patches.Wedge at 0x1ef10e5d708>,\n",
       "  <matplotlib.patches.Wedge at 0x1ef10e63188>,\n",
       "  <matplotlib.patches.Wedge at 0x1ef10e63288>,\n",
       "  <matplotlib.patches.Wedge at 0x1ef10e68648>,\n",
       "  <matplotlib.patches.Wedge at 0x1ef10e68748>,\n",
       "  <matplotlib.patches.Wedge at 0x1ef10e6f1c8>,\n",
       "  <matplotlib.patches.Wedge at 0x1ef10e76588>,\n",
       "  <matplotlib.patches.Wedge at 0x1ef10e76688>,\n",
       "  <matplotlib.patches.Wedge at 0x1ef10e7a108>,\n",
       "  <matplotlib.patches.Wedge at 0x1ef10e814c8>,\n",
       "  <matplotlib.patches.Wedge at 0x1ef10e815c8>,\n",
       "  <matplotlib.patches.Wedge at 0x1ef10e88048>,\n",
       "  <matplotlib.patches.Wedge at 0x1ef10e8f408>,\n",
       "  <matplotlib.patches.Wedge at 0x1ef10e8f508>,\n",
       "  <matplotlib.patches.Wedge at 0x1ef10e958c8>,\n",
       "  <matplotlib.patches.Wedge at 0x1ef10e9a348>,\n",
       "  <matplotlib.patches.Wedge at 0x1ef10e9a448>,\n",
       "  <matplotlib.patches.Wedge at 0x1ef10ea1808>,\n",
       "  <matplotlib.patches.Wedge at 0x1ef10ea7288>,\n",
       "  <matplotlib.patches.Wedge at 0x1ef10ea7388>,\n",
       "  <matplotlib.patches.Wedge at 0x1ef10ead748>,\n",
       "  <matplotlib.patches.Wedge at 0x1ef10eb21c8>,\n",
       "  <matplotlib.patches.Wedge at 0x1ef10eb22c8>,\n",
       "  <matplotlib.patches.Wedge at 0x1ef10eb9688>,\n",
       "  <matplotlib.patches.Wedge at 0x1ef10ebf108>,\n",
       "  <matplotlib.patches.Wedge at 0x1ef10ebf208>,\n",
       "  <matplotlib.patches.Wedge at 0x1ef10ec65c8>,\n",
       "  <matplotlib.patches.Wedge at 0x1ef10ec66c8>,\n",
       "  <matplotlib.patches.Wedge at 0x1ef10eca148>,\n",
       "  <matplotlib.patches.Wedge at 0x1ef10ed1508>,\n",
       "  <matplotlib.patches.Wedge at 0x1ef10ed1608>,\n",
       "  <matplotlib.patches.Wedge at 0x1ef10ed7088>,\n",
       "  <matplotlib.patches.Wedge at 0x1ef10edd448>,\n",
       "  <matplotlib.patches.Wedge at 0x1ef10edd548>,\n",
       "  <matplotlib.patches.Wedge at 0x1ef10ee4908>,\n",
       "  <matplotlib.patches.Wedge at 0x1ef10ee9388>,\n",
       "  <matplotlib.patches.Wedge at 0x1ef10ee9488>,\n",
       "  <matplotlib.patches.Wedge at 0x1ef10ef0848>,\n",
       "  <matplotlib.patches.Wedge at 0x1ef10ef62c8>,\n",
       "  <matplotlib.patches.Wedge at 0x1ef10ef63c8>,\n",
       "  <matplotlib.patches.Wedge at 0x1ef10efd788>,\n",
       "  <matplotlib.patches.Wedge at 0x1ef10f03208>,\n",
       "  <matplotlib.patches.Wedge at 0x1ef10f03308>,\n",
       "  <matplotlib.patches.Wedge at 0x1ef10f086c8>,\n",
       "  <matplotlib.patches.Wedge at 0x1ef10f0f148>,\n",
       "  <matplotlib.patches.Wedge at 0x1ef10f0f248>,\n",
       "  <matplotlib.patches.Wedge at 0x1ef10f14608>,\n",
       "  <matplotlib.patches.Wedge at 0x1ef10f14708>,\n",
       "  <matplotlib.patches.Wedge at 0x1ef10f1a188>,\n",
       "  <matplotlib.patches.Wedge at 0x1ef10f21548>,\n",
       "  <matplotlib.patches.Wedge at 0x1ef10f21648>,\n",
       "  <matplotlib.patches.Wedge at 0x1ef10f260c8>,\n",
       "  <matplotlib.patches.Wedge at 0x1ef10f2e488>,\n",
       "  <matplotlib.patches.Wedge at 0x1ef10f2e588>,\n",
       "  <matplotlib.patches.Wedge at 0x1ef10f33948>,\n",
       "  <matplotlib.patches.Wedge at 0x1ef10f393c8>,\n",
       "  <matplotlib.patches.Wedge at 0x1ef10f394c8>,\n",
       "  <matplotlib.patches.Wedge at 0x1ef10f3f888>,\n",
       "  <matplotlib.patches.Wedge at 0x1ef10f45308>,\n",
       "  <matplotlib.patches.Wedge at 0x1ef10f45408>,\n",
       "  <matplotlib.patches.Wedge at 0x1ef10f4b7c8>,\n",
       "  <matplotlib.patches.Wedge at 0x1ef10f51248>,\n",
       "  <matplotlib.patches.Wedge at 0x1ef10f51348>,\n",
       "  <matplotlib.patches.Wedge at 0x1ef10f58708>,\n",
       "  <matplotlib.patches.Wedge at 0x1ef10f5e188>,\n",
       "  <matplotlib.patches.Wedge at 0x1ef10f5e288>,\n",
       "  <matplotlib.patches.Wedge at 0x1ef10f64648>,\n",
       "  <matplotlib.patches.Wedge at 0x1ef10f64748>,\n",
       "  <matplotlib.patches.Wedge at 0x1ef10f6a1c8>,\n",
       "  <matplotlib.patches.Wedge at 0x1ef10f71588>,\n",
       "  <matplotlib.patches.Wedge at 0x1ef10f71688>,\n",
       "  <matplotlib.patches.Wedge at 0x1ef10f76108>,\n",
       "  <matplotlib.patches.Wedge at 0x1ef10f7d4c8>,\n",
       "  <matplotlib.patches.Wedge at 0x1ef10f7d5c8>,\n",
       "  <matplotlib.patches.Wedge at 0x1ef10f81048>,\n",
       "  <matplotlib.patches.Wedge at 0x1ef10f89408>,\n",
       "  <matplotlib.patches.Wedge at 0x1ef10f89508>,\n",
       "  <matplotlib.patches.Wedge at 0x1ef10f908c8>,\n",
       "  <matplotlib.patches.Wedge at 0x1ef10f95348>,\n",
       "  <matplotlib.patches.Wedge at 0x1ef10f95448>,\n",
       "  <matplotlib.patches.Wedge at 0x1ef10f9c808>,\n",
       "  <matplotlib.patches.Wedge at 0x1ef10fa1288>,\n",
       "  <matplotlib.patches.Wedge at 0x1ef10fa1388>,\n",
       "  <matplotlib.patches.Wedge at 0x1ef10fa7748>,\n",
       "  <matplotlib.patches.Wedge at 0x1ef10fad1c8>,\n",
       "  <matplotlib.patches.Wedge at 0x1ef10fad2c8>,\n",
       "  <matplotlib.patches.Wedge at 0x1ef10fb3688>,\n",
       "  <matplotlib.patches.Wedge at 0x1ef10fba108>,\n",
       "  <matplotlib.patches.Wedge at 0x1ef10fba208>,\n",
       "  <matplotlib.patches.Wedge at 0x1ef10fc05c8>,\n",
       "  <matplotlib.patches.Wedge at 0x1ef10fc06c8>,\n",
       "  <matplotlib.patches.Wedge at 0x1ef10fc6148>,\n",
       "  <matplotlib.patches.Wedge at 0x1ef10fcc508>,\n",
       "  <matplotlib.patches.Wedge at 0x1ef10fcc608>,\n",
       "  <matplotlib.patches.Wedge at 0x1ef10fd1088>,\n",
       "  <matplotlib.patches.Wedge at 0x1ef10fd9448>,\n",
       "  <matplotlib.patches.Wedge at 0x1ef10fd9548>,\n",
       "  <matplotlib.patches.Wedge at 0x1ef10fdf908>,\n",
       "  <matplotlib.patches.Wedge at 0x1ef10fe5388>,\n",
       "  <matplotlib.patches.Wedge at 0x1ef10fe5488>,\n",
       "  <matplotlib.patches.Wedge at 0x1ef10feb848>,\n",
       "  <matplotlib.patches.Wedge at 0x1ef10ff22c8>,\n",
       "  <matplotlib.patches.Wedge at 0x1ef10ff23c8>,\n",
       "  <matplotlib.patches.Wedge at 0x1ef10ff7788>,\n",
       "  <matplotlib.patches.Wedge at 0x1ef10ffd208>,\n",
       "  <matplotlib.patches.Wedge at 0x1ef10ffd308>,\n",
       "  <matplotlib.patches.Wedge at 0x1ef110046c8>,\n",
       "  <matplotlib.patches.Wedge at 0x1ef11008148>,\n",
       "  <matplotlib.patches.Wedge at 0x1ef11008248>,\n",
       "  <matplotlib.patches.Wedge at 0x1ef11010608>,\n",
       "  <matplotlib.patches.Wedge at 0x1ef11010708>,\n",
       "  <matplotlib.patches.Wedge at 0x1ef11015188>,\n",
       "  <matplotlib.patches.Wedge at 0x1ef1101c548>,\n",
       "  <matplotlib.patches.Wedge at 0x1ef1101c648>,\n",
       "  <matplotlib.patches.Wedge at 0x1ef110220c8>,\n",
       "  <matplotlib.patches.Wedge at 0x1ef11027488>,\n",
       "  <matplotlib.patches.Wedge at 0x1ef11027588>,\n",
       "  <matplotlib.patches.Wedge at 0x1ef1102e948>,\n",
       "  <matplotlib.patches.Wedge at 0x1ef110343c8>,\n",
       "  <matplotlib.patches.Wedge at 0x1ef110344c8>,\n",
       "  <matplotlib.patches.Wedge at 0x1ef1103b888>,\n",
       "  <matplotlib.patches.Wedge at 0x1ef11040308>,\n",
       "  <matplotlib.patches.Wedge at 0x1ef11040408>,\n",
       "  <matplotlib.patches.Wedge at 0x1ef110467c8>,\n",
       "  <matplotlib.patches.Wedge at 0x1ef1104d248>,\n",
       "  <matplotlib.patches.Wedge at 0x1ef1104d348>,\n",
       "  <matplotlib.patches.Wedge at 0x1ef11052708>,\n",
       "  <matplotlib.patches.Wedge at 0x1ef11059188>,\n",
       "  <matplotlib.patches.Wedge at 0x1ef11059288>,\n",
       "  <matplotlib.patches.Wedge at 0x1ef11060648>,\n",
       "  <matplotlib.patches.Wedge at 0x1ef11060748>,\n",
       "  <matplotlib.patches.Wedge at 0x1ef110661c8>,\n",
       "  <matplotlib.patches.Wedge at 0x1ef1106c588>,\n",
       "  <matplotlib.patches.Wedge at 0x1ef1106c688>,\n",
       "  <matplotlib.patches.Wedge at 0x1ef11070108>,\n",
       "  <matplotlib.patches.Wedge at 0x1ef110774c8>,\n",
       "  <matplotlib.patches.Wedge at 0x1ef110775c8>,\n",
       "  <matplotlib.patches.Wedge at 0x1ef1107d048>,\n",
       "  <matplotlib.patches.Wedge at 0x1ef11083408>,\n",
       "  <matplotlib.patches.Wedge at 0x1ef11083508>,\n",
       "  <matplotlib.patches.Wedge at 0x1ef1108b8c8>,\n",
       "  <matplotlib.patches.Wedge at 0x1ef11091348>,\n",
       "  <matplotlib.patches.Wedge at 0x1ef11091448>,\n",
       "  <matplotlib.patches.Wedge at 0x1ef11096808>,\n",
       "  <matplotlib.patches.Wedge at 0x1ef1109c288>,\n",
       "  <matplotlib.patches.Wedge at 0x1ef1109c388>,\n",
       "  <matplotlib.patches.Wedge at 0x1ef110a2748>,\n",
       "  <matplotlib.patches.Wedge at 0x1ef110a71c8>,\n",
       "  <matplotlib.patches.Wedge at 0x1ef110a72c8>,\n",
       "  <matplotlib.patches.Wedge at 0x1ef110ae688>,\n",
       "  <matplotlib.patches.Wedge at 0x1ef110b4108>,\n",
       "  <matplotlib.patches.Wedge at 0x1ef110b4208>,\n",
       "  <matplotlib.patches.Wedge at 0x1ef110bc5c8>,\n",
       "  <matplotlib.patches.Wedge at 0x1ef110bc6c8>,\n",
       "  <matplotlib.patches.Wedge at 0x1ef110c1148>,\n",
       "  <matplotlib.patches.Wedge at 0x1ef110c7508>,\n",
       "  <matplotlib.patches.Wedge at 0x1ef110c7608>,\n",
       "  <matplotlib.patches.Wedge at 0x1ef110ce088>,\n",
       "  <matplotlib.patches.Wedge at 0x1ef110d3448>,\n",
       "  <matplotlib.patches.Wedge at 0x1ef110d3548>,\n",
       "  <matplotlib.patches.Wedge at 0x1ef110da908>,\n",
       "  <matplotlib.patches.Wedge at 0x1ef110de388>,\n",
       "  <matplotlib.patches.Wedge at 0x1ef110de488>,\n",
       "  <matplotlib.patches.Wedge at 0x1ef110e6848>,\n",
       "  <matplotlib.patches.Wedge at 0x1ef110ec2c8>,\n",
       "  <matplotlib.patches.Wedge at 0x1ef110ec3c8>,\n",
       "  <matplotlib.patches.Wedge at 0x1ef110f2788>,\n",
       "  <matplotlib.patches.Wedge at 0x1ef110f8208>,\n",
       "  <matplotlib.patches.Wedge at 0x1ef110f8308>,\n",
       "  <matplotlib.patches.Wedge at 0x1ef110fd6c8>,\n",
       "  <matplotlib.patches.Wedge at 0x1ef11104148>,\n",
       "  <matplotlib.patches.Wedge at 0x1ef11104248>,\n",
       "  <matplotlib.patches.Wedge at 0x1ef1110a608>,\n",
       "  <matplotlib.patches.Wedge at 0x1ef1110a708>,\n",
       "  <matplotlib.patches.Wedge at 0x1ef1110f188>,\n",
       "  <matplotlib.patches.Wedge at 0x1ef11116548>,\n",
       "  <matplotlib.patches.Wedge at 0x1ef11116648>,\n",
       "  <matplotlib.patches.Wedge at 0x1ef1111b0c8>,\n",
       "  <matplotlib.patches.Wedge at 0x1ef11123488>,\n",
       "  <matplotlib.patches.Wedge at 0x1ef11123588>,\n",
       "  <matplotlib.patches.Wedge at 0x1ef1112a948>],\n",
       " [Text(1.0852114435170557, 0.17976685695541514, 'A00'),\n",
       "  Text(0.9891541941270541, 0.48122134225412183, 'C00'),\n",
       "  Text(0.8486438493019651, 0.6998597124009522, 'C41'),\n",
       "  Text(0.6737035276513238, 0.8695536537961083, 'D00'),\n",
       "  Text(0.4763908311829773, 0.9914896751680232, 'A40'),\n",
       "  Text(0.27656126081186194, 1.064666083341699, 'B01'),\n",
       "  Text(0.07671982002667369, 1.0973213153926586, 'C20'),\n",
       "  Text(-0.12425085333302892, 1.0929600749551716, 'C50'),\n",
       "  Text(-0.3143411292948795, 1.054129809100198, 'B20'),\n",
       "  Text(-0.48968858057872644, 0.9849898954054261, 'B00'),\n",
       "  Text(-0.6353468896564438, 0.8979612072934346, 'C40'),\n",
       "  Text(-0.7495258781584689, 0.8051154935602569, 'D02'),\n",
       "  Text(-0.8429659399446867, 0.7066883500477216, 'C44'),\n",
       "  Text(-0.9162706982015713, 0.6086444016149375, 'C42'),\n",
       "  Text(-0.9736177432496396, 0.5119262544834746, 'C45'),\n",
       "  Text(-1.0188500652306556, 0.4146619642304912, 'B07'),\n",
       "  Text(-1.0540769218636452, 0.31451842997583257, 'C55'),\n",
       "  Text(-1.0788412420339146, 0.21471277206240075, 'A04'),\n",
       "  Text(-1.0937516024695118, 0.11707874314056904, 'C02'),\n",
       "  Text(-1.0997977920391755, 0.02109067627541935, 'A45'),\n",
       "  Text(-1.0979840769313767, -0.06656550762334089, 'B21'),\n",
       "  Text(-1.0903034604115454, -0.14573388149160854, 'C46'),\n",
       "  Text(-1.0772975425581428, -0.22232859644721023, 'D20'),\n",
       "  Text(-1.05921769731188, -0.2967454628150507, 'B50'),\n",
       "  Text(-1.0365004835843146, -0.3683296723446027, 'B10'),\n",
       "  Text(-1.0099807134890153, -0.43581986918934706, 'B30'),\n",
       "  Text(-0.9797457395739939, -0.5000982761284104, 'B12'),\n",
       "  Text(-0.9473112559952852, -0.5591076678642812, 'B06'),\n",
       "  Text(-0.913600262145418, -0.6126455427144014, 'C21'),\n",
       "  Text(-0.878651212106182, -0.6617945659072287, 'D06'),\n",
       "  Text(-0.8439160845453716, -0.705553429759653, 'B02'),\n",
       "  Text(-0.8090126511641434, -0.745317737784607, 'A01'),\n",
       "  Text(-0.7732908603596806, -0.7823178671640991, 'C01'),\n",
       "  Text(-0.7372528131040569, -0.816368966564846, 'B32'),\n",
       "  Text(-0.7014286627189669, -0.8473475267658966, 'D30'),\n",
       "  Text(-0.6648939589219051, -0.8763081783192236, 'B40'),\n",
       "  Text(-0.6274688795669706, -0.9034837049858568, 'C62'),\n",
       "  Text(-0.5898718004047373, -0.9284671556319448, 'C23'),\n",
       "  Text(-0.552241690911565, -0.9513301818081541, 'C57'),\n",
       "  Text(-0.5140539147376312, -0.9724960528161111, 'C24'),\n",
       "  Text(-0.476390828282041, -0.9914896765618648, 'B23'),\n",
       "  Text(-0.4393845507846554, -1.008435033371891, 'C68'),\n",
       "  Text(-0.40212115811660903, -1.0238645292200317, 'D10'),\n",
       "  Text(-0.3653644505433418, -1.0375494293185081, 'B13'),\n",
       "  Text(-0.32884953565369235, -1.0496942330509162, 'B90'),\n",
       "  Text(-0.29193216457398957, -1.0605543886511175, 'C60'),\n",
       "  Text(-0.25501748547240344, -1.0700308790419708, 'A10'),\n",
       "  Text(-0.2185220489755779, -1.0780761170304791, 'B22'),\n",
       "  Text(-0.1828691324722087, -1.0846929890014325, 'C65'),\n",
       "  Text(-0.14921747707129537, -1.089832163471274, 'C22'),\n",
       "  Text(-0.11689477355277912, -1.0937712795260464, 'C30'),\n",
       "  Text(-0.08483857708437502, -1.0967234910579324, 'A06'),\n",
       "  Text(-0.053079326398762214, -1.0987186105227553, 'C53'),\n",
       "  Text(-0.021645618600251257, -1.099787009923018, 'D31'),\n",
       "  Text(0.009065743338757624, -1.0999626413191113, 'C26'),\n",
       "  Text(0.03903044406890364, -1.0993073384799104, 'A02'),\n",
       "  Text(0.06822753955705069, -1.0978820532488867, 'A20'),\n",
       "  Text(0.09663926707564195, -1.095746709809837, 'A46'),\n",
       "  Text(0.12461851429367421, -1.0929182155565151, 'E20'),\n",
       "  Text(0.1521498434807895, -1.0894266497239598, 'A03'),\n",
       "  Text(0.17885414876189437, -1.0853622406692884, 'D01'),\n",
       "  Text(0.20508706887966427, -1.0807124012327922, 'C70'),\n",
       "  Text(0.2311996847355916, -1.075428614915078, 'D35'),\n",
       "  Text(0.256457062780604, -1.069686764875562, 'B27'),\n",
       "  Text(0.28085676853430885, -1.0635410079392642, 'B54'),\n",
       "  Text(0.3047539871955834, -1.0569413452450398, 'C48'),\n",
       "  Text(0.32708350910558903, -1.0502458655339588, 'A43'),\n",
       "  Text(0.3482132934606127, -1.0434306408464884, 'A15'),\n",
       "  Text(0.3692012269218646, -1.0361903560829884, 'A41'),\n",
       "  Text(0.38969274661836517, -1.0286591093423685, 'A80'),\n",
       "  Text(0.4096873768195133, -1.0208605454589508, 'A13'),\n",
       "  Text(0.42952605398971794, -1.0126733772268441, 'C64'),\n",
       "  Text(0.44920122626868353, -1.0041007212021666, 'C34'),\n",
       "  Text(0.4683706153518854, -0.9953034545679506, 'E61'),\n",
       "  Text(0.48703604732968925, -0.9863041562324844, 'C54'),\n",
       "  Text(0.5051999762247252, -0.9771248559025286, 'A21'),\n",
       "  Text(0.5228654439256458, -0.9677870259248351, 'B33'),\n",
       "  Text(0.5397136390670775, -0.9584931861025267, 'B08'),\n",
       "  Text(0.5554387868485514, -0.9494670895108527, 'D07'),\n",
       "  Text(0.5703803497194196, -0.9405669867978318, 'C77'),\n",
       "  Text(0.5848659731792177, -0.9316285705242872, 'D11'),\n",
       "  Text(0.5992115533468572, -0.922467080353357, 'D15'),\n",
       "  Text(0.6134136552434425, -0.9130847099589825, 'B25'),\n",
       "  Text(0.6268608819826653, -0.9039056558291442, 'B56'),\n",
       "  Text(0.6395688038171782, -0.8949590745860193, 'E00'),\n",
       "  Text(0.6521490589477451, -0.8858338472386177, 'A49'),\n",
       "  Text(0.6643042375958209, -0.8767553135922446, 'A22'),\n",
       "  Text(0.6757492459958123, -0.8679648360020649, 'C10'),\n",
       "  Text(0.6867889362929024, -0.8592560485592544, 'C47'),\n",
       "  Text(0.6977164031546711, -0.8504068560218154, 'B57'),\n",
       "  Text(0.708529860999252, -0.8414187043751647, 'A85'),\n",
       "  Text(0.718947522888314, -0.8325349598261669, 'B18'),\n",
       "  Text(0.7286995857867306, -0.8240126902385955, 'D43'),\n",
       "  Text(0.7380763053605248, -0.8156245260322654, 'B11'),\n",
       "  Text(0.7473564746909765, -0.8071296672390849, 'A84'),\n",
       "  Text(0.7562702156996588, -0.7987836758757604, 'A30'),\n",
       "  Text(0.7648248507235025, -0.790596577095912, 'C27'),\n",
       "  Text(0.7730276490108317, -0.7825779538581359, 'A07'),\n",
       "  Text(0.7808858091201475, -0.7747369573699017, 'A28'),\n",
       "  Text(0.7886644402651602, -0.7668170581444061, 'C11'),\n",
       "  Text(0.796362750234676, -0.7588190627802278, 'B52'),\n",
       "  Text(0.8039799549977747, -0.7507437858296107, 'A08'),\n",
       "  Text(0.811265428827064, -0.7428649971495763, 'C78'),\n",
       "  Text(0.8182264280373651, -0.7351908000384763, 'C67'),\n",
       "  Text(0.8251148358142546, -0.7274513782509563, 'D45'),\n",
       "  Text(0.8319300410317919, -0.7196474184132403, 'C61'),\n",
       "  Text(0.8384319524457813, -0.7120616975501177, 'B15'),\n",
       "  Text(0.844627687769479, -0.7047014041799431, 'B03'),\n",
       "  Text(0.8507588118290393, -0.6972872034500859, 'C66'),\n",
       "  Text(0.8568248556134638, -0.6898196625227258, 'E76'),\n",
       "  Text(0.862825355090181, -0.6822993526403958, 'B34'),\n",
       "  Text(0.8687598512405462, -0.6747268490822816, 'B53'),\n",
       "  Text(0.8746278900949535, -0.6671027311202152, 'B09'),\n",
       "  Text(0.8804290227675644, -0.6594275819743604, 'D21'),\n",
       "  Text(0.8859435260080766, -0.6520000527027408, 'C58'),\n",
       "  Text(0.8911785044402936, -0.6448262349063985, 'A48'),\n",
       "  Text(0.896355395223484, -0.6376103868772466, 'A50'),\n",
       "  Text(0.9014738609242227, -0.6303529789493941, 'B70'),\n",
       "  Text(0.906533567917273, -0.6230544841658546, 'D04'),\n",
       "  Text(0.9115341864073341, -0.6157153782477094, 'A34'),\n",
       "  Text(0.9162706975337734, -0.6086444026202594, 'E15'),\n",
       "  Text(0.9207499527288454, -0.6018467616842589, 'C07'),\n",
       "  Text(0.9251787784875124, -0.5950161576262906, 'A42'),\n",
       "  Text(0.929556932243173, -0.5881529645582526, 'E10'),\n",
       "  Text(0.9338841742045286, -0.5812575583769436, 'D05'),\n",
       "  Text(0.9381602673687188, -0.5743303167434698, 'D37'),\n",
       "  Text(0.9421940631921107, -0.5676886006302583, 'C28'),\n",
       "  Text(0.9459920622976321, -0.561336813392702, 'C25'),\n",
       "  Text(0.9497472415819471, -0.5549596175466128, 'D55'),\n",
       "  Text(0.953459431068888, -0.5485573017523263, 'D94'),\n",
       "  Text(0.9571284627281967, -0.5421301558072186, 'D53'),\n",
       "  Text(0.9607541704831315, -0.5356784706325894, 'A16'),\n",
       "  Text(0.9643363902179837, -0.5292025382604935, 'E12'),\n",
       "  Text(0.967874959785506, -0.5227026518205217, 'D32'),\n",
       "  Text(0.9713697190142528, -0.516179105526533, 'A52'),\n",
       "  Text(0.9748205097158301, -0.5096321946633371, 'B28'),\n",
       "  Text(0.978227175692055, -0.5030622155733281, 'D08'),\n",
       "  Text(0.9815895627420271, -0.4964694656430709, 'A57'),\n",
       "  Text(0.9849075186691072, -0.4898542432898406, 'D12'),\n",
       "  Text(0.9881808932878077, -0.4832168479481141, 'E60'),\n",
       "  Text(0.9912491707104802, -0.47689105838313367, 'B29'),\n",
       "  Text(0.9941186088800643, -0.4708802305027956, 'B72'),\n",
       "  Text(0.9969515984489998, -0.4648521381579141, 'A25'),\n",
       "  Text(0.999748035547885, -0.458807002363897, 'C15'),\n",
       "  Text(1.0025078176474855, -0.45274504476103966, 'A11'),\n",
       "  Text(1.0052308435624961, -0.44666648760639377, 'C43'),\n",
       "  Text(1.0079170134552478, -0.44057155376562157, 'C51'),\n",
       "  Text(1.0105662288393702, -0.4344604667048242, 'B43'),\n",
       "  Text(1.0131783925834017, -0.42833345048234833, 'E90'),\n",
       "  Text(1.0157534089143512, -0.4221907297405701, 'C03'),\n",
       "  Text(1.0182911834212078, -0.4160325296976626, 'C37'),\n",
       "  Text(1.0207916230584049, -0.40985907613933326, 'C88'),\n",
       "  Text(1.0232546361492303, -0.40367059541054867, 'B45'),\n",
       "  Text(1.025680132389187, -0.3974673144072351, 'E77'),\n",
       "  Text(1.0279363503583312, -0.391595275267711, 'A05'),\n",
       "  Text(1.0300291417946368, -0.3860569479413683, 'C31'),\n",
       "  Text(1.0320920940140506, -0.3805074368178533, 'E11'),\n",
       "  Text(1.0341251472543025, -0.3749469026625866, 'B94'),\n",
       "  Text(1.0361282426192768, -0.36937550656031504, 'D50'),\n",
       "  Text(1.0381013220807147, -0.36379340991044956, 'C33'),\n",
       "  Text(1.039923772720676, -0.35855061976016184, 'B35'),\n",
       "  Text(1.0416008387265079, -0.35364910966130764, 'C05'),\n",
       "  Text(1.0432548024116997, -0.3487397557562451, 'A53'),\n",
       "  Text(1.0448856270919502, -0.3438226669326237, 'E32'),\n",
       "  Text(1.0464932765961719, -0.3388979522496534, 'A51'),\n",
       "  Text(1.0480777152672942, -0.33396572093568017, 'B36'),\n",
       "  Text(1.0496389079630555, -0.32902608238576597, 'C69'),\n",
       "  Text(1.051176820056779, -0.3240791461592652, 'D85'),\n",
       "  Text(1.052691417438145, -0.3191250219773895, 'B80'),\n",
       "  Text(1.054076923704104, -0.3145184238077203, 'B51'),\n",
       "  Text(1.0553379610039195, -0.3102608387536039, 'B46'),\n",
       "  Text(1.0565818013138748, -0.3059981979233341, 'B31'),\n",
       "  Text(1.0578084243652883, -0.30173057077768256, 'B41'),\n",
       "  Text(1.0590178101700378, -0.297458026858678, 'B19'),\n",
       "  Text(1.0602099390208863, -0.2931806357884652, 'C59'),\n",
       "  Text(1.0613847914918026, -0.2888984672681785, 'C36'),\n",
       "  Text(1.0625423484382792, -0.28461159107679807, 'A35'),\n",
       "  Text(1.0636825909976426, -0.2803200770700203, 'D25'),\n",
       "  Text(1.0648055005893617, -0.2760239951791125, 'A70'),\n",
       "  Text(1.0659110589153507, -0.27172341540978034, 'B77'),\n",
       "  Text(1.0669992479602661, -0.2674184078410206, 'A09'),\n",
       "  Text(1.0680700499918026, -0.2631090426239824, 'B92'),\n",
       "  Text(1.0691234475609783, -0.2587953899808264, 'B24'),\n",
       "  Text(1.0701594235024237, -0.25447752020357417, 'D03'),\n",
       "  Text(1.0711779609346566, -0.25015550365297046, 'E24'),\n",
       "  Text(1.0721790432603617, -0.24582941075732867, 'E81'),\n",
       "  Text(1.073081354310036, -0.2418603047879903, 'C06'),\n",
       "  Text(1.0738888871182959, -0.23824915136014257, 'A38'),\n",
       "  Text(1.0746842676416521, -0.2346353018697867, 'E94'),\n",
       "  Text(1.0754674868794611, -0.23101879721177793, 'B44'),\n",
       "  Text(1.0762385359686986, -0.22739967831101407, 'E34'),\n",
       "  Text(1.076997406184059, -0.22377798612197985, 'B84'),\n",
       "  Text(1.077744088938056, -0.2201537616282759, 'E70'),\n",
       "  Text(1.0784785757811168, -0.2165270458421626, 'C52'),\n",
       "  Text(1.0792008584016806, -0.2128978798040883, 'B78'),\n",
       "  Text(1.0799109286262902, -0.2092663045822327, 'B48'),\n",
       "  Text(1.0806087784196867, -0.2056323612720342, 'E14'),\n",
       "  Text(1.081294399884899, -0.2019960909957328, 'A44'),\n",
       "  Text(1.0819677852633336, -0.19835753490189684, 'B38'),\n",
       "  Text(1.0825633639452636, -0.19508091409339545, 'E17'),\n",
       "  Text(1.083084437076829, -0.1921668602073944, 'B42'),\n",
       "  Text(1.0835976661463593, -0.18925141458431266, 'E80'),\n",
       "  Text(1.0841030474368765, -0.1863345983387887, 'D17'),\n",
       "  Text(1.0846005772882392, -0.1834164325953875, 'E67'),\n",
       "  Text(1.0850902520971692, -0.1804969384884466, 'A58'),\n",
       "  Text(1.085572068317276, -0.1775761371619269, 'D51'),\n",
       "  Text(1.0860460224590849, -0.17465404976925375, 'E92'),\n",
       "  Text(1.0865121110900604, -0.1717306974731675, 'C89'),\n",
       "  Text(1.0869703308346315, -0.16880610144556943, 'C17'),\n",
       "  Text(1.0874206783742169, -0.1658802828673683, 'B17'),\n",
       "  Text(1.087863150447248, -0.1629532629283271, 'A36'),\n",
       "  Text(1.0882977438491932, -0.16002506282690931, 'A17'),\n",
       "  Text(1.0887244554325806, -0.15709570377012572, 'E21'),\n",
       "  Text(1.0891432821070217, -0.1541652069733795, 'D41'),\n",
       "  Text(1.0895542208392321, -0.1512335936603168, 'D80'),\n",
       "  Text(1.0899572686530559, -0.14830088506266698, 'D52'),\n",
       "  Text(1.0903524226294847, -0.14536710242009274, 'D44'),\n",
       "  Text(1.0907396799066806, -0.14243226698003547, 'C14'),\n",
       "  Text(1.0910720500537097, -0.1398634390811102, 'A18'),\n",
       "  Text(1.0913521235888952, -0.13766096882562207, 'D90'),\n",
       "  Text(1.0916277511571937, -0.1354579377647854, 'D14'),\n",
       "  Text(1.091898931635749, -0.1332543548733398, 'D26'),\n",
       "  Text(1.0921656639198225, -0.1310502291282757, 'D60'),\n",
       "  Text(1.0924279469227958, -0.12884556950879414, 'B05'),\n",
       "  Text(1.0926857795761764, -0.12664038499627195, 'D87'),\n",
       "  Text(1.0929391608296017, -0.12443468457422141, 'C08'),\n",
       "  Text(1.0931880896508437, -0.12222847722825946, 'D57'),\n",
       "  Text(1.0934325650258119, -0.12002177194606811, 'B76'),\n",
       "  Text(1.093672585958559, -0.11781457771735497, 'E97'),\n",
       "  Text(1.093908151471284, -0.11560690353382247, 'E73'),\n",
       "  Text(1.0941392606043367, -0.11339875838912726, 'B87'),\n",
       "  Text(1.0943659124162208, -0.11119015127884561, 'B96'),\n",
       "  Text(1.0945881059835993, -0.10898109120043285, 'B04'),\n",
       "  Text(1.0948058404012961, -0.10677158715319249, 'E91'),\n",
       "  Text(1.0950191147823019, -0.10456164813823575, 'C80'),\n",
       "  Text(1.0952279282577757, -0.10235128315844676, 'D91'),\n",
       "  Text(1.0954322799770506, -0.1001405012184421, 'A81'),\n",
       "  Text(1.0956321691076352, -0.09792931132453983, 'E88'),\n",
       "  Text(1.0957953338746382, -0.09608634793023671, 'A12'),\n",
       "  Text(1.0959236336777085, -0.09461178122542734, 'C91'),\n",
       "  Text(1.0960499492179259, -0.09313704321794947, 'B95'),\n",
       "  Text(1.0961742802665857, -0.09166213657794155, 'B47'),\n",
       "  Text(1.0962966265985756, -0.09018706397584739, 'D78'),\n",
       "  Text(1.0964169879923773, -0.08871182808241124, 'C63'),\n",
       "  Text(1.0965353642300664, -0.08723643156867306, 'D46'),\n",
       "  Text(1.0966517550973127, -0.08576087710596257, 'D56'),\n",
       "  Text(1.0967661603833803, -0.08428516736589847, 'A29'),\n",
       "  Text(1.096878579881129, -0.08280930502037767, 'C92'),\n",
       "  Text(1.0969890133870137, -0.08133329274157432, 'C04'),\n",
       "  Text(1.097097460701085, -0.07985713320193405, 'A27'),\n",
       "  Text(1.09720392162699, -0.07838082907416916, 'E98'),\n",
       "  Text(1.097308395971972, -0.07690438303125367, 'B73'),\n",
       "  Text(1.0974108835468717, -0.0754277977464186, 'E59'),\n",
       "  Text(1.0975113841661261, -0.07395107589314706, 'B39'),\n",
       "  Text(1.0976098976477708, -0.07247422014516945, 'C18'),\n",
       "  Text(1.0977064238134382, -0.07099723317645858, 'E51'),\n",
       "  Text(1.09780096248836, -0.06952011766122482, 'E68'),\n",
       "  Text(1.0978935135013657, -0.06804287627391133, 'A47'),\n",
       "  Text(1.0979840766848836, -0.06656551168918916, 'D40'),\n",
       "  Text(1.098072651874942, -0.06508802658195241, 'E87'),\n",
       "  Text(1.0981592389111672, -0.06361042362731338, 'C72'),\n",
       "  Text(1.0982438376367865, -0.06213270550059779, 'E38'),\n",
       "  Text(1.0983264478986265, -0.06065487487733985, 'E71'),\n",
       "  Text(1.0984070695471146, -0.059176934433276485, 'C71'),\n",
       "  Text(1.0984857024362782, -0.0576988868443464, 'A54'),\n",
       "  Text(1.0985623464237457, -0.05622073478667937, 'C49'),\n",
       "  Text(1.098637001370747, -0.054742480936595256, 'B86'),\n",
       "  Text(1.0987096671421126, -0.05326412797059827, 'A91'),\n",
       "  Text(1.0987803436062753, -0.05178567856537206, 'C38'),\n",
       "  Text(1.098849030635269, -0.0503071353977749, 'B14'),\n",
       "  Text(1.0989157281047301, -0.0488285011448348, 'E16'),\n",
       "  Text(1.0989804358938973, -0.04734977848374472, 'E01'),\n",
       "  Text(1.0990431538856116, -0.045870970091857664, 'C13'),\n",
       "  Text(1.0990888865063722, -0.04476180914778947, 'C39'),\n",
       "  Text(1.0991187530499333, -0.0440223431220967, 'E72'),\n",
       "  Text(1.0991481220814665, -0.043282857169852564, 'E48'),\n",
       "  Text(1.0991769935876774, -0.04254335162578459, 'E52'),\n",
       "  Text(1.0992053675554978, -0.041803826824625266, 'D16'),\n",
       "  Text(1.099233243972084, -0.0410642831011197, 'A60'),\n",
       "  Text(1.0992606228248183, -0.040324720790017685, 'D76'),\n",
       "  Text(1.0992875041013073, -0.03958514022608031, 'E63'),\n",
       "  Text(1.0993138877893835, -0.038845541744076964, 'B71'),\n",
       "  Text(1.0993397738771045, -0.038105925678782196, 'A39'),\n",
       "  Text(1.099365162352753, -0.03736629236498244, 'B60'),\n",
       "  Text(1.0993900532048368, -0.03662664213746802, 'C56'),\n",
       "  Text(1.0994144464220896, -0.03588697533104081, 'E64'),\n",
       "  Text(1.0994383419934692, -0.035147292280506295, 'B98'),\n",
       "  Text(1.09946173990816, -0.03440759332068124, 'E06'),\n",
       "  Text(1.099484640155571, -0.033667878786385656, 'A24'),\n",
       "  Text(1.0995070427253362, -0.03292814901245055, 'E95'),\n",
       "  Text(1.0995289476073151, -0.03218840433370991, 'D82'),\n",
       "  Text(1.0995503547915926, -0.03144864508500838, 'D19'),\n",
       "  Text(1.0995712642684792, -0.030708871601193267, 'D18'),\n",
       "  Text(1.0995916760285098, -0.029969084217122268, 'C84'),\n",
       "  Text(1.0996115900624452, -0.029229283267655445, 'D13'),\n",
       "  Text(1.0996310063612718, -0.028489469087662898, 'E35'),\n",
       "  Text(1.0996499249162004, -0.027749642012016826, 'E27'),\n",
       "  Text(1.0996683457186678, -0.027009802375598187, 'A56'),\n",
       "  Text(1.0996862687603357, -0.026269950513293627, 'A31'),\n",
       "  Text(1.0997036940330915, -0.025530086759992392, 'B62'),\n",
       "  Text(1.0997206215290478, -0.024790211450593024, 'D74'),\n",
       "  Text(1.0997370512405422, -0.02405032491999538, 'D58'),\n",
       "  Text(1.0997529831601378, -0.023310427503108314, 'E46'),\n",
       "  Text(1.0997684172806235, -0.022570519534841692, 'C32'),\n",
       "  Text(1.0997833535950128, -0.02183060135011406, 'D34'),\n",
       "  Text(1.0997977920965445, -0.0210906732838447, 'A83'),\n",
       "  Text(1.0998117327786838, -0.020350735670961254, 'B81'),\n",
       "  Text(1.0998251756351198, -0.01961078884639178, 'D36'),\n",
       "  Text(1.0998381206597683, -0.01887083314507243, 'E50'),\n",
       "  Text(1.0998505678467694, -0.01813086890193945, 'E56'),\n",
       "  Text(1.0998625171904888, -0.017390896451936862, 'D22'),\n",
       "  Text(1.099873968685518, -0.0166509161300085, 'D93'),\n",
       "  Text(1.0998849223266731, -0.015910928271105667, 'E18'),\n",
       "  Text(1.0998953781089966, -0.015170933210179165, 'A89'),\n",
       "  Text(1.0999053360277553, -0.014430931282186978, 'B91'),\n",
       "  Text(1.0999147960784417, -0.013690922822086274, 'C09'),\n",
       "  Text(1.0999237582567738, -0.012950908164840118, 'B88'),\n",
       "  Text(1.0999322225586954, -0.012210887645414377, 'A14'),\n",
       "  Text(1.0999401889803744, -0.011470861598774643, 'E30'),\n",
       "  Text(1.0999476575182054, -0.010730830359892913, 'D86'),\n",
       "  Text(1.0999546281688075, -0.009990794263739632, 'D59'),\n",
       "  Text(1.0999611009290258, -0.009250753645291349, 'D38'),\n",
       "  Text(1.09996707579593, -0.00851070883952275, 'A82'),\n",
       "  Text(1.0999725527668156, -0.007770660181414328, 'B82'),\n",
       "  Text(1.099977531839204, -0.007030608005944411, 'B93'),\n",
       "  Text(1.0999820130108409, -0.006290552648096823, 'B83'),\n",
       "  Text(1.099985996279698, -0.0055504944428529275, 'E53'),\n",
       "  Text(1.0999894816439726, -0.004810433725199279, 'E54'),\n",
       "  Text(1.0999924691020868, -0.004070370830119664, 'B75'),\n",
       "  Text(1.0999949586526885, -0.003330306092602762, 'E03'),\n",
       "  Text(1.0999969502946505, -0.002590239847634178, 'D77'),\n",
       "  Text(1.0999984440270716, -0.001850172430204108, 'C94'),\n",
       "  Text(1.0999994398492756, -0.0011101041752993705, 'C35'),\n",
       "  Text(1.0999999377608116, -0.0003700354179100941, 'C16')])"
      ]
     },
     "execution_count": 47,
     "metadata": {},
     "output_type": "execute_result"
    },
    {
     "data": {
      "image/png": "[encoded data removed]",
      "text/plain": [
       "<Figure size 432x288 with 1 Axes>"
      ]
     },
     "metadata": {},
     "output_type": "display_data"
    }
   ],
   "source": [
    "data = dict(games[\"opening_eco\"].value_counts())\n",
    "plt.pie(data.values(), labels = data.keys())"
   ]
  },
  {
   "cell_type": "code",
   "execution_count": 49,
   "metadata": {},
   "outputs": [
    {
     "data": {
      "text/plain": [
       "<BarContainer object of 1182 artists>"
      ]
     },
     "execution_count": 49,
     "metadata": {},
     "output_type": "execute_result"
    },
    {
     "data": {
      "image/png": "[encoded data removed]",
      "text/plain": [
       "<Figure size 432x288 with 1 Axes>"
      ]
     },
     "metadata": {
      "needs_background": "light"
     },
     "output_type": "display_data"
    }
   ],
   "source": [
    "data = dict(games[\"opening_name\"].value_counts())\n",
    "plt.bar(height = data.values(), x = data.keys())"
   ]
  },
  {
   "cell_type": "code",
   "execution_count": 52,
   "metadata": {},
   "outputs": [
    {
     "data": {
      "text/plain": [
       "<matplotlib.axes._subplots.AxesSubplot at 0x1ef16dd4148>"
      ]
     },
     "execution_count": 52,
     "metadata": {},
     "output_type": "execute_result"
    },
    {
     "data": {
      "image/png": "[encoded data removed]",
      "text/plain": [
       "<Figure size 432x288 with 1 Axes>"
      ]
     },
     "metadata": {
      "needs_background": "light"
     },
     "output_type": "display_data"
    }
   ],
   "source": [
    "games[\"opening_ply\"].hist(bins = 100)"
   ]
  },
  {
   "cell_type": "code",
   "execution_count": 53,
   "metadata": {},
   "outputs": [
    {
     "data": {
      "text/plain": [
       "<BarContainer object of 23 artists>"
      ]
     },
     "execution_count": 53,
     "metadata": {},
     "output_type": "execute_result"
    },
    {
     "data": {
      "image/png": "[encoded data removed]",
      "text/plain": [
       "<Figure size 432x288 with 1 Axes>"
      ]
     },
     "metadata": {
      "needs_background": "light"
     },
     "output_type": "display_data"
    }
   ],
   "source": [
    "data = dict(games[\"opening_ply\"].value_counts())\n",
    "plt.bar(height = data.values(), x = data.keys())"
   ]
  },
  {
   "cell_type": "markdown",
   "metadata": {},
   "source": [
    "We can find outliers in this plot. We will handle them later."
   ]
  },
  {
   "cell_type": "code",
   "execution_count": 54,
   "metadata": {},
   "outputs": [
    {
     "data": {
      "text/plain": [
       "([<matplotlib.patches.Wedge at 0x1ef16f43048>,\n",
       "  <matplotlib.patches.Wedge at 0x1ef16f43788>,\n",
       "  <matplotlib.patches.Wedge at 0x1ef16f47248>,\n",
       "  <matplotlib.patches.Wedge at 0x1ef16f47d08>,\n",
       "  <matplotlib.patches.Wedge at 0x1ef16f4dc08>,\n",
       "  <matplotlib.patches.Wedge at 0x1ef16f53888>,\n",
       "  <matplotlib.patches.Wedge at 0x1ef16f53f08>,\n",
       "  <matplotlib.patches.Wedge at 0x1ef16f59a08>,\n",
       "  <matplotlib.patches.Wedge at 0x1ef16f4d808>,\n",
       "  <matplotlib.patches.Wedge at 0x1ef16f604c8>,\n",
       "  <matplotlib.patches.Wedge at 0x1ef16f0a888>,\n",
       "  <matplotlib.patches.Wedge at 0x1ef16f6b448>,\n",
       "  <matplotlib.patches.Wedge at 0x1ef16f6bf08>,\n",
       "  <matplotlib.patches.Wedge at 0x1ef16f70a08>,\n",
       "  <matplotlib.patches.Wedge at 0x1ef16f76508>,\n",
       "  <matplotlib.patches.Wedge at 0x1ef16f76fc8>,\n",
       "  <matplotlib.patches.Wedge at 0x1ef16f7bac8>,\n",
       "  <matplotlib.patches.Wedge at 0x1ef16f815c8>,\n",
       "  <matplotlib.patches.Wedge at 0x1ef16f880c8>,\n",
       "  <matplotlib.patches.Wedge at 0x1ef16f88b88>,\n",
       "  <matplotlib.patches.Wedge at 0x1ef16f8d688>,\n",
       "  <matplotlib.patches.Wedge at 0x1ef16f94188>,\n",
       "  <matplotlib.patches.Wedge at 0x1ef16f94c48>],\n",
       " [Text(0.960310664595098, 0.5364731376918338, '3.0'),\n",
       "  Text(0.05955283135932176, 1.0983867535058351, '4.0'),\n",
       "  Text(-0.8561398983749382, 0.6906695841070105, '2.0'),\n",
       "  Text(-1.0780968101864263, -0.21841993468054405, '5.0'),\n",
       "  Text(-0.644502589257528, -0.8914125938309052, '6.0'),\n",
       "  Text(-0.09267548261782416, -1.0960890725308567, '7.0'),\n",
       "  Text(0.35594788092400703, -1.0408175181393273, '8.0'),\n",
       "  Text(0.7056365703665279, -0.8438465681398274, '1.0'),\n",
       "  Text(0.9205803253951051, -0.6021061903812671, '9.0'),\n",
       "  Text(1.016249830599313, -0.4209943964079184, '11.0'),\n",
       "  Text(1.0652908445788796, -0.2741448822364145, '10.0'),\n",
       "  Text(1.0863617797278027, -0.1726791346591737, '12.0'),\n",
       "  Text(1.0934717293567304, -0.11966443539164602, '13.0'),\n",
       "  Text(1.097167938934899, -0.07888291179555974, '14.0'),\n",
       "  Text(1.0986451356092357, -0.054578988650982964, '15.0'),\n",
       "  Text(1.0993437143443863, -0.03799207458784633, '17.0'),\n",
       "  Text(1.0997386206169444, -0.02397845540356068, '16.0'),\n",
       "  Text(1.0999010135942981, -0.01475670336612148, '19.0'),\n",
       "  Text(1.0999514962578976, -0.01032985382340172, '18.0'),\n",
       "  Text(1.099984161938638, -0.005902836958006317, '20.0'),\n",
       "  Text(1.0999969684750437, -0.0025825076406431943, '28.0'),\n",
       "  Text(1.0999994431824927, -0.0011067963706238263, '24.0'),\n",
       "  Text(1.0999999381288197, -0.0003689398226226132, '22.0')])"
      ]
     },
     "execution_count": 54,
     "metadata": {},
     "output_type": "execute_result"
    },
    {
     "data": {
      "image/png": "[encoded data removed]",
      "text/plain": [
       "<Figure size 432x288 with 1 Axes>"
      ]
     },
     "metadata": {},
     "output_type": "display_data"
    }
   ],
   "source": [
    "data = dict(games[\"opening_ply\"].value_counts())\n",
    "plt.pie(data.values(), labels = data.keys())"
   ]
  },
  {
   "cell_type": "code",
   "execution_count": 55,
   "metadata": {},
   "outputs": [
    {
     "data": {
      "text/plain": [
       "{'whiskers': [<matplotlib.lines.Line2D at 0x1ef1701f908>,\n",
       "  <matplotlib.lines.Line2D at 0x1ef1701ff88>],\n",
       " 'caps': [<matplotlib.lines.Line2D at 0x1ef170268c8>,\n",
       "  <matplotlib.lines.Line2D at 0x1ef17026fc8>],\n",
       " 'boxes': [<matplotlib.lines.Line2D at 0x1ef1701be88>],\n",
       " 'medians': [<matplotlib.lines.Line2D at 0x1ef17026f88>],\n",
       " 'fliers': [<matplotlib.lines.Line2D at 0x1ef17029f88>],\n",
       " 'means': []}"
      ]
     },
     "execution_count": 55,
     "metadata": {},
     "output_type": "execute_result"
    },
    {
     "data": {
      "image/png": "[encoded data removed]",
      "text/plain": [
       "<Figure size 432x288 with 1 Axes>"
      ]
     },
     "metadata": {
      "needs_background": "light"
     },
     "output_type": "display_data"
    }
   ],
   "source": [
    "plt.boxplot(games[\"opening_ply\"])"
   ]
  },
  {
   "cell_type": "markdown",
   "metadata": {},
   "source": [
    "There are outliers in opening_ply. We will handle them later"
   ]
  },
  {
   "cell_type": "code",
   "execution_count": 57,
   "metadata": {},
   "outputs": [
    {
     "data": {
      "text/plain": [
       "<matplotlib.axes._subplots.AxesSubplot at 0x1ef16fa0808>"
      ]
     },
     "execution_count": 57,
     "metadata": {},
     "output_type": "execute_result"
    },
    {
     "data": {
      "image/png": "[encoded data removed]",
      "text/plain": [
       "<Figure size 432x288 with 1 Axes>"
      ]
     },
     "metadata": {
      "needs_background": "light"
     },
     "output_type": "display_data"
    }
   ],
   "source": [
    "games[\"game_time\"].hist(bins = 100)"
   ]
  },
  {
   "cell_type": "code",
   "execution_count": 63,
   "metadata": {},
   "outputs": [
    {
     "data": {
      "text/plain": [
       "{'whiskers': [<matplotlib.lines.Line2D at 0x1ef2074f9c8>,\n",
       "  <matplotlib.lines.Line2D at 0x1ef20523448>],\n",
       " 'caps': [<matplotlib.lines.Line2D at 0x1ef20519c08>,\n",
       "  <matplotlib.lines.Line2D at 0x1ef20502d48>],\n",
       " 'boxes': [<matplotlib.lines.Line2D at 0x1ef20768e48>],\n",
       " 'medians': [<matplotlib.lines.Line2D at 0x1ef205149c8>],\n",
       " 'fliers': [<matplotlib.lines.Line2D at 0x1ef20501388>],\n",
       " 'means': []}"
      ]
     },
     "execution_count": 63,
     "metadata": {},
     "output_type": "execute_result"
    },
    {
     "data": {
      "image/png": "[encoded data removed]",
      "text/plain": [
       "<Figure size 432x288 with 1 Axes>"
      ]
     },
     "metadata": {
      "needs_background": "light"
     },
     "output_type": "display_data"
    }
   ],
   "source": [
    "plt.boxplot(games[\"game_time\"])"
   ]
  },
  {
   "cell_type": "markdown",
   "metadata": {},
   "source": [
    "The game_time has outliers in it. We will handle them later."
   ]
  },
  {
   "cell_type": "code",
   "execution_count": null,
   "metadata": {},
   "outputs": [],
   "source": []
  }
 ],
 "metadata": {
  "kernelspec": {
   "display_name": "Python 3",
   "language": "python",
   "name": "python3"
  },
  "language_info": {
   "codemirror_mode": {
    "name": "ipython",
    "version": 3
   },
   "file_extension": ".py",
   "mimetype": "text/x-python",
   "name": "python",
   "nbconvert_exporter": "python",
   "pygments_lexer": "ipython3",
   "version": "3.7.4"
  }
 },
 "nbformat": 4,
 "nbformat_minor": 2
}
