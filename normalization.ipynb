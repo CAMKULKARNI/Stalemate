{
 "cells": [
  {
   "cell_type": "code",
   "execution_count": 1,
   "metadata": {},
   "outputs": [],
   "source": [
    "import pandas as pd\n",
    "import matplotlib.pyplot as plt\n",
    "from scipy import stats\n",
    "file = \"D:\\codes_python\\sds project\\games_cleaned_withoutOutliers.csv\"\n",
    "games = pd.read_csv(file)"
   ]
  },
  {
   "cell_type": "code",
   "execution_count": 2,
   "metadata": {},
   "outputs": [],
   "source": [
    "games.drop([\"Unnamed: 0\"], axis = 1, inplace = True)"
   ]
  },
  {
   "cell_type": "code",
   "execution_count": 3,
   "metadata": {},
   "outputs": [
    {
     "data": {
      "text/html": [
       "<div>\n",
       "<style scoped>\n",
       "    .dataframe tbody tr th:only-of-type {\n",
       "        vertical-align: middle;\n",
       "    }\n",
       "\n",
       "    .dataframe tbody tr th {\n",
       "        vertical-align: top;\n",
       "    }\n",
       "\n",
       "    .dataframe thead th {\n",
       "        text-align: right;\n",
       "    }\n",
       "</style>\n",
       "<table border=\"1\" class=\"dataframe\">\n",
       "  <thead>\n",
       "    <tr style=\"text-align: right;\">\n",
       "      <th></th>\n",
       "      <th>id</th>\n",
       "      <th>rated</th>\n",
       "      <th>turns</th>\n",
       "      <th>victory_status</th>\n",
       "      <th>winner</th>\n",
       "      <th>increment_code</th>\n",
       "      <th>white_id</th>\n",
       "      <th>white_rating</th>\n",
       "      <th>black_id</th>\n",
       "      <th>black_rating</th>\n",
       "      <th>moves</th>\n",
       "      <th>opening_eco</th>\n",
       "      <th>opening_name</th>\n",
       "      <th>opening_ply</th>\n",
       "      <th>game_time</th>\n",
       "    </tr>\n",
       "  </thead>\n",
       "  <tbody>\n",
       "    <tr>\n",
       "      <td>0</td>\n",
       "      <td>fyfWyjj2</td>\n",
       "      <td>1.0</td>\n",
       "      <td>56.0</td>\n",
       "      <td>resign</td>\n",
       "      <td>black</td>\n",
       "      <td>10+6</td>\n",
       "      <td>mindworm</td>\n",
       "      <td>2180.0</td>\n",
       "      <td>lolmens</td>\n",
       "      <td>2134.0</td>\n",
       "      <td>['d4', 'Nf6', 'c4', 'c6', 'd5', 'e6', 'Nc3', '...</td>\n",
       "      <td>A50</td>\n",
       "      <td>Slav Indian</td>\n",
       "      <td>4.0</td>\n",
       "      <td>152.045167</td>\n",
       "    </tr>\n",
       "    <tr>\n",
       "      <td>1</td>\n",
       "      <td>QmCyfnNZ</td>\n",
       "      <td>1.0</td>\n",
       "      <td>55.0</td>\n",
       "      <td>resign</td>\n",
       "      <td>white</td>\n",
       "      <td>10+0</td>\n",
       "      <td>philipp_0x</td>\n",
       "      <td>1291.0</td>\n",
       "      <td>alywezza</td>\n",
       "      <td>1326.0</td>\n",
       "      <td>['Nf3', 'c5', 'd4', 'cxd4', 'Nxd4', 'd5', 'g3'...</td>\n",
       "      <td>A04</td>\n",
       "      <td>Zukertort Opening: Sicilian Invitation</td>\n",
       "      <td>2.0</td>\n",
       "      <td>137.408000</td>\n",
       "    </tr>\n",
       "    <tr>\n",
       "      <td>2</td>\n",
       "      <td>X1hUH5gY</td>\n",
       "      <td>1.0</td>\n",
       "      <td>2.0</td>\n",
       "      <td>resign</td>\n",
       "      <td>white</td>\n",
       "      <td>180+180</td>\n",
       "      <td>chiggen</td>\n",
       "      <td>1291.0</td>\n",
       "      <td>drakon1</td>\n",
       "      <td>965.0</td>\n",
       "      <td>['e4', 'd5']</td>\n",
       "      <td>B01</td>\n",
       "      <td>Scandinavian Defense</td>\n",
       "      <td>2.0</td>\n",
       "      <td>0.929667</td>\n",
       "    </tr>\n",
       "    <tr>\n",
       "      <td>3</td>\n",
       "      <td>xfD25ZBl</td>\n",
       "      <td>1.0</td>\n",
       "      <td>111.0</td>\n",
       "      <td>resign</td>\n",
       "      <td>white</td>\n",
       "      <td>9+5</td>\n",
       "      <td>khelil</td>\n",
       "      <td>1611.0</td>\n",
       "      <td>gleb763</td>\n",
       "      <td>1418.0</td>\n",
       "      <td>['e4', 'e5', 'Bc4', 'c6', 'Qh5', 'd5', 'exd5',...</td>\n",
       "      <td>C23</td>\n",
       "      <td>Bishop's Opening: Philidor Counterattack</td>\n",
       "      <td>4.0</td>\n",
       "      <td>169.290000</td>\n",
       "    </tr>\n",
       "    <tr>\n",
       "      <td>4</td>\n",
       "      <td>BFo44qd4</td>\n",
       "      <td>1.0</td>\n",
       "      <td>25.0</td>\n",
       "      <td>mate</td>\n",
       "      <td>white</td>\n",
       "      <td>10+0</td>\n",
       "      <td>elvis1997</td>\n",
       "      <td>2168.0</td>\n",
       "      <td>kabuto87</td>\n",
       "      <td>1650.0</td>\n",
       "      <td>['e4', 'Nc6', 'd4', 'd5', 'e5', 'Qd7', 'Be2', ...</td>\n",
       "      <td>B00</td>\n",
       "      <td>Nimzowitsch Defense: Scandinavian Variation | ...</td>\n",
       "      <td>5.0</td>\n",
       "      <td>49.667500</td>\n",
       "    </tr>\n",
       "    <tr>\n",
       "      <td>...</td>\n",
       "      <td>...</td>\n",
       "      <td>...</td>\n",
       "      <td>...</td>\n",
       "      <td>...</td>\n",
       "      <td>...</td>\n",
       "      <td>...</td>\n",
       "      <td>...</td>\n",
       "      <td>...</td>\n",
       "      <td>...</td>\n",
       "      <td>...</td>\n",
       "      <td>...</td>\n",
       "      <td>...</td>\n",
       "      <td>...</td>\n",
       "      <td>...</td>\n",
       "      <td>...</td>\n",
       "    </tr>\n",
       "    <tr>\n",
       "      <td>8002</td>\n",
       "      <td>SVScVlox</td>\n",
       "      <td>1.0</td>\n",
       "      <td>53.0</td>\n",
       "      <td>mate</td>\n",
       "      <td>white</td>\n",
       "      <td>30+0</td>\n",
       "      <td>hamed5058</td>\n",
       "      <td>1709.0</td>\n",
       "      <td>jat</td>\n",
       "      <td>1442.0</td>\n",
       "      <td>['e4', 'd5', 'exd5', 'c6', 'd4', 'cxd5', 'Nc3'...</td>\n",
       "      <td>B13</td>\n",
       "      <td>Caro-Kann Defense: Exchange Variation</td>\n",
       "      <td>5.0</td>\n",
       "      <td>158.018833</td>\n",
       "    </tr>\n",
       "    <tr>\n",
       "      <td>8003</td>\n",
       "      <td>eBZNlH7w</td>\n",
       "      <td>1.0</td>\n",
       "      <td>55.0</td>\n",
       "      <td>resign</td>\n",
       "      <td>black</td>\n",
       "      <td>20+0</td>\n",
       "      <td>sdmabunda</td>\n",
       "      <td>1518.0</td>\n",
       "      <td>rehcsif6rehcsif</td>\n",
       "      <td>1546.0</td>\n",
       "      <td>['e4', 'e5', 'Nf3', 'Nc6', 'Bb5', 'a6', 'Bxc6'...</td>\n",
       "      <td>C68</td>\n",
       "      <td>Ruy Lopez: Exchange Variation</td>\n",
       "      <td>7.0</td>\n",
       "      <td>181.858500</td>\n",
       "    </tr>\n",
       "    <tr>\n",
       "      <td>8004</td>\n",
       "      <td>MtDU2OuN</td>\n",
       "      <td>1.0</td>\n",
       "      <td>30.0</td>\n",
       "      <td>mate</td>\n",
       "      <td>black</td>\n",
       "      <td>20+5</td>\n",
       "      <td>aradov</td>\n",
       "      <td>1060.0</td>\n",
       "      <td>rodrigowski19</td>\n",
       "      <td>1202.0</td>\n",
       "      <td>['e4', 'c5', 'd4', 'cxd4', 'Qxd4', 'Nc6', 'Qe3...</td>\n",
       "      <td>B21</td>\n",
       "      <td>Sicilian Defense: Smith-Morra Gambit #2</td>\n",
       "      <td>3.0</td>\n",
       "      <td>32.038167</td>\n",
       "    </tr>\n",
       "    <tr>\n",
       "      <td>8005</td>\n",
       "      <td>wL5yxYVK</td>\n",
       "      <td>1.0</td>\n",
       "      <td>61.0</td>\n",
       "      <td>resign</td>\n",
       "      <td>white</td>\n",
       "      <td>15+15</td>\n",
       "      <td>azomio</td>\n",
       "      <td>1410.0</td>\n",
       "      <td>karanlikyol</td>\n",
       "      <td>1355.0</td>\n",
       "      <td>['f4', 'f6', 'e3', 'e5', 'fxe5', 'fxe5', 'Qh5+...</td>\n",
       "      <td>A02</td>\n",
       "      <td>Bird Opening</td>\n",
       "      <td>1.0</td>\n",
       "      <td>157.164167</td>\n",
       "    </tr>\n",
       "    <tr>\n",
       "      <td>8006</td>\n",
       "      <td>W1fKatN0</td>\n",
       "      <td>0.0</td>\n",
       "      <td>41.0</td>\n",
       "      <td>resign</td>\n",
       "      <td>black</td>\n",
       "      <td>30+0</td>\n",
       "      <td>bronyaurstomp</td>\n",
       "      <td>1264.0</td>\n",
       "      <td>jeswalace333</td>\n",
       "      <td>1500.0</td>\n",
       "      <td>['b4', 'd5', 'd4', 'Nf6', 'Nf3', 'Nbd7', 'Nc3'...</td>\n",
       "      <td>A00</td>\n",
       "      <td>Polish Opening</td>\n",
       "      <td>1.0</td>\n",
       "      <td>117.543000</td>\n",
       "    </tr>\n",
       "  </tbody>\n",
       "</table>\n",
       "<p>8007 rows × 15 columns</p>\n",
       "</div>"
      ],
      "text/plain": [
       "            id  rated  turns victory_status winner increment_code  \\\n",
       "0     fyfWyjj2    1.0   56.0         resign  black           10+6   \n",
       "1     QmCyfnNZ    1.0   55.0         resign  white           10+0   \n",
       "2     X1hUH5gY    1.0    2.0         resign  white        180+180   \n",
       "3     xfD25ZBl    1.0  111.0         resign  white            9+5   \n",
       "4     BFo44qd4    1.0   25.0           mate  white           10+0   \n",
       "...        ...    ...    ...            ...    ...            ...   \n",
       "8002  SVScVlox    1.0   53.0           mate  white           30+0   \n",
       "8003  eBZNlH7w    1.0   55.0         resign  black           20+0   \n",
       "8004  MtDU2OuN    1.0   30.0           mate  black           20+5   \n",
       "8005  wL5yxYVK    1.0   61.0         resign  white          15+15   \n",
       "8006  W1fKatN0    0.0   41.0         resign  black           30+0   \n",
       "\n",
       "           white_id  white_rating         black_id  black_rating  \\\n",
       "0          mindworm        2180.0          lolmens        2134.0   \n",
       "1        philipp_0x        1291.0         alywezza        1326.0   \n",
       "2           chiggen        1291.0          drakon1         965.0   \n",
       "3            khelil        1611.0          gleb763        1418.0   \n",
       "4         elvis1997        2168.0         kabuto87        1650.0   \n",
       "...             ...           ...              ...           ...   \n",
       "8002      hamed5058        1709.0              jat        1442.0   \n",
       "8003      sdmabunda        1518.0  rehcsif6rehcsif        1546.0   \n",
       "8004         aradov        1060.0    rodrigowski19        1202.0   \n",
       "8005         azomio        1410.0      karanlikyol        1355.0   \n",
       "8006  bronyaurstomp        1264.0     jeswalace333        1500.0   \n",
       "\n",
       "                                                  moves opening_eco  \\\n",
       "0     ['d4', 'Nf6', 'c4', 'c6', 'd5', 'e6', 'Nc3', '...         A50   \n",
       "1     ['Nf3', 'c5', 'd4', 'cxd4', 'Nxd4', 'd5', 'g3'...         A04   \n",
       "2                                          ['e4', 'd5']         B01   \n",
       "3     ['e4', 'e5', 'Bc4', 'c6', 'Qh5', 'd5', 'exd5',...         C23   \n",
       "4     ['e4', 'Nc6', 'd4', 'd5', 'e5', 'Qd7', 'Be2', ...         B00   \n",
       "...                                                 ...         ...   \n",
       "8002  ['e4', 'd5', 'exd5', 'c6', 'd4', 'cxd5', 'Nc3'...         B13   \n",
       "8003  ['e4', 'e5', 'Nf3', 'Nc6', 'Bb5', 'a6', 'Bxc6'...         C68   \n",
       "8004  ['e4', 'c5', 'd4', 'cxd4', 'Qxd4', 'Nc6', 'Qe3...         B21   \n",
       "8005  ['f4', 'f6', 'e3', 'e5', 'fxe5', 'fxe5', 'Qh5+...         A02   \n",
       "8006  ['b4', 'd5', 'd4', 'Nf6', 'Nf3', 'Nbd7', 'Nc3'...         A00   \n",
       "\n",
       "                                           opening_name  opening_ply  \\\n",
       "0                                           Slav Indian          4.0   \n",
       "1                Zukertort Opening: Sicilian Invitation          2.0   \n",
       "2                                  Scandinavian Defense          2.0   \n",
       "3              Bishop's Opening: Philidor Counterattack          4.0   \n",
       "4     Nimzowitsch Defense: Scandinavian Variation | ...          5.0   \n",
       "...                                                 ...          ...   \n",
       "8002              Caro-Kann Defense: Exchange Variation          5.0   \n",
       "8003                      Ruy Lopez: Exchange Variation          7.0   \n",
       "8004            Sicilian Defense: Smith-Morra Gambit #2          3.0   \n",
       "8005                                       Bird Opening          1.0   \n",
       "8006                                     Polish Opening          1.0   \n",
       "\n",
       "       game_time  \n",
       "0     152.045167  \n",
       "1     137.408000  \n",
       "2       0.929667  \n",
       "3     169.290000  \n",
       "4      49.667500  \n",
       "...          ...  \n",
       "8002  158.018833  \n",
       "8003  181.858500  \n",
       "8004   32.038167  \n",
       "8005  157.164167  \n",
       "8006  117.543000  \n",
       "\n",
       "[8007 rows x 15 columns]"
      ]
     },
     "execution_count": 3,
     "metadata": {},
     "output_type": "execute_result"
    }
   ],
   "source": [
    "games"
   ]
  },
  {
   "cell_type": "code",
   "execution_count": 4,
   "metadata": {},
   "outputs": [
    {
     "data": {
      "text/html": [
       "<div>\n",
       "<style scoped>\n",
       "    .dataframe tbody tr th:only-of-type {\n",
       "        vertical-align: middle;\n",
       "    }\n",
       "\n",
       "    .dataframe tbody tr th {\n",
       "        vertical-align: top;\n",
       "    }\n",
       "\n",
       "    .dataframe thead th {\n",
       "        text-align: right;\n",
       "    }\n",
       "</style>\n",
       "<table border=\"1\" class=\"dataframe\">\n",
       "  <thead>\n",
       "    <tr style=\"text-align: right;\">\n",
       "      <th></th>\n",
       "      <th>rated</th>\n",
       "      <th>turns</th>\n",
       "      <th>white_rating</th>\n",
       "      <th>black_rating</th>\n",
       "      <th>opening_ply</th>\n",
       "      <th>game_time</th>\n",
       "    </tr>\n",
       "  </thead>\n",
       "  <tbody>\n",
       "    <tr>\n",
       "      <td>count</td>\n",
       "      <td>8007.000000</td>\n",
       "      <td>8007.000000</td>\n",
       "      <td>8007.000000</td>\n",
       "      <td>8007.000000</td>\n",
       "      <td>8007.000000</td>\n",
       "      <td>8007.000000</td>\n",
       "    </tr>\n",
       "    <tr>\n",
       "      <td>mean</td>\n",
       "      <td>0.823405</td>\n",
       "      <td>57.523917</td>\n",
       "      <td>1592.976722</td>\n",
       "      <td>1586.674155</td>\n",
       "      <td>4.483952</td>\n",
       "      <td>110.905513</td>\n",
       "    </tr>\n",
       "    <tr>\n",
       "      <td>std</td>\n",
       "      <td>0.381350</td>\n",
       "      <td>29.916328</td>\n",
       "      <td>270.051398</td>\n",
       "      <td>271.501713</td>\n",
       "      <td>2.239631</td>\n",
       "      <td>68.437584</td>\n",
       "    </tr>\n",
       "    <tr>\n",
       "      <td>min</td>\n",
       "      <td>0.000000</td>\n",
       "      <td>1.000000</td>\n",
       "      <td>856.000000</td>\n",
       "      <td>854.000000</td>\n",
       "      <td>1.000000</td>\n",
       "      <td>0.320333</td>\n",
       "    </tr>\n",
       "    <tr>\n",
       "      <td>25%</td>\n",
       "      <td>1.000000</td>\n",
       "      <td>36.000000</td>\n",
       "      <td>1406.000000</td>\n",
       "      <td>1403.000000</td>\n",
       "      <td>3.000000</td>\n",
       "      <td>58.759250</td>\n",
       "    </tr>\n",
       "    <tr>\n",
       "      <td>50%</td>\n",
       "      <td>1.000000</td>\n",
       "      <td>54.000000</td>\n",
       "      <td>1572.000000</td>\n",
       "      <td>1565.000000</td>\n",
       "      <td>4.000000</td>\n",
       "      <td>101.333833</td>\n",
       "    </tr>\n",
       "    <tr>\n",
       "      <td>75%</td>\n",
       "      <td>1.000000</td>\n",
       "      <td>75.000000</td>\n",
       "      <td>1780.000000</td>\n",
       "      <td>1771.000000</td>\n",
       "      <td>6.000000</td>\n",
       "      <td>152.193917</td>\n",
       "    </tr>\n",
       "    <tr>\n",
       "      <td>max</td>\n",
       "      <td>1.000000</td>\n",
       "      <td>143.000000</td>\n",
       "      <td>2376.000000</td>\n",
       "      <td>2368.000000</td>\n",
       "      <td>10.000000</td>\n",
       "      <td>327.200833</td>\n",
       "    </tr>\n",
       "  </tbody>\n",
       "</table>\n",
       "</div>"
      ],
      "text/plain": [
       "             rated        turns  white_rating  black_rating  opening_ply  \\\n",
       "count  8007.000000  8007.000000   8007.000000   8007.000000  8007.000000   \n",
       "mean      0.823405    57.523917   1592.976722   1586.674155     4.483952   \n",
       "std       0.381350    29.916328    270.051398    271.501713     2.239631   \n",
       "min       0.000000     1.000000    856.000000    854.000000     1.000000   \n",
       "25%       1.000000    36.000000   1406.000000   1403.000000     3.000000   \n",
       "50%       1.000000    54.000000   1572.000000   1565.000000     4.000000   \n",
       "75%       1.000000    75.000000   1780.000000   1771.000000     6.000000   \n",
       "max       1.000000   143.000000   2376.000000   2368.000000    10.000000   \n",
       "\n",
       "         game_time  \n",
       "count  8007.000000  \n",
       "mean    110.905513  \n",
       "std      68.437584  \n",
       "min       0.320333  \n",
       "25%      58.759250  \n",
       "50%     101.333833  \n",
       "75%     152.193917  \n",
       "max     327.200833  "
      ]
     },
     "execution_count": 4,
     "metadata": {},
     "output_type": "execute_result"
    }
   ],
   "source": [
    "games.describe()"
   ]
  },
  {
   "cell_type": "code",
   "execution_count": 5,
   "metadata": {},
   "outputs": [],
   "source": [
    "mu = games[\"turns\"].mean()\n",
    "sigma = games[\"turns\"].std()\n",
    "games[\"turns\"] = (games[\"turns\"] - mu)/sigma"
   ]
  },
  {
   "cell_type": "code",
   "execution_count": 6,
   "metadata": {},
   "outputs": [
    {
     "data": {
      "text/plain": [
       "0      -0.050939\n",
       "1      -0.084366\n",
       "2      -1.855974\n",
       "3       1.787522\n",
       "4      -1.087163\n",
       "          ...   \n",
       "8002   -0.151219\n",
       "8003   -0.084366\n",
       "8004   -0.920030\n",
       "8005    0.116194\n",
       "8006   -0.552338\n",
       "Name: turns, Length: 8007, dtype: float64"
      ]
     },
     "execution_count": 6,
     "metadata": {},
     "output_type": "execute_result"
    }
   ],
   "source": [
    "games[\"turns\"]"
   ]
  },
  {
   "cell_type": "code",
   "execution_count": 7,
   "metadata": {},
   "outputs": [
    {
     "data": {
      "text/plain": [
       "<matplotlib.axes._subplots.AxesSubplot at 0x197d2c072c8>"
      ]
     },
     "execution_count": 7,
     "metadata": {},
     "output_type": "execute_result"
    },
    {
     "data": {
      "image/png": "[encoded data removed]",
      "text/plain": [
       "<Figure size 432x288 with 1 Axes>"
      ]
     },
     "metadata": {
      "needs_background": "light"
     },
     "output_type": "display_data"
    }
   ],
   "source": [
    "games[\"turns\"].hist(bins = 20)"
   ]
  },
  {
   "cell_type": "code",
   "execution_count": 8,
   "metadata": {},
   "outputs": [],
   "source": [
    "mu = games[\"white_rating\"].mean()\n",
    "sigma = games[\"white_rating\"].std()\n",
    "games[\"white_rating\"] = (games[\"white_rating\"] - mu)/sigma"
   ]
  },
  {
   "cell_type": "code",
   "execution_count": 9,
   "metadata": {},
   "outputs": [
    {
     "data": {
      "text/plain": [
       "<matplotlib.axes._subplots.AxesSubplot at 0x197d3c07c48>"
      ]
     },
     "execution_count": 9,
     "metadata": {},
     "output_type": "execute_result"
    },
    {
     "data": {
      "image/png": "[encoded data removed]",
      "text/plain": [
       "<Figure size 432x288 with 1 Axes>"
      ]
     },
     "metadata": {
      "needs_background": "light"
     },
     "output_type": "display_data"
    }
   ],
   "source": [
    "games[\"white_rating\"].hist(bins = 20)"
   ]
  },
  {
   "cell_type": "code",
   "execution_count": 10,
   "metadata": {},
   "outputs": [],
   "source": [
    "mu = games[\"black_rating\"].mean()\n",
    "sigma = games[\"black_rating\"].std()\n",
    "games[\"black_rating\"] = (games[\"black_rating\"] - mu)/sigma"
   ]
  },
  {
   "cell_type": "code",
   "execution_count": 11,
   "metadata": {},
   "outputs": [
    {
     "data": {
      "text/plain": [
       "<matplotlib.axes._subplots.AxesSubplot at 0x197d3cd0088>"
      ]
     },
     "execution_count": 11,
     "metadata": {},
     "output_type": "execute_result"
    },
    {
     "data": {
      "image/png": "[encoded data removed]",
      "text/plain": [
       "<Figure size 432x288 with 1 Axes>"
      ]
     },
     "metadata": {
      "needs_background": "light"
     },
     "output_type": "display_data"
    }
   ],
   "source": [
    "games[\"black_rating\"].hist(bins = 20)"
   ]
  },
  {
   "cell_type": "code",
   "execution_count": 12,
   "metadata": {},
   "outputs": [],
   "source": [
    "mu = games[\"game_time\"].mean()\n",
    "sigma = games[\"game_time\"].std()\n",
    "games[\"game_time\"] = (games[\"game_time\"] - mu)/sigma"
   ]
  },
  {
   "cell_type": "code",
   "execution_count": 18,
   "metadata": {},
   "outputs": [
    {
     "data": {
      "text/plain": [
       "<matplotlib.axes._subplots.AxesSubplot at 0x197d4148988>"
      ]
     },
     "execution_count": 18,
     "metadata": {},
     "output_type": "execute_result"
    },
    {
     "data": {
      "image/png": "[encoded data removed]",
      "text/plain": [
       "<Figure size 432x288 with 1 Axes>"
      ]
     },
     "metadata": {
      "needs_background": "light"
     },
     "output_type": "display_data"
    }
   ],
   "source": [
    "games[\"game_time\"].hist(bins = 20)"
   ]
  },
  {
   "cell_type": "code",
   "execution_count": 20,
   "metadata": {},
   "outputs": [
    {
     "data": {
      "text/html": [
       "<div>\n",
       "<style scoped>\n",
       "    .dataframe tbody tr th:only-of-type {\n",
       "        vertical-align: middle;\n",
       "    }\n",
       "\n",
       "    .dataframe tbody tr th {\n",
       "        vertical-align: top;\n",
       "    }\n",
       "\n",
       "    .dataframe thead th {\n",
       "        text-align: right;\n",
       "    }\n",
       "</style>\n",
       "<table border=\"1\" class=\"dataframe\">\n",
       "  <thead>\n",
       "    <tr style=\"text-align: right;\">\n",
       "      <th></th>\n",
       "      <th>rated</th>\n",
       "      <th>turns</th>\n",
       "      <th>white_rating</th>\n",
       "      <th>black_rating</th>\n",
       "      <th>opening_ply</th>\n",
       "      <th>game_time</th>\n",
       "    </tr>\n",
       "  </thead>\n",
       "  <tbody>\n",
       "    <tr>\n",
       "      <td>count</td>\n",
       "      <td>8007.000000</td>\n",
       "      <td>8.007000e+03</td>\n",
       "      <td>8.007000e+03</td>\n",
       "      <td>8.007000e+03</td>\n",
       "      <td>8007.000000</td>\n",
       "      <td>8.007000e+03</td>\n",
       "    </tr>\n",
       "    <tr>\n",
       "      <td>mean</td>\n",
       "      <td>0.823405</td>\n",
       "      <td>-7.416739e-17</td>\n",
       "      <td>-3.595531e-15</td>\n",
       "      <td>2.375138e-15</td>\n",
       "      <td>4.483952</td>\n",
       "      <td>1.902344e-15</td>\n",
       "    </tr>\n",
       "    <tr>\n",
       "      <td>std</td>\n",
       "      <td>0.381350</td>\n",
       "      <td>1.000000e+00</td>\n",
       "      <td>1.000000e+00</td>\n",
       "      <td>1.000000e+00</td>\n",
       "      <td>2.239631</td>\n",
       "      <td>1.000000e+00</td>\n",
       "    </tr>\n",
       "    <tr>\n",
       "      <td>min</td>\n",
       "      <td>0.000000</td>\n",
       "      <td>-1.889400e+00</td>\n",
       "      <td>-2.729024e+00</td>\n",
       "      <td>-2.698599e+00</td>\n",
       "      <td>1.000000</td>\n",
       "      <td>-1.615855e+00</td>\n",
       "    </tr>\n",
       "    <tr>\n",
       "      <td>25%</td>\n",
       "      <td>1.000000</td>\n",
       "      <td>-7.194705e-01</td>\n",
       "      <td>-6.923746e-01</td>\n",
       "      <td>-6.765120e-01</td>\n",
       "      <td>3.000000</td>\n",
       "      <td>-7.619536e-01</td>\n",
       "    </tr>\n",
       "    <tr>\n",
       "      <td>50%</td>\n",
       "      <td>1.000000</td>\n",
       "      <td>-1.177924e-01</td>\n",
       "      <td>-7.767678e-02</td>\n",
       "      <td>-7.983064e-02</td>\n",
       "      <td>4.000000</td>\n",
       "      <td>-1.398600e-01</td>\n",
       "    </tr>\n",
       "    <tr>\n",
       "      <td>75%</td>\n",
       "      <td>1.000000</td>\n",
       "      <td>5.841654e-01</td>\n",
       "      <td>6.925470e-01</td>\n",
       "      <td>6.789123e-01</td>\n",
       "      <td>6.000000</td>\n",
       "      <td>6.033001e-01</td>\n",
       "    </tr>\n",
       "    <tr>\n",
       "      <td>max</td>\n",
       "      <td>1.000000</td>\n",
       "      <td>2.857172e+00</td>\n",
       "      <td>2.899534e+00</td>\n",
       "      <td>2.877793e+00</td>\n",
       "      <td>10.000000</td>\n",
       "      <td>3.160476e+00</td>\n",
       "    </tr>\n",
       "  </tbody>\n",
       "</table>\n",
       "</div>"
      ],
      "text/plain": [
       "             rated         turns  white_rating  black_rating  opening_ply  \\\n",
       "count  8007.000000  8.007000e+03  8.007000e+03  8.007000e+03  8007.000000   \n",
       "mean      0.823405 -7.416739e-17 -3.595531e-15  2.375138e-15     4.483952   \n",
       "std       0.381350  1.000000e+00  1.000000e+00  1.000000e+00     2.239631   \n",
       "min       0.000000 -1.889400e+00 -2.729024e+00 -2.698599e+00     1.000000   \n",
       "25%       1.000000 -7.194705e-01 -6.923746e-01 -6.765120e-01     3.000000   \n",
       "50%       1.000000 -1.177924e-01 -7.767678e-02 -7.983064e-02     4.000000   \n",
       "75%       1.000000  5.841654e-01  6.925470e-01  6.789123e-01     6.000000   \n",
       "max       1.000000  2.857172e+00  2.899534e+00  2.877793e+00    10.000000   \n",
       "\n",
       "          game_time  \n",
       "count  8.007000e+03  \n",
       "mean   1.902344e-15  \n",
       "std    1.000000e+00  \n",
       "min   -1.615855e+00  \n",
       "25%   -7.619536e-01  \n",
       "50%   -1.398600e-01  \n",
       "75%    6.033001e-01  \n",
       "max    3.160476e+00  "
      ]
     },
     "execution_count": 20,
     "metadata": {},
     "output_type": "execute_result"
    }
   ],
   "source": [
    "games.describe()"
   ]
  },
  {
   "cell_type": "code",
   "execution_count": 21,
   "metadata": {},
   "outputs": [
    {
     "data": {
      "text/plain": [
       "{'whiskers': [<matplotlib.lines.Line2D at 0x197d426be48>,\n",
       "  <matplotlib.lines.Line2D at 0x197d4271dc8>],\n",
       " 'caps': [<matplotlib.lines.Line2D at 0x197d4271ec8>,\n",
       "  <matplotlib.lines.Line2D at 0x197d4274d48>],\n",
       " 'boxes': [<matplotlib.lines.Line2D at 0x197d426bcc8>],\n",
       " 'medians': [<matplotlib.lines.Line2D at 0x197d4274e48>],\n",
       " 'fliers': [<matplotlib.lines.Line2D at 0x197d4277cc8>],\n",
       " 'means': []}"
      ]
     },
     "execution_count": 21,
     "metadata": {},
     "output_type": "execute_result"
    },
    {
     "data": {
      "image/png": "[encoded data removed]",
      "text/plain": [
       "<Figure size 432x288 with 1 Axes>"
      ]
     },
     "metadata": {
      "needs_background": "light"
     },
     "output_type": "display_data"
    }
   ],
   "source": [
    "plt.boxplot(games[\"turns\"])"
   ]
  },
  {
   "cell_type": "code",
   "execution_count": 22,
   "metadata": {},
   "outputs": [
    {
     "data": {
      "text/plain": [
       "{'whiskers': [<matplotlib.lines.Line2D at 0x197d42d8f48>,\n",
       "  <matplotlib.lines.Line2D at 0x197d42d8ec8>],\n",
       " 'caps': [<matplotlib.lines.Line2D at 0x197d42ddf08>,\n",
       "  <matplotlib.lines.Line2D at 0x197d42dde88>],\n",
       " 'boxes': [<matplotlib.lines.Line2D at 0x197d42d8488>],\n",
       " 'medians': [<matplotlib.lines.Line2D at 0x197d42e1e88>],\n",
       " 'fliers': [<matplotlib.lines.Line2D at 0x197d42e1f88>],\n",
       " 'means': []}"
      ]
     },
     "execution_count": 22,
     "metadata": {},
     "output_type": "execute_result"
    },
    {
     "data": {
      "image/png": "[encoded data removed]",
      "text/plain": [
       "<Figure size 432x288 with 1 Axes>"
      ]
     },
     "metadata": {
      "needs_background": "light"
     },
     "output_type": "display_data"
    }
   ],
   "source": [
    "plt.boxplot(games[\"white_rating\"])"
   ]
  },
  {
   "cell_type": "code",
   "execution_count": 23,
   "metadata": {},
   "outputs": [
    {
     "data": {
      "text/plain": [
       "{'whiskers': [<matplotlib.lines.Line2D at 0x197d433ff48>,\n",
       "  <matplotlib.lines.Line2D at 0x197d4342b08>],\n",
       " 'caps': [<matplotlib.lines.Line2D at 0x197d4342c08>,\n",
       "  <matplotlib.lines.Line2D at 0x197d4346c08>],\n",
       " 'boxes': [<matplotlib.lines.Line2D at 0x197d433f688>],\n",
       " 'medians': [<matplotlib.lines.Line2D at 0x197d4346d08>],\n",
       " 'fliers': [<matplotlib.lines.Line2D at 0x197d434bd08>],\n",
       " 'means': []}"
      ]
     },
     "execution_count": 23,
     "metadata": {},
     "output_type": "execute_result"
    },
    {
     "data": {
      "image/png": "[encoded data removed]",
      "text/plain": [
       "<Figure size 432x288 with 1 Axes>"
      ]
     },
     "metadata": {
      "needs_background": "light"
     },
     "output_type": "display_data"
    }
   ],
   "source": [
    "plt.boxplot(games[\"black_rating\"])"
   ]
  },
  {
   "cell_type": "code",
   "execution_count": 24,
   "metadata": {},
   "outputs": [
    {
     "data": {
      "text/plain": [
       "{'whiskers': [<matplotlib.lines.Line2D at 0x197d43a7a48>,\n",
       "  <matplotlib.lines.Line2D at 0x197d43a7b48>],\n",
       " 'caps': [<matplotlib.lines.Line2D at 0x197d43aca08>,\n",
       "  <matplotlib.lines.Line2D at 0x197d43acb08>],\n",
       " 'boxes': [<matplotlib.lines.Line2D at 0x197d43a2f88>],\n",
       " 'medians': [<matplotlib.lines.Line2D at 0x197d43b0988>],\n",
       " 'fliers': [<matplotlib.lines.Line2D at 0x197d43b0fc8>],\n",
       " 'means': []}"
      ]
     },
     "execution_count": 24,
     "metadata": {},
     "output_type": "execute_result"
    },
    {
     "data": {
      "image/png": "[encoded data removed]",
      "text/plain": [
       "<Figure size 432x288 with 1 Axes>"
      ]
     },
     "metadata": {
      "needs_background": "light"
     },
     "output_type": "display_data"
    }
   ],
   "source": [
    "plt.boxplot(games[\"game_time\"])"
   ]
  },
  {
   "cell_type": "code",
   "execution_count": 25,
   "metadata": {},
   "outputs": [],
   "source": [
    "games.to_csv(\"games_normalized.csv\")"
   ]
  },
  {
   "cell_type": "code",
   "execution_count": null,
   "metadata": {},
   "outputs": [],
   "source": []
  }
 ],
 "metadata": {
  "kernelspec": {
   "display_name": "Python 3",
   "language": "python",
   "name": "python3"
  },
  "language_info": {
   "codemirror_mode": {
    "name": "ipython",
    "version": 3
   },
   "file_extension": ".py",
   "mimetype": "text/x-python",
   "name": "python",
   "nbconvert_exporter": "python",
   "pygments_lexer": "ipython3",
   "version": "3.7.4"
  }
 },
 "nbformat": 4,
 "nbformat_minor": 2
}
